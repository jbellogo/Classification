{
 "cells": [
  {
   "cell_type": "code",
   "execution_count": 13,
   "id": "c131f2a8-8f53-4bbb-bac2-4422ef225aa4",
   "metadata": {},
   "outputs": [],
   "source": [
    "import pandas as pd\n",
    "import os, sys\n",
    "import matplotlib.pyplot as plt\n"
   ]
  },
  {
   "cell_type": "code",
   "execution_count": 27,
   "id": "5fbd09f6-1598-4be1-a2ca-b86abd0c2851",
   "metadata": {},
   "outputs": [],
   "source": [
    "\n",
    "\n",
    "new_dir = '/Users/juanbello/Desktop/Kaggle'\n",
    "\n",
    "sys.path.append(os.path.join(new_dir))\n",
    "\n",
    "# Load the datasets\n",
    "df_ed = pd.read_csv('education.csv') # education\n",
    "df_hh = pd.read_csv('household.csv') # education\n",
    "\n",
    "df_pov = pd.read_csv('poverty.csv') # poverty/answers\n"
   ]
  },
  {
   "cell_type": "code",
   "execution_count": 17,
   "id": "2e761bce-913d-48b3-8af1-243ca5d6ded8",
   "metadata": {},
   "outputs": [],
   "source": [
    "### Prepare Ed data\n",
    "def prepare_df(df, suffix:str):\n",
    "    uids = df['psu'].astype(str) + \"_\"  + df['hh'].astype(str) + \"_\" + df['idcode'].astype(str) \n",
    "    df =  df.drop(columns=['psu', 'hh', 'idcode'])\n",
    "    df.columns = [suffix + \"_\" + col.capitalize() for col in df.columns]\n",
    "    df.insert(0, 'uid', uids)\n",
    "    return df\n",
    "    \n",
    "df_ed = prepare_df(df_ed, 'ED')\n",
    "hh_ed = prepare_df()"
   ]
  },
  {
   "cell_type": "markdown",
   "id": "d0518016-2f39-411f-bf54-1520ab50f7e8",
   "metadata": {},
   "source": [
    "# Transform on poverty data from distribution to score for intuition"
   ]
  },
  {
   "cell_type": "code",
   "execution_count": 19,
   "id": "09e87f1d-4323-4cf6-b9d0-054d470e461b",
   "metadata": {},
   "outputs": [
    {
     "data": {
      "text/html": [
       "<div>\n",
       "<style scoped>\n",
       "    .dataframe tbody tr th:only-of-type {\n",
       "        vertical-align: middle;\n",
       "    }\n",
       "\n",
       "    .dataframe tbody tr th {\n",
       "        vertical-align: top;\n",
       "    }\n",
       "\n",
       "    .dataframe thead th {\n",
       "        text-align: right;\n",
       "    }\n",
       "</style>\n",
       "<table border=\"1\" class=\"dataframe\">\n",
       "  <thead>\n",
       "    <tr style=\"text-align: right;\">\n",
       "      <th></th>\n",
       "      <th>psu_hh_idcode</th>\n",
       "      <th>subjective_poverty_1</th>\n",
       "      <th>subjective_poverty_2</th>\n",
       "      <th>subjective_poverty_3</th>\n",
       "      <th>subjective_poverty_4</th>\n",
       "      <th>subjective_poverty_5</th>\n",
       "      <th>subjective_poverty_6</th>\n",
       "      <th>subjective_poverty_7</th>\n",
       "      <th>subjective_poverty_8</th>\n",
       "      <th>subjective_poverty_9</th>\n",
       "      <th>subjective_poverty_10</th>\n",
       "    </tr>\n",
       "  </thead>\n",
       "  <tbody>\n",
       "    <tr>\n",
       "      <th>0</th>\n",
       "      <td>30_8_1</td>\n",
       "      <td>0</td>\n",
       "      <td>0</td>\n",
       "      <td>0</td>\n",
       "      <td>1</td>\n",
       "      <td>0</td>\n",
       "      <td>0</td>\n",
       "      <td>0</td>\n",
       "      <td>0</td>\n",
       "      <td>0</td>\n",
       "      <td>0</td>\n",
       "    </tr>\n",
       "    <tr>\n",
       "      <th>1</th>\n",
       "      <td>194_1_2</td>\n",
       "      <td>1</td>\n",
       "      <td>0</td>\n",
       "      <td>0</td>\n",
       "      <td>0</td>\n",
       "      <td>0</td>\n",
       "      <td>0</td>\n",
       "      <td>0</td>\n",
       "      <td>0</td>\n",
       "      <td>0</td>\n",
       "      <td>0</td>\n",
       "    </tr>\n",
       "    <tr>\n",
       "      <th>2</th>\n",
       "      <td>224_6_1</td>\n",
       "      <td>0</td>\n",
       "      <td>0</td>\n",
       "      <td>1</td>\n",
       "      <td>0</td>\n",
       "      <td>0</td>\n",
       "      <td>0</td>\n",
       "      <td>0</td>\n",
       "      <td>0</td>\n",
       "      <td>0</td>\n",
       "      <td>0</td>\n",
       "    </tr>\n",
       "  </tbody>\n",
       "</table>\n",
       "</div>"
      ],
      "text/plain": [
       "  psu_hh_idcode  subjective_poverty_1  subjective_poverty_2  \\\n",
       "0        30_8_1                     0                     0   \n",
       "1       194_1_2                     1                     0   \n",
       "2       224_6_1                     0                     0   \n",
       "\n",
       "   subjective_poverty_3  subjective_poverty_4  subjective_poverty_5  \\\n",
       "0                     0                     1                     0   \n",
       "1                     0                     0                     0   \n",
       "2                     1                     0                     0   \n",
       "\n",
       "   subjective_poverty_6  subjective_poverty_7  subjective_poverty_8  \\\n",
       "0                     0                     0                     0   \n",
       "1                     0                     0                     0   \n",
       "2                     0                     0                     0   \n",
       "\n",
       "   subjective_poverty_9  subjective_poverty_10  \n",
       "0                     0                      0  \n",
       "1                     0                      0  \n",
       "2                     0                      0  "
      ]
     },
     "execution_count": 19,
     "metadata": {},
     "output_type": "execute_result"
    }
   ],
   "source": [
    "df_pov.head(3) # before"
   ]
  },
  {
   "cell_type": "code",
   "execution_count": 22,
   "id": "51728554-5028-47c6-bbba-4faa9eb075aa",
   "metadata": {},
   "outputs": [],
   "source": [
    "### ONLY RUN ONCE\n",
    "for i in range(1,11):\n",
    "    col = 'subjective_poverty_'+ str(i)\n",
    "    df_pov.loc[df_pov[col]==1, 'poverty_score'] = i\n",
    "\n",
    "df_pov['uid'] = df_pov['psu_hh_idcode']\n",
    "df_pov_scores = df_pov[['uid', 'poverty_score']]\n"
   ]
  },
  {
   "cell_type": "markdown",
   "id": "47fb87aa-4b37-497a-8fc5-5665c3eb7704",
   "metadata": {},
   "source": [
    "# WE can only use training data for which we have an answer (in terms of poverty score), so let's do that!\n"
   ]
  },
  {
   "cell_type": "code",
   "execution_count": null,
   "id": "a107df30-efc7-4ada-9a0d-a878e57c0e81",
   "metadata": {},
   "outputs": [],
   "source": [
    "df_ed = df_ed[df_ed['uid'].isin(df_pov_scores['uid'])]\n",
    "df_ed = df_ed.merge(df_pov_scores[['uid', 'poverty_score']], on='uid', how='left')\n"
   ]
  }
 ],
 "metadata": {
  "kernelspec": {
   "display_name": "Python 3 (ipykernel)",
   "language": "python",
   "name": "python3"
  },
  "language_info": {
   "codemirror_mode": {
    "name": "ipython",
    "version": 3
   },
   "file_extension": ".py",
   "mimetype": "text/x-python",
   "name": "python",
   "nbconvert_exporter": "python",
   "pygments_lexer": "ipython3",
   "version": "3.12.7"
  }
 },
 "nbformat": 4,
 "nbformat_minor": 5
}
