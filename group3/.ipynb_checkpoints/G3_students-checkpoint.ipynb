{
 "cells": [
  {
   "cell_type": "code",
   "execution_count": 1,
   "id": "214f8636-41ec-4d09-a2b8-f5370ba62593",
   "metadata": {},
   "outputs": [],
   "source": [
    "import pandas as pd\n",
    "import os, sys\n",
    "import matplotlib.pyplot as plt\n",
    "\n",
    "new_dir = '/Users/juanbello/Desktop/Kaggle/group3'\n",
    "\n",
    "sys.path.append(os.path.join(new_dir))\n"
   ]
  },
  {
   "cell_type": "code",
   "execution_count": 2,
   "id": "eb82b529-f4df-4fd3-ad91-e95b92b604b0",
   "metadata": {},
   "outputs": [
    {
     "data": {
      "text/html": [
       "<div>\n",
       "<style scoped>\n",
       "    .dataframe tbody tr th:only-of-type {\n",
       "        vertical-align: middle;\n",
       "    }\n",
       "\n",
       "    .dataframe tbody tr th {\n",
       "        vertical-align: top;\n",
       "    }\n",
       "\n",
       "    .dataframe thead th {\n",
       "        text-align: right;\n",
       "    }\n",
       "</style>\n",
       "<table border=\"1\" class=\"dataframe\">\n",
       "  <thead>\n",
       "    <tr style=\"text-align: right;\">\n",
       "      <th></th>\n",
       "      <th>uid</th>\n",
       "      <th>literate</th>\n",
       "      <th>attended_school</th>\n",
       "      <th>highest_school_lvl</th>\n",
       "      <th>preschool</th>\n",
       "      <th>now_enrolled</th>\n",
       "      <th>now_attending</th>\n",
       "      <th>past_enrolled</th>\n",
       "      <th>past_attending</th>\n",
       "      <th>now_not_attend_reason</th>\n",
       "      <th>...</th>\n",
       "      <th>past_not_attend_reason</th>\n",
       "      <th>past_not_enroll_reason</th>\n",
       "      <th>finish_school_age</th>\n",
       "      <th>younger_19</th>\n",
       "      <th>public_private_school</th>\n",
       "      <th>school_transportation_time</th>\n",
       "      <th>school_transportation_vehicle</th>\n",
       "      <th>school_transportation_cost</th>\n",
       "      <th>school_expenses</th>\n",
       "      <th>poverty_score</th>\n",
       "    </tr>\n",
       "  </thead>\n",
       "  <tbody>\n",
       "    <tr>\n",
       "      <th>0</th>\n",
       "      <td>441_2_3</td>\n",
       "      <td>True</td>\n",
       "      <td>1</td>\n",
       "      <td>2.0</td>\n",
       "      <td>0.0</td>\n",
       "      <td>1.0</td>\n",
       "      <td>1.0</td>\n",
       "      <td>1.0</td>\n",
       "      <td>1.0</td>\n",
       "      <td>NaN</td>\n",
       "      <td>...</td>\n",
       "      <td>NaN</td>\n",
       "      <td>NaN</td>\n",
       "      <td>NaN</td>\n",
       "      <td>NaN</td>\n",
       "      <td>1.0</td>\n",
       "      <td>40.0</td>\n",
       "      <td>1.0</td>\n",
       "      <td>NaN</td>\n",
       "      <td>140000.0</td>\n",
       "      <td>4.0</td>\n",
       "    </tr>\n",
       "    <tr>\n",
       "      <th>1</th>\n",
       "      <td>647_7_1</td>\n",
       "      <td>True</td>\n",
       "      <td>1</td>\n",
       "      <td>2.0</td>\n",
       "      <td>0.0</td>\n",
       "      <td>1.0</td>\n",
       "      <td>1.0</td>\n",
       "      <td>1.0</td>\n",
       "      <td>1.0</td>\n",
       "      <td>NaN</td>\n",
       "      <td>...</td>\n",
       "      <td>NaN</td>\n",
       "      <td>NaN</td>\n",
       "      <td>NaN</td>\n",
       "      <td>NaN</td>\n",
       "      <td>1.0</td>\n",
       "      <td>15.0</td>\n",
       "      <td>1.0</td>\n",
       "      <td>NaN</td>\n",
       "      <td>75000.0</td>\n",
       "      <td>4.0</td>\n",
       "    </tr>\n",
       "    <tr>\n",
       "      <th>2</th>\n",
       "      <td>756_4_1</td>\n",
       "      <td>True</td>\n",
       "      <td>1</td>\n",
       "      <td>2.0</td>\n",
       "      <td>0.0</td>\n",
       "      <td>1.0</td>\n",
       "      <td>1.0</td>\n",
       "      <td>1.0</td>\n",
       "      <td>1.0</td>\n",
       "      <td>NaN</td>\n",
       "      <td>...</td>\n",
       "      <td>NaN</td>\n",
       "      <td>NaN</td>\n",
       "      <td>NaN</td>\n",
       "      <td>NaN</td>\n",
       "      <td>1.0</td>\n",
       "      <td>6.0</td>\n",
       "      <td>1.0</td>\n",
       "      <td>NaN</td>\n",
       "      <td>100000.0</td>\n",
       "      <td>6.0</td>\n",
       "    </tr>\n",
       "  </tbody>\n",
       "</table>\n",
       "<p>3 rows × 21 columns</p>\n",
       "</div>"
      ],
      "text/plain": [
       "       uid  literate  attended_school  highest_school_lvl  preschool  \\\n",
       "0  441_2_3      True                1                 2.0        0.0   \n",
       "1  647_7_1      True                1                 2.0        0.0   \n",
       "2  756_4_1      True                1                 2.0        0.0   \n",
       "\n",
       "   now_enrolled  now_attending  past_enrolled  past_attending  \\\n",
       "0           1.0            1.0            1.0             1.0   \n",
       "1           1.0            1.0            1.0             1.0   \n",
       "2           1.0            1.0            1.0             1.0   \n",
       "\n",
       "   now_not_attend_reason  ...  past_not_attend_reason  past_not_enroll_reason  \\\n",
       "0                    NaN  ...                     NaN                     NaN   \n",
       "1                    NaN  ...                     NaN                     NaN   \n",
       "2                    NaN  ...                     NaN                     NaN   \n",
       "\n",
       "   finish_school_age  younger_19  public_private_school  \\\n",
       "0                NaN         NaN                    1.0   \n",
       "1                NaN         NaN                    1.0   \n",
       "2                NaN         NaN                    1.0   \n",
       "\n",
       "   school_transportation_time  school_transportation_vehicle  \\\n",
       "0                        40.0                            1.0   \n",
       "1                        15.0                            1.0   \n",
       "2                         6.0                            1.0   \n",
       "\n",
       "   school_transportation_cost  school_expenses  poverty_score  \n",
       "0                         NaN         140000.0            4.0  \n",
       "1                         NaN          75000.0            4.0  \n",
       "2                         NaN         100000.0            6.0  \n",
       "\n",
       "[3 rows x 21 columns]"
      ]
     },
     "execution_count": 2,
     "metadata": {},
     "output_type": "execute_result"
    }
   ],
   "source": [
    "ed = pd.read_csv('ed_train_g3.csv') # education\n",
    "ed.head(3)"
   ]
  },
  {
   "cell_type": "markdown",
   "id": "9b1e8778-244e-45ec-b382-75a1d1fa41d7",
   "metadata": {},
   "source": [
    "# Preliminary Variable Selection\n"
   ]
  },
  {
   "cell_type": "code",
   "execution_count": 4,
   "id": "8f575c1b-1215-4a29-8b1a-1162b548b261",
   "metadata": {},
   "outputs": [
    {
     "data": {
      "text/plain": [
       "Index(['uid', 'literate', 'attended_school', 'highest_school_lvl', 'preschool',\n",
       "       'now_enrolled', 'now_attending', 'past_enrolled', 'past_attending',\n",
       "       'now_not_attend_reason', 'now_not_enroll_reason',\n",
       "       'past_not_attend_reason', 'past_not_enroll_reason', 'finish_school_age',\n",
       "       'younger_19', 'public_private_school', 'school_transportation_time',\n",
       "       'school_transportation_vehicle', 'school_transportation_cost',\n",
       "       'school_expenses', 'poverty_score'],\n",
       "      dtype='object')"
      ]
     },
     "execution_count": 4,
     "metadata": {},
     "output_type": "execute_result"
    }
   ],
   "source": [
    "ed.columns"
   ]
  },
  {
   "cell_type": "code",
   "execution_count": 5,
   "id": "eeaddfa8-b9f7-4daf-93db-4a70ce6a1c83",
   "metadata": {},
   "outputs": [],
   "source": [
    "# All students are literate\n",
    "# All students attended school\n",
    "ed = ed.drop(columns=['literate', 'attended_school'])\n"
   ]
  },
  {
   "cell_type": "code",
   "execution_count": 6,
   "id": "9bb35cb2-c7d4-4b29-abf7-4331d49e9574",
   "metadata": {},
   "outputs": [
    {
     "data": {
      "text/html": [
       "<div>\n",
       "<style scoped>\n",
       "    .dataframe tbody tr th:only-of-type {\n",
       "        vertical-align: middle;\n",
       "    }\n",
       "\n",
       "    .dataframe tbody tr th {\n",
       "        vertical-align: top;\n",
       "    }\n",
       "\n",
       "    .dataframe thead th {\n",
       "        text-align: right;\n",
       "    }\n",
       "</style>\n",
       "<table border=\"1\" class=\"dataframe\">\n",
       "  <thead>\n",
       "    <tr style=\"text-align: right;\">\n",
       "      <th></th>\n",
       "      <th>now_attending</th>\n",
       "      <th>past_attending</th>\n",
       "      <th>now_enrolled</th>\n",
       "      <th>past_enrolled</th>\n",
       "    </tr>\n",
       "  </thead>\n",
       "  <tbody>\n",
       "    <tr>\n",
       "      <th>0</th>\n",
       "      <td>1.0</td>\n",
       "      <td>1.0</td>\n",
       "      <td>1.0</td>\n",
       "      <td>1.0</td>\n",
       "    </tr>\n",
       "    <tr>\n",
       "      <th>1</th>\n",
       "      <td>1.0</td>\n",
       "      <td>1.0</td>\n",
       "      <td>1.0</td>\n",
       "      <td>1.0</td>\n",
       "    </tr>\n",
       "    <tr>\n",
       "      <th>2</th>\n",
       "      <td>1.0</td>\n",
       "      <td>1.0</td>\n",
       "      <td>1.0</td>\n",
       "      <td>1.0</td>\n",
       "    </tr>\n",
       "  </tbody>\n",
       "</table>\n",
       "</div>"
      ],
      "text/plain": [
       "   now_attending  past_attending  now_enrolled  past_enrolled\n",
       "0            1.0             1.0           1.0            1.0\n",
       "1            1.0             1.0           1.0            1.0\n",
       "2            1.0             1.0           1.0            1.0"
      ]
     },
     "execution_count": 6,
     "metadata": {},
     "output_type": "execute_result"
    }
   ],
   "source": [
    "ed[['now_attending', 'past_attending', 'now_enrolled', 'past_enrolled']].head(3)"
   ]
  },
  {
   "cell_type": "code",
   "execution_count": 7,
   "id": "0a8e8cc9-0cf4-4a74-84b6-3a39e86f4775",
   "metadata": {},
   "outputs": [],
   "source": [
    "# enrollment and attendance past and present:\n",
    "\n",
    "ed['now_attending'] = ed['now_attending'].fillna(ed['now_enrolled'])\n",
    "ed['past_attending'] = ed['past_attending'].fillna(ed['past_enrolled'])\n",
    "\n",
    "# We only care if they missed at least one year in the past 2.\n",
    "missed_year = ed['now_attending'].eq(2) | ed['past_attending'].eq(2) \n",
    "ed.loc[missed_year, 'Missed_year'] = True\n",
    "ed.loc[~missed_year, 'Missed_year'] = False\n",
    "\n",
    "ed =  ed.drop(columns=['now_enrolled', 'past_enrolled', 'past_attending', 'now_attending'])\n"
   ]
  },
  {
   "cell_type": "markdown",
   "id": "eb3b6ccb-019c-4f00-919e-bd60eae6ddbd",
   "metadata": {},
   "source": [
    "# absence reasons:"
   ]
  },
  {
   "cell_type": "code",
   "execution_count": 9,
   "id": "761eb27f-f40b-4535-8d59-a9c1209bf611",
   "metadata": {},
   "outputs": [],
   "source": [
    "\n",
    "ed.loc[ed['now_not_attend_reason'] == 13, 'now_not_attend_reason'] = 14\n",
    "ed.loc[ed['past_not_attend_reason'] == 13, 'past_not_attend_reason'] = 14\n",
    "\n",
    "# We have situations where someone enrolls but does not attend.\n",
    "# We don't have situations when someone who did not enroll attends. \n",
    "# So use attend as base truth and fill some of the NaNs with enrolled.\n",
    "ed['now_not_attend_reason'] = ed['now_not_attend_reason'].fillna(ed['now_not_enroll_reason'])\n",
    "ed['past_not_attend_reason'] = ed['past_not_attend_reason'].fillna(ed['past_not_enroll_reason'])\n",
    "\n",
    "ed = ed.drop(columns=['now_not_enroll_reason', 'past_not_enroll_reason'])"
   ]
  },
  {
   "cell_type": "code",
   "execution_count": 10,
   "id": "30ed55d9-dd90-4cbf-862f-519fcd425b8b",
   "metadata": {},
   "outputs": [],
   "source": [
    "ed['now_not_attend_reason'] = ed['now_not_attend_reason'].fillna(0)\n",
    "ed['past_not_attend_reason'] = ed['past_not_attend_reason'].fillna(0)"
   ]
  },
  {
   "cell_type": "code",
   "execution_count": 11,
   "id": "da5bc79d-115d-470b-80f3-f0b8a9d30bd9",
   "metadata": {},
   "outputs": [],
   "source": [
    "# cols = ['now_not_attend_reason', 'past_not_attend_reason']\n",
    "# data = ed[cols]\n",
    "# data.loc[data['now_not_attend_reason'].ne(data['past_not_attend_reason']), cols]"
   ]
  },
  {
   "cell_type": "code",
   "execution_count": 12,
   "id": "bd72378e-95e4-49f9-bb70-2825621f2921",
   "metadata": {},
   "outputs": [],
   "source": [
    "# Now apply transform reasons to the financial scale\n",
    "ABSENCE_REASON_TO_MONEY_MAPPING = [0, 3,1,3,3,1,1,1,2,2,1,1,2,1,1]\n",
    "\n",
    "ed['now_not_attend_reason'] =  ed['now_not_attend_reason'].apply(lambda indx : ABSENCE_REASON_TO_MONEY_MAPPING[int(indx)])\n",
    "ed['past_not_attend_reason'] =  ed['past_not_attend_reason'].apply(lambda indx : ABSENCE_REASON_TO_MONEY_MAPPING[int(indx)])"
   ]
  },
  {
   "cell_type": "code",
   "execution_count": 13,
   "id": "97da4c0a-fb45-4417-b121-963f380d1a4d",
   "metadata": {},
   "outputs": [],
   "source": [
    "# Now the merge between now_not_attend_reason and past_not_attend_reason becomes obvious for our purposes of predicting wealth: pick the maximum. \n",
    "ed['not_attend_reason'] =  ed.apply(lambda row: max(row['past_not_attend_reason'], row['now_not_attend_reason']), axis=1)\n"
   ]
  },
  {
   "cell_type": "code",
   "execution_count": 14,
   "id": "a74cf828-e1b1-49fd-be36-3104b76ea4de",
   "metadata": {},
   "outputs": [],
   "source": [
    "ed = ed.drop(columns=['now_not_attend_reason', 'past_not_attend_reason'])"
   ]
  },
  {
   "cell_type": "code",
   "execution_count": 15,
   "id": "204554be-f6db-4938-aaef-0780ba54fc1c",
   "metadata": {},
   "outputs": [],
   "source": [
    "# Now we need to merge Missed_year? and not_attend_reason into one variate\n",
    "\n",
    "## CLAIM: Missed_year==False <-> not_attend_reason=0\n",
    "claim = ed['Missed_year'].eq(False) & ed['not_attend_reason'].ne(0)\n",
    "assert(len(ed[claim])==0)\n",
    "\n",
    "## DONE: So they are already dependent!! No need to do anything other than delete missed_year?\n",
    "\n",
    "# The meaning of this not_attend_reason variable in the FINAL TRANSFORM ED_T4 is: \n",
    "# It represents what happened in the last couple of years\n",
    "# 0 if the kid attended both years to school\n",
    "# 1 if the kid missed at least one year due to something, in the worse case scenario, (NOT) related to money\n",
    "# 2 if the kid missed at least one year due to something, in the worse case scenario, (SOMEWHAT) related to money\n",
    "# 3 if the kid missed at least one year due to something, in the worse case scenario, (DIRECTLY) related to money\n"
   ]
  },
  {
   "cell_type": "code",
   "execution_count": 16,
   "id": "1ae418a8-a22a-469d-aeb2-bf4fc0d899e0",
   "metadata": {},
   "outputs": [],
   "source": [
    "ed = ed.drop(columns=['Missed_year'])"
   ]
  },
  {
   "cell_type": "markdown",
   "id": "8b54da85-9457-4775-9105-0c5462f5f78c",
   "metadata": {},
   "source": [
    "# Highest School lvl"
   ]
  },
  {
   "cell_type": "code",
   "execution_count": 18,
   "id": "28540482-5624-434f-aa12-fa8b20b9fbe9",
   "metadata": {},
   "outputs": [
    {
     "data": {
      "text/plain": [
       "count    1601.000000\n",
       "mean        1.931293\n",
       "std         1.498007\n",
       "min         1.000000\n",
       "25%         1.000000\n",
       "50%         1.000000\n",
       "75%         2.000000\n",
       "max        10.000000\n",
       "Name: highest_school_lvl, dtype: float64"
      ]
     },
     "execution_count": 18,
     "metadata": {},
     "output_type": "execute_result"
    }
   ],
   "source": [
    "ed['highest_school_lvl'].describe()"
   ]
  },
  {
   "cell_type": "code",
   "execution_count": 19,
   "id": "0986f5ac-8a95-4a44-9046-f6b44deb9006",
   "metadata": {},
   "outputs": [],
   "source": [
    "Q4_education_mapping = [0, 1, 2, 3, 4, 4, 5, 5, 6, 6, 7, 7] # just gives the same values to same degrees (no matter where they were studied)\n",
    "ed['highest_school_lvl'] =  ed['highest_school_lvl'].apply(lambda indx : indx if pd.isna(indx) else Q4_education_mapping[int(indx)])\n",
    "\n",
    "## fill out NaN values with standarized mean\n",
    "mean = int(ed['highest_school_lvl'].mean())\n",
    "ed['highest_school_lvl'] = ed['highest_school_lvl'].fillna(mean)\n"
   ]
  },
  {
   "cell_type": "code",
   "execution_count": 20,
   "id": "ea5244bd-ee2b-45ee-95ac-3b0fe55cc25a",
   "metadata": {},
   "outputs": [
    {
     "data": {
      "text/plain": [
       "count    1601.000000\n",
       "mean        1.814491\n",
       "std         1.200496\n",
       "min         1.000000\n",
       "25%         1.000000\n",
       "50%         1.000000\n",
       "75%         2.000000\n",
       "max         7.000000\n",
       "Name: highest_school_lvl, dtype: float64"
      ]
     },
     "execution_count": 20,
     "metadata": {},
     "output_type": "execute_result"
    }
   ],
   "source": [
    "ed['highest_school_lvl'].describe()"
   ]
  },
  {
   "cell_type": "markdown",
   "id": "a39074d3-2112-42f3-8caf-2d6f66cea1a3",
   "metadata": {},
   "source": [
    "# Preschool?"
   ]
  },
  {
   "cell_type": "code",
   "execution_count": 22,
   "id": "9220c488-6a18-44bd-b582-41cec16b4812",
   "metadata": {},
   "outputs": [
    {
     "data": {
      "text/html": [
       "<div>\n",
       "<style scoped>\n",
       "    .dataframe tbody tr th:only-of-type {\n",
       "        vertical-align: middle;\n",
       "    }\n",
       "\n",
       "    .dataframe tbody tr th {\n",
       "        vertical-align: top;\n",
       "    }\n",
       "\n",
       "    .dataframe thead th {\n",
       "        text-align: right;\n",
       "    }\n",
       "</style>\n",
       "<table border=\"1\" class=\"dataframe\">\n",
       "  <thead>\n",
       "    <tr style=\"text-align: right;\">\n",
       "      <th></th>\n",
       "      <th>uid</th>\n",
       "      <th>highest_school_lvl</th>\n",
       "      <th>preschool</th>\n",
       "      <th>finish_school_age</th>\n",
       "      <th>younger_19</th>\n",
       "      <th>public_private_school</th>\n",
       "      <th>school_transportation_time</th>\n",
       "      <th>school_transportation_vehicle</th>\n",
       "      <th>school_transportation_cost</th>\n",
       "      <th>school_expenses</th>\n",
       "      <th>poverty_score</th>\n",
       "      <th>not_attend_reason</th>\n",
       "    </tr>\n",
       "  </thead>\n",
       "  <tbody>\n",
       "  </tbody>\n",
       "</table>\n",
       "</div>"
      ],
      "text/plain": [
       "Empty DataFrame\n",
       "Columns: [uid, highest_school_lvl, preschool, finish_school_age, younger_19, public_private_school, school_transportation_time, school_transportation_vehicle, school_transportation_cost, school_expenses, poverty_score, not_attend_reason]\n",
       "Index: []"
      ]
     },
     "execution_count": 22,
     "metadata": {},
     "output_type": "execute_result"
    }
   ],
   "source": [
    "cond = ed['preschool'].isna()\n",
    "ed[cond]"
   ]
  },
  {
   "cell_type": "markdown",
   "id": "5869a1a1-16c0-43a4-bdaa-8d77b70e9469",
   "metadata": {},
   "source": [
    "# finish_school_age, younger_19\n",
    " don't make sense. we will have the age from hh"
   ]
  },
  {
   "cell_type": "code",
   "execution_count": 24,
   "id": "6f06ea16-be56-4f2e-a45b-6c3c29cf7354",
   "metadata": {},
   "outputs": [],
   "source": [
    "ed = ed.drop(columns=['finish_school_age', 'younger_19'])"
   ]
  },
  {
   "cell_type": "markdown",
   "id": "acd9c5ee-dcc5-4c2c-9bc7-5d5ce7bf9b95",
   "metadata": {},
   "source": [
    "# public_private_school\n",
    "Q23: Is the school that [Name] attend in public or private?\n",
    "\n",
    "* PUBLIC\t= 1\n",
    "* PRIVATE RELIGIOUS\t= 2\n",
    "* PRIVATE NON-RELIGIOUS\t= 3\n",
    "\n",
    "I like this ordering because, apparently, \"Non-religious private schools are more expensive than religious private schools on average\"\n",
    "\n",
    "NaN replacement: \n",
    "AVERAGE because average assigns a more conservative value to NaN. A zero on this new scale is still the 25th quantile so it is biased towards poverty ya know.\n",
    "\n",
    "But indicator variables have the potential to model the relatinsip better than by increases in 1... \n",
    "**everytime you want to make up a scale think of this: can I do it bettern than a machine?**"
   ]
  },
  {
   "cell_type": "code",
   "execution_count": 26,
   "id": "547a7566-f38b-4bba-9981-51a384ccd8df",
   "metadata": {},
   "outputs": [],
   "source": [
    "ed['public_private_school'] = ed['public_private_school'].fillna(0) # no data avaliable\n",
    "dummies = pd.get_dummies(ed['public_private_school'], prefix='school_type', drop_first=True)\n",
    "ed = pd.concat([ed, dummies], axis=1)\n"
   ]
  },
  {
   "cell_type": "code",
   "execution_count": 27,
   "id": "ea149415-6227-4acc-92dd-6ed76197c660",
   "metadata": {},
   "outputs": [],
   "source": [
    "ed = ed.drop(columns=['public_private_school'])"
   ]
  },
  {
   "cell_type": "markdown",
   "id": "b7d28a84-edfa-45ff-86ef-855d5eafb5e6",
   "metadata": {},
   "source": [
    "# Transportation !!!!\n",
    "\n",
    "Just transform into indicator variables!!!!! see what happens "
   ]
  },
  {
   "cell_type": "code",
   "execution_count": 29,
   "id": "5f01fd26-1d4e-46cf-b260-705e8556bb87",
   "metadata": {},
   "outputs": [],
   "source": [
    "dummies = pd.get_dummies(ed['school_transportation_vehicle'], prefix='transport', drop_first=True)\n",
    "ed = pd.concat([ed, dummies], axis=1)\n"
   ]
  },
  {
   "cell_type": "code",
   "execution_count": 30,
   "id": "f2b8a9a7-3ccf-4798-b528-e4862357c08e",
   "metadata": {},
   "outputs": [],
   "source": [
    "ed = ed.drop(columns=['school_transportation_vehicle'])"
   ]
  },
  {
   "cell_type": "code",
   "execution_count": 31,
   "id": "b37fa6b2-aec1-48b2-864a-848f2dd4b8b9",
   "metadata": {},
   "outputs": [],
   "source": [
    "# transportation_mapping = [float('nan'), 2, 1, float('nan'), 4, 3, float('nan'), float('nan')]\n",
    "\n",
    "# ed['school_transportation_vehicle'] = ed['school_transportation_vehicle'].apply(lambda indx: indx if pd.isna(indx) else transportation_mapping[int(indx)] )\n",
    "# av = int(ed['school_transportation_vehicle'].mean())\n",
    "# ed['school_transportation_vehicle'] = ed['school_transportation_vehicle'].fillna(av)\n",
    "\n"
   ]
  },
  {
   "cell_type": "code",
   "execution_count": 32,
   "id": "a5546ce2-aee3-47ac-a084-cc94be61dabe",
   "metadata": {},
   "outputs": [],
   "source": [
    "av = int(ed['school_transportation_time'].mean())\n",
    "ed['school_transportation_time'] = ed['school_transportation_time'].fillna(av)\n",
    "\n",
    "# because they are kids so they probably feel like the cost is 0\n",
    "ed['school_transportation_cost'] = ed['school_transportation_cost'].fillna(0)"
   ]
  },
  {
   "cell_type": "markdown",
   "id": "ed6501ea-0ff2-410e-b40e-877711f26422",
   "metadata": {},
   "source": [
    "# school_expenses"
   ]
  },
  {
   "cell_type": "code",
   "execution_count": 34,
   "id": "42f77597-aac3-48e3-886c-96e67a2d8331",
   "metadata": {},
   "outputs": [],
   "source": [
    "av = int(ed['school_expenses'].mean())\n",
    "ed['school_expenses'] = ed['school_expenses'].fillna(av)\n"
   ]
  },
  {
   "cell_type": "markdown",
   "id": "eaa5a495-1660-4395-9df8-4794d1d62b13",
   "metadata": {},
   "source": [
    "#### DONE!!! with ed"
   ]
  },
  {
   "cell_type": "markdown",
   "id": "38103bf0-6dd7-4b62-850d-f67e4d3ddafa",
   "metadata": {},
   "source": [
    "# Household data"
   ]
  },
  {
   "cell_type": "code",
   "execution_count": 37,
   "id": "23171235-419b-43f1-9098-370fc6c4977a",
   "metadata": {},
   "outputs": [],
   "source": [
    "hh = pd.read_csv('hh_train_g3.csv') # household\n"
   ]
  },
  {
   "cell_type": "code",
   "execution_count": null,
   "id": "34d2a1cb-24cc-4239-b87f-90cceeb8b193",
   "metadata": {},
   "outputs": [],
   "source": []
  },
  {
   "cell_type": "code",
   "execution_count": 38,
   "id": "0796b7a8-d252-47fd-93a3-23a19e8d5aa7",
   "metadata": {},
   "outputs": [
    {
     "data": {
      "text/html": [
       "<div>\n",
       "<style scoped>\n",
       "    .dataframe tbody tr th:only-of-type {\n",
       "        vertical-align: middle;\n",
       "    }\n",
       "\n",
       "    .dataframe tbody tr th {\n",
       "        vertical-align: top;\n",
       "    }\n",
       "\n",
       "    .dataframe thead th {\n",
       "        text-align: right;\n",
       "    }\n",
       "</style>\n",
       "<table border=\"1\" class=\"dataframe\">\n",
       "  <thead>\n",
       "    <tr style=\"text-align: right;\">\n",
       "      <th></th>\n",
       "      <th>uid</th>\n",
       "      <th>poverty_score</th>\n",
       "      <th>sex</th>\n",
       "      <th>family_role</th>\n",
       "      <th>age</th>\n",
       "      <th>marital_status</th>\n",
       "      <th>spouse_lives</th>\n",
       "      <th>time_away</th>\n",
       "      <th>lives_with_mom</th>\n",
       "      <th>moms_education</th>\n",
       "      <th>mom_alive</th>\n",
       "      <th>lives_with_dad</th>\n",
       "      <th>dad_education</th>\n",
       "      <th>dad_alive</th>\n",
       "    </tr>\n",
       "  </thead>\n",
       "  <tbody>\n",
       "  </tbody>\n",
       "</table>\n",
       "</div>"
      ],
      "text/plain": [
       "Empty DataFrame\n",
       "Columns: [uid, poverty_score, sex, family_role, age, marital_status, spouse_lives, time_away, lives_with_mom, moms_education, mom_alive, lives_with_dad, dad_education, dad_alive]\n",
       "Index: []"
      ]
     },
     "execution_count": 38,
     "metadata": {},
     "output_type": "execute_result"
    }
   ],
   "source": [
    "# leave sex as is\n",
    "nans = hh['sex'].isna()\n",
    "hh[nans]"
   ]
  },
  {
   "cell_type": "markdown",
   "id": "fb05700e-769a-4b22-9cd2-3ebc8276153b",
   "metadata": {},
   "source": [
    "# family role"
   ]
  },
  {
   "cell_type": "code",
   "execution_count": 40,
   "id": "e59366fb-d86e-46ab-934d-e6bcba569826",
   "metadata": {},
   "outputs": [],
   "source": [
    "# hh['frequency'] = hh.groupby(['family_role', 'poverty_score'])['family_role'].transform('count')\n",
    "\n",
    "# # Normalize the frequencies for color mapping\n",
    "# max_freq = hh['frequency'].max()\n",
    "# hh['normalized_frequency'] = hh['frequency'] / max_freq\n",
    "\n",
    "# # Scatterplot\n",
    "# plt.scatter(\n",
    "#     hh['family_role'], \n",
    "#     hh['poverty_score'], \n",
    "#     c=hh['normalized_frequency'],  # Use normalized frequency for color\n",
    "#     cmap='Blues',                  # Choose a colormap\n",
    "#     edgecolor='black', \n",
    "#     s=100, \n",
    "#     alpha=0.8\n",
    "# )\n",
    "\n"
   ]
  },
  {
   "cell_type": "markdown",
   "id": "c38022bb-0ab1-411f-b5c5-064eeef7ff41",
   "metadata": {},
   "source": [
    "# marital_status \n",
    "just make it into 5 indicator variables. \n",
    "\n"
   ]
  },
  {
   "cell_type": "code",
   "execution_count": 42,
   "id": "f8bbc3b9-901a-4858-8598-ec14d9b567b1",
   "metadata": {},
   "outputs": [],
   "source": [
    "# dummies = pd.get_dummies(hh['marital_status'], prefix='marital', drop_first=True)\n",
    "# ed = pd.concat([ed, dummies], axis=1)\n"
   ]
  },
  {
   "cell_type": "code",
   "execution_count": null,
   "id": "cf783ae9-3391-4e7d-b9b1-450569bcbd16",
   "metadata": {},
   "outputs": [],
   "source": []
  },
  {
   "cell_type": "code",
   "execution_count": 43,
   "id": "06742fac-9236-4f4b-84d7-7367c888fac5",
   "metadata": {},
   "outputs": [],
   "source": [
    "# hh['frequency'] = hh.groupby(['marital_status', 'poverty_score'])['marital_status'].transform('count')\n",
    "\n",
    "# # Normalize the frequencies for color mapping\n",
    "# max_freq = hh['frequency'].max()\n",
    "# hh['normalized_frequency'] = hh['frequency'] / max_freq\n",
    "\n",
    "# # Scatterplot\n",
    "# plt.scatter(\n",
    "#     hh['marital_status'], \n",
    "#     hh['poverty_score'], \n",
    "#     c=hh['normalized_frequency'],  # Use normalized frequency for color\n",
    "#     cmap='Blues',                  # Choose a colormap\n",
    "#     edgecolor='black', \n",
    "#     s=100, \n",
    "#     alpha=0.8\n",
    "# )\n",
    "\n",
    "# # get rid of it \n",
    "# hh = hh.drop(columns=['frequency', 'marital_status', 'normalized_frequency'])"
   ]
  },
  {
   "cell_type": "code",
   "execution_count": 44,
   "id": "2952094f-3749-46a1-9f83-6726530a6afd",
   "metadata": {},
   "outputs": [],
   "source": [
    "# get rid of both\n",
    "hh = hh.drop(columns=['marital_status', 'family_role'])"
   ]
  },
  {
   "cell_type": "code",
   "execution_count": 45,
   "id": "db4da0f8-678a-4fe7-a891-1f68238d68a5",
   "metadata": {},
   "outputs": [],
   "source": [
    "hh['lives_with_partner'] = hh['spouse_lives'].eq(1)\n",
    "hh = hh.drop(columns=['spouse_lives'])"
   ]
  },
  {
   "cell_type": "code",
   "execution_count": 46,
   "id": "c0b249cf-0347-4990-8a91-4c433d73e84f",
   "metadata": {},
   "outputs": [],
   "source": [
    "# hh['frequency'] = hh.groupby(['lives_with_partner', 'poverty_score'])['lives_with_partner'].transform('count')\n",
    "\n",
    "# # Normalize the frequencies for color mapping\n",
    "# max_freq = hh['frequency'].max()\n",
    "# hh['normalized_frequency'] = hh['frequency'] / max_freq\n",
    "\n",
    "# # Scatterplot\n",
    "# plt.scatter(\n",
    "#     hh['lives_with_partner'], \n",
    "#     hh['poverty_score'], \n",
    "#     c=hh['normalized_frequency'],  # Use normalized frequency for color\n",
    "#     cmap='Blues',                  # Choose a colormap\n",
    "#     edgecolor='black', \n",
    "#     s=100, \n",
    "#     alpha=0.8\n",
    "# )\n"
   ]
  },
  {
   "cell_type": "markdown",
   "id": "d7b28bd8-8b96-43af-ae1e-542a01bf4b82",
   "metadata": {},
   "source": [
    "# time away is good"
   ]
  },
  {
   "cell_type": "code",
   "execution_count": 48,
   "id": "5dad1b4b-64ef-47ab-869b-84bd2a656a7c",
   "metadata": {},
   "outputs": [],
   "source": [
    "hh['lives_with_parent'] = hh['lives_with_mom'].eq(1) | hh['lives_with_dad'].eq(1)\n",
    "hh = hh.drop(columns=['lives_with_mom', 'lives_with_dad'])"
   ]
  },
  {
   "cell_type": "code",
   "execution_count": 49,
   "id": "6ef5cd56-c2ee-4e21-8f39-1d41b946f2e8",
   "metadata": {},
   "outputs": [],
   "source": [
    "hh['parents_education'] = (hh['moms_education'] + hh['dad_education']) / 2\n",
    "ave = hh['parents_education'].mean()\n",
    "hh['parents_education'] = hh['parents_education'].fillna(ave)\n",
    "\n",
    "hh = hh.drop(columns=['moms_education', 'dad_education'])"
   ]
  },
  {
   "cell_type": "code",
   "execution_count": 50,
   "id": "17dba940-d4b1-4f29-b187-0745254774d2",
   "metadata": {},
   "outputs": [],
   "source": [
    "# parents alive \n",
    "hh['mom_alive'] = hh['mom_alive'].eq(1)\n",
    "hh['dad_alive'] = hh['dad_alive'].eq(1)\n",
    "hh['mom_alive'] = hh['mom_alive'].apply(lambda boo: 1 if boo else 0)\n",
    "hh['dad_alive'] = hh['dad_alive'].apply(lambda boo: 1 if boo else 0)\n",
    "\n",
    "hh['num_parents_alive'] = hh['mom_alive'] + hh['dad_alive']\n",
    "hh = hh.drop(columns=['mom_alive', 'dad_alive'])"
   ]
  },
  {
   "cell_type": "markdown",
   "id": "64958420-b5e0-42a5-a26a-3b52cfee9c74",
   "metadata": {},
   "source": [
    "# DONE"
   ]
  },
  {
   "cell_type": "code",
   "execution_count": 52,
   "id": "ae09b2e5-5a40-40e1-8c2f-31871a602a48",
   "metadata": {},
   "outputs": [],
   "source": [
    "df = pd.merge(ed, hh, on='uid', how='inner')  # Use 'inner' join by default\n",
    "# y = pd.get_dummies(df['poverty_score_y'], prefix='poverty', drop_first=False, dtype=int)\n",
    "y = df['poverty_score_y']"
   ]
  },
  {
   "cell_type": "code",
   "execution_count": 53,
   "id": "14610433-30c6-4e1f-9061-5e50f7118893",
   "metadata": {},
   "outputs": [],
   "source": [
    "df = df.drop(columns=['poverty_score_x', 'poverty_score_y'])"
   ]
  },
  {
   "cell_type": "code",
   "execution_count": 54,
   "id": "6476170c-81fe-46ba-8461-4682e3e0de97",
   "metadata": {},
   "outputs": [],
   "source": [
    "df.to_csv('X.csv', index=False)\n",
    "y.to_csv('y.csv', index=False)"
   ]
  },
  {
   "cell_type": "code",
   "execution_count": 55,
   "id": "db7b62ab-e019-44b4-8eb8-6688563fc36c",
   "metadata": {},
   "outputs": [
    {
     "data": {
      "text/html": [
       "<div>\n",
       "<style scoped>\n",
       "    .dataframe tbody tr th:only-of-type {\n",
       "        vertical-align: middle;\n",
       "    }\n",
       "\n",
       "    .dataframe tbody tr th {\n",
       "        vertical-align: top;\n",
       "    }\n",
       "\n",
       "    .dataframe thead th {\n",
       "        text-align: right;\n",
       "    }\n",
       "</style>\n",
       "<table border=\"1\" class=\"dataframe\">\n",
       "  <thead>\n",
       "    <tr style=\"text-align: right;\">\n",
       "      <th></th>\n",
       "      <th>uid</th>\n",
       "      <th>highest_school_lvl</th>\n",
       "      <th>preschool</th>\n",
       "      <th>school_transportation_time</th>\n",
       "      <th>school_transportation_cost</th>\n",
       "      <th>school_expenses</th>\n",
       "      <th>not_attend_reason</th>\n",
       "      <th>school_type_1.0</th>\n",
       "      <th>school_type_3.0</th>\n",
       "      <th>transport_2.0</th>\n",
       "      <th>transport_4.0</th>\n",
       "      <th>transport_5.0</th>\n",
       "      <th>sex</th>\n",
       "      <th>age</th>\n",
       "      <th>time_away</th>\n",
       "      <th>lives_with_partner</th>\n",
       "      <th>lives_with_parent</th>\n",
       "      <th>parents_education</th>\n",
       "      <th>num_parents_alive</th>\n",
       "    </tr>\n",
       "  </thead>\n",
       "  <tbody>\n",
       "    <tr>\n",
       "      <th>0</th>\n",
       "      <td>441_2_3</td>\n",
       "      <td>2</td>\n",
       "      <td>0.0</td>\n",
       "      <td>40.0</td>\n",
       "      <td>0.0</td>\n",
       "      <td>140000.0</td>\n",
       "      <td>0</td>\n",
       "      <td>True</td>\n",
       "      <td>False</td>\n",
       "      <td>False</td>\n",
       "      <td>False</td>\n",
       "      <td>False</td>\n",
       "      <td>1</td>\n",
       "      <td>19</td>\n",
       "      <td>0</td>\n",
       "      <td>False</td>\n",
       "      <td>True</td>\n",
       "      <td>2.145105</td>\n",
       "      <td>0</td>\n",
       "    </tr>\n",
       "    <tr>\n",
       "      <th>1</th>\n",
       "      <td>647_7_1</td>\n",
       "      <td>2</td>\n",
       "      <td>0.0</td>\n",
       "      <td>15.0</td>\n",
       "      <td>0.0</td>\n",
       "      <td>75000.0</td>\n",
       "      <td>0</td>\n",
       "      <td>True</td>\n",
       "      <td>False</td>\n",
       "      <td>False</td>\n",
       "      <td>False</td>\n",
       "      <td>False</td>\n",
       "      <td>1</td>\n",
       "      <td>19</td>\n",
       "      <td>0</td>\n",
       "      <td>False</td>\n",
       "      <td>True</td>\n",
       "      <td>2.145105</td>\n",
       "      <td>0</td>\n",
       "    </tr>\n",
       "    <tr>\n",
       "      <th>2</th>\n",
       "      <td>756_4_1</td>\n",
       "      <td>2</td>\n",
       "      <td>0.0</td>\n",
       "      <td>6.0</td>\n",
       "      <td>0.0</td>\n",
       "      <td>100000.0</td>\n",
       "      <td>0</td>\n",
       "      <td>True</td>\n",
       "      <td>False</td>\n",
       "      <td>False</td>\n",
       "      <td>False</td>\n",
       "      <td>False</td>\n",
       "      <td>2</td>\n",
       "      <td>19</td>\n",
       "      <td>0</td>\n",
       "      <td>False</td>\n",
       "      <td>False</td>\n",
       "      <td>3.000000</td>\n",
       "      <td>2</td>\n",
       "    </tr>\n",
       "    <tr>\n",
       "      <th>3</th>\n",
       "      <td>25_4_3</td>\n",
       "      <td>5</td>\n",
       "      <td>2.0</td>\n",
       "      <td>20.0</td>\n",
       "      <td>0.0</td>\n",
       "      <td>730000.0</td>\n",
       "      <td>0</td>\n",
       "      <td>False</td>\n",
       "      <td>True</td>\n",
       "      <td>False</td>\n",
       "      <td>False</td>\n",
       "      <td>False</td>\n",
       "      <td>1</td>\n",
       "      <td>20</td>\n",
       "      <td>0</td>\n",
       "      <td>False</td>\n",
       "      <td>True</td>\n",
       "      <td>2.145105</td>\n",
       "      <td>0</td>\n",
       "    </tr>\n",
       "    <tr>\n",
       "      <th>4</th>\n",
       "      <td>132_6_3</td>\n",
       "      <td>2</td>\n",
       "      <td>0.0</td>\n",
       "      <td>30.0</td>\n",
       "      <td>0.0</td>\n",
       "      <td>170000.0</td>\n",
       "      <td>0</td>\n",
       "      <td>True</td>\n",
       "      <td>False</td>\n",
       "      <td>True</td>\n",
       "      <td>False</td>\n",
       "      <td>False</td>\n",
       "      <td>1</td>\n",
       "      <td>20</td>\n",
       "      <td>0</td>\n",
       "      <td>False</td>\n",
       "      <td>True</td>\n",
       "      <td>2.145105</td>\n",
       "      <td>0</td>\n",
       "    </tr>\n",
       "    <tr>\n",
       "      <th>...</th>\n",
       "      <td>...</td>\n",
       "      <td>...</td>\n",
       "      <td>...</td>\n",
       "      <td>...</td>\n",
       "      <td>...</td>\n",
       "      <td>...</td>\n",
       "      <td>...</td>\n",
       "      <td>...</td>\n",
       "      <td>...</td>\n",
       "      <td>...</td>\n",
       "      <td>...</td>\n",
       "      <td>...</td>\n",
       "      <td>...</td>\n",
       "      <td>...</td>\n",
       "      <td>...</td>\n",
       "      <td>...</td>\n",
       "      <td>...</td>\n",
       "      <td>...</td>\n",
       "      <td>...</td>\n",
       "    </tr>\n",
       "    <tr>\n",
       "      <th>1596</th>\n",
       "      <td>799_3_5</td>\n",
       "      <td>1</td>\n",
       "      <td>3.0</td>\n",
       "      <td>40.0</td>\n",
       "      <td>0.0</td>\n",
       "      <td>732169.0</td>\n",
       "      <td>2</td>\n",
       "      <td>False</td>\n",
       "      <td>False</td>\n",
       "      <td>False</td>\n",
       "      <td>False</td>\n",
       "      <td>False</td>\n",
       "      <td>2</td>\n",
       "      <td>23</td>\n",
       "      <td>0</td>\n",
       "      <td>True</td>\n",
       "      <td>False</td>\n",
       "      <td>4.000000</td>\n",
       "      <td>2</td>\n",
       "    </tr>\n",
       "    <tr>\n",
       "      <th>1597</th>\n",
       "      <td>215_4_1</td>\n",
       "      <td>1</td>\n",
       "      <td>0.0</td>\n",
       "      <td>40.0</td>\n",
       "      <td>0.0</td>\n",
       "      <td>732169.0</td>\n",
       "      <td>2</td>\n",
       "      <td>False</td>\n",
       "      <td>False</td>\n",
       "      <td>False</td>\n",
       "      <td>False</td>\n",
       "      <td>False</td>\n",
       "      <td>2</td>\n",
       "      <td>23</td>\n",
       "      <td>0</td>\n",
       "      <td>False</td>\n",
       "      <td>False</td>\n",
       "      <td>3.000000</td>\n",
       "      <td>2</td>\n",
       "    </tr>\n",
       "    <tr>\n",
       "      <th>1598</th>\n",
       "      <td>785_2_2</td>\n",
       "      <td>1</td>\n",
       "      <td>0.0</td>\n",
       "      <td>40.0</td>\n",
       "      <td>0.0</td>\n",
       "      <td>732169.0</td>\n",
       "      <td>2</td>\n",
       "      <td>False</td>\n",
       "      <td>False</td>\n",
       "      <td>False</td>\n",
       "      <td>False</td>\n",
       "      <td>False</td>\n",
       "      <td>2</td>\n",
       "      <td>24</td>\n",
       "      <td>0</td>\n",
       "      <td>True</td>\n",
       "      <td>False</td>\n",
       "      <td>2.500000</td>\n",
       "      <td>2</td>\n",
       "    </tr>\n",
       "    <tr>\n",
       "      <th>1599</th>\n",
       "      <td>377_7_2</td>\n",
       "      <td>1</td>\n",
       "      <td>0.0</td>\n",
       "      <td>40.0</td>\n",
       "      <td>0.0</td>\n",
       "      <td>732169.0</td>\n",
       "      <td>2</td>\n",
       "      <td>False</td>\n",
       "      <td>False</td>\n",
       "      <td>False</td>\n",
       "      <td>False</td>\n",
       "      <td>False</td>\n",
       "      <td>2</td>\n",
       "      <td>24</td>\n",
       "      <td>0</td>\n",
       "      <td>True</td>\n",
       "      <td>False</td>\n",
       "      <td>3.000000</td>\n",
       "      <td>1</td>\n",
       "    </tr>\n",
       "    <tr>\n",
       "      <th>1600</th>\n",
       "      <td>377_1_1</td>\n",
       "      <td>1</td>\n",
       "      <td>0.0</td>\n",
       "      <td>40.0</td>\n",
       "      <td>0.0</td>\n",
       "      <td>732169.0</td>\n",
       "      <td>1</td>\n",
       "      <td>False</td>\n",
       "      <td>False</td>\n",
       "      <td>False</td>\n",
       "      <td>False</td>\n",
       "      <td>False</td>\n",
       "      <td>1</td>\n",
       "      <td>75</td>\n",
       "      <td>0</td>\n",
       "      <td>True</td>\n",
       "      <td>False</td>\n",
       "      <td>1.000000</td>\n",
       "      <td>0</td>\n",
       "    </tr>\n",
       "  </tbody>\n",
       "</table>\n",
       "<p>1601 rows × 19 columns</p>\n",
       "</div>"
      ],
      "text/plain": [
       "          uid  highest_school_lvl  preschool  school_transportation_time  \\\n",
       "0     441_2_3                   2        0.0                        40.0   \n",
       "1     647_7_1                   2        0.0                        15.0   \n",
       "2     756_4_1                   2        0.0                         6.0   \n",
       "3      25_4_3                   5        2.0                        20.0   \n",
       "4     132_6_3                   2        0.0                        30.0   \n",
       "...       ...                 ...        ...                         ...   \n",
       "1596  799_3_5                   1        3.0                        40.0   \n",
       "1597  215_4_1                   1        0.0                        40.0   \n",
       "1598  785_2_2                   1        0.0                        40.0   \n",
       "1599  377_7_2                   1        0.0                        40.0   \n",
       "1600  377_1_1                   1        0.0                        40.0   \n",
       "\n",
       "      school_transportation_cost  school_expenses  not_attend_reason  \\\n",
       "0                            0.0         140000.0                  0   \n",
       "1                            0.0          75000.0                  0   \n",
       "2                            0.0         100000.0                  0   \n",
       "3                            0.0         730000.0                  0   \n",
       "4                            0.0         170000.0                  0   \n",
       "...                          ...              ...                ...   \n",
       "1596                         0.0         732169.0                  2   \n",
       "1597                         0.0         732169.0                  2   \n",
       "1598                         0.0         732169.0                  2   \n",
       "1599                         0.0         732169.0                  2   \n",
       "1600                         0.0         732169.0                  1   \n",
       "\n",
       "      school_type_1.0  school_type_3.0  transport_2.0  transport_4.0  \\\n",
       "0                True            False          False          False   \n",
       "1                True            False          False          False   \n",
       "2                True            False          False          False   \n",
       "3               False             True          False          False   \n",
       "4                True            False           True          False   \n",
       "...               ...              ...            ...            ...   \n",
       "1596            False            False          False          False   \n",
       "1597            False            False          False          False   \n",
       "1598            False            False          False          False   \n",
       "1599            False            False          False          False   \n",
       "1600            False            False          False          False   \n",
       "\n",
       "      transport_5.0  sex  age  time_away  lives_with_partner  \\\n",
       "0             False    1   19          0               False   \n",
       "1             False    1   19          0               False   \n",
       "2             False    2   19          0               False   \n",
       "3             False    1   20          0               False   \n",
       "4             False    1   20          0               False   \n",
       "...             ...  ...  ...        ...                 ...   \n",
       "1596          False    2   23          0                True   \n",
       "1597          False    2   23          0               False   \n",
       "1598          False    2   24          0                True   \n",
       "1599          False    2   24          0                True   \n",
       "1600          False    1   75          0                True   \n",
       "\n",
       "      lives_with_parent  parents_education  num_parents_alive  \n",
       "0                  True           2.145105                  0  \n",
       "1                  True           2.145105                  0  \n",
       "2                 False           3.000000                  2  \n",
       "3                  True           2.145105                  0  \n",
       "4                  True           2.145105                  0  \n",
       "...                 ...                ...                ...  \n",
       "1596              False           4.000000                  2  \n",
       "1597              False           3.000000                  2  \n",
       "1598              False           2.500000                  2  \n",
       "1599              False           3.000000                  1  \n",
       "1600              False           1.000000                  0  \n",
       "\n",
       "[1601 rows x 19 columns]"
      ]
     },
     "execution_count": 55,
     "metadata": {},
     "output_type": "execute_result"
    }
   ],
   "source": [
    "df"
   ]
  },
  {
   "cell_type": "code",
   "execution_count": 103,
   "id": "6185fae8-a70b-4f7c-8622-1bae69496947",
   "metadata": {},
   "outputs": [
    {
     "data": {
      "text/plain": [
       "0       4.0\n",
       "1       4.0\n",
       "2       6.0\n",
       "3       4.0\n",
       "4       3.0\n",
       "       ... \n",
       "1596    4.0\n",
       "1597    4.0\n",
       "1598    4.0\n",
       "1599    2.0\n",
       "1600    7.0\n",
       "Name: poverty_score_y, Length: 1601, dtype: float64"
      ]
     },
     "execution_count": 103,
     "metadata": {},
     "output_type": "execute_result"
    }
   ],
   "source": [
    "y"
   ]
  },
  {
   "cell_type": "code",
   "execution_count": null,
   "id": "3507ad25-3fb8-4b15-a097-a62527e41311",
   "metadata": {},
   "outputs": [],
   "source": []
  },
  {
   "cell_type": "code",
   "execution_count": null,
   "id": "5af42427-72e4-42c6-9fa9-7888f7b62085",
   "metadata": {},
   "outputs": [],
   "source": []
  }
 ],
 "metadata": {
  "kernelspec": {
   "display_name": "Python 3 (ipykernel)",
   "language": "python",
   "name": "python3"
  },
  "language_info": {
   "codemirror_mode": {
    "name": "ipython",
    "version": 3
   },
   "file_extension": ".py",
   "mimetype": "text/x-python",
   "name": "python",
   "nbconvert_exporter": "python",
   "pygments_lexer": "ipython3",
   "version": "3.12.7"
  }
 },
 "nbformat": 4,
 "nbformat_minor": 5
}
