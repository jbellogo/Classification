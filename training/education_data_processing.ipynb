{
 "cells": [
  {
   "cell_type": "markdown",
   "id": "2e7090bc-5945-4af1-8a40-2ebaffecc180",
   "metadata": {},
   "source": [
    "# Education Data Processing \n",
    "\n",
    "* Transform dependent data that is relevant to the prediction of wealth, denoted T(num_transform)\n",
    "* Discard data useless in the prediction of wealth\n",
    "* Keep independent and relevant data\n",
    "\n",
    "For each of these methods, replace NaN values with what makes sense for each col"
   ]
  },
  {
   "cell_type": "code",
   "execution_count": 3,
   "id": "16ef2101-c95e-4603-9d30-509d090b7802",
   "metadata": {},
   "outputs": [],
   "source": [
    "import pandas as pd\n",
    "import os, sys\n",
    "import matplotlib.pyplot as plt\n"
   ]
  },
  {
   "cell_type": "code",
   "execution_count": 4,
   "id": "33d72976-0112-469b-979b-17dfc16eb6c9",
   "metadata": {},
   "outputs": [],
   "source": [
    "new_dir = '/Users/juanbello/Desktop/Kaggle'\n",
    "\n",
    "sys.path.append(os.path.join(new_dir))\n",
    "\n",
    "# Load the ed dataset\n",
    "df = pd.read_csv('ed_train_transform.csv') # education"
   ]
  },
  {
   "cell_type": "markdown",
   "id": "fff5cc87-18f7-4c3f-819f-b904477d8b0a",
   "metadata": {},
   "source": [
    "# Replacing NaN's\n"
   ]
  },
  {
   "cell_type": "markdown",
   "id": "113d77fa-7192-4202-b65e-83eb86d03fcb",
   "metadata": {},
   "source": [
    "### Which columns can be replaced by a zero?\n",
    "\n",
    "* Categorical answered-questions for which zero is not one of the categories. By replacing them with a zero, we are implicitly adding an additional category for \"No response\"\n",
    "  \n",
    "* We need to make sure zero is not a feasible value in the column. otherwise it already means something and we need a new indicator. We also need to make sure it is categorical, if a column is numeric and we add a value of zero, then that doesnt make sense, add the average instead. "
   ]
  },
  {
   "cell_type": "markdown",
   "id": "35e34db8-3b68-483c-b826-e692c78a0fba",
   "metadata": {},
   "source": [
    "## Q1 and Q2\n",
    "* Q1: reading \n",
    "* Q2: Writing\n",
    "### Merge into T1: \"Can read and write perfectly\" binary variable.\n",
    "* 1 if you can read and write perfectly\n",
    "* 0 ow \n"
   ]
  },
  {
   "cell_type": "code",
   "execution_count": 8,
   "id": "c70b0a5b-992e-4ef1-95b2-14eab276b1c8",
   "metadata": {},
   "outputs": [],
   "source": [
    "flt = df['ED_Q01'].eq(df['ED_Q02']) & df['ED_Q01'].eq(1)\n",
    "\n",
    "df.loc[flt, 'ED_T1'] = 1\n",
    "df.loc[~flt, 'ED_T1'] = 0\n",
    "# df[['Q01', 'Q02', 'T1']]\n",
    "\n",
    "df =  df.drop(columns=['ED_Q01', 'ED_Q02'])\n",
    "## how about 1 if you can read and write perfectly? \n"
   ]
  },
  {
   "cell_type": "code",
   "execution_count": 9,
   "id": "a8f931ca-fdf1-40da-843c-9eec7740ea33",
   "metadata": {},
   "outputs": [],
   "source": [
    "assert(len(df[df['ED_T1'].isna()])==0) # T1 has no NaN values"
   ]
  },
  {
   "cell_type": "markdown",
   "id": "a77a8c56-9eba-4f33-aa2e-69813823d279",
   "metadata": {},
   "source": [
    "# T2 = f(Q3,Q6)\n",
    "\n",
    "3)\tHas [Name] ever attended school?\t\t\t\t\t\t\t\t\t\n",
    "4)\tWhat is the highest LEVEL [Name] have completed in school? In which level?\t\t\t\t\t\t\t\t\t\n",
    "5)   In the LEVEL of q4, what grade?\t\t\t\t\t\t\t\t\t\n",
    "6)\tWhat is the highest diploma [Name] have attained?\t\t\t\t\t\t\t\t\t\n",
    "\n",
    "Action: \n",
    "\n",
    "* Set T2 = Standarize 4 = level of education\n",
    "* Get rid of 3, 5, and 6\n",
    "\n"
   ]
  },
  {
   "cell_type": "code",
   "execution_count": 11,
   "id": "61b386e2-e602-4c53-a6c8-6337481d2d5a",
   "metadata": {},
   "outputs": [],
   "source": [
    "# studied aborad doesn't seem that useful, IGNORE.\n",
    "# studied_abroad = df['Q04'].eq(7) | df['Q04'].eq(9) | df['Q04'].eq(11)\n",
    "# df.loc[studied_abroad, ['poverty_score', 'Q04']]['poverty_score'].mean()"
   ]
  },
  {
   "cell_type": "code",
   "execution_count": 12,
   "id": "4e691593-71ca-4b3f-9f40-0f6b78cd08a2",
   "metadata": {},
   "outputs": [],
   "source": [
    "# df.loc[df['ED_Q04'].isna() & ~df['ED_Q06'].isna()] # size 0"
   ]
  },
  {
   "cell_type": "code",
   "execution_count": 13,
   "id": "5b0596af-d364-428f-a486-3b17b2d15e94",
   "metadata": {},
   "outputs": [],
   "source": [
    "# Standarize Q4 before fillion out NaN values\n",
    "Q4_education_mapping = [0, 1, 2, 3, 4, 4, 5, 5, 6, 6, 7, 7] # just gives the same values to same degrees (no matter where they were studied)\n",
    "df['ED_T2'] =  df['ED_Q04'].apply(lambda indx : indx if pd.isna(indx) else Q4_education_mapping[int(indx)])\n",
    "\n",
    "## fill out NaN values with standarized mean\n",
    "mean = int(df['ED_T2'].mean())\n",
    "df['ED_T2'] = df['ED_T2'].fillna(mean)\n",
    "\n",
    "df =  df.drop(columns=['ED_Q03', 'ED_Q04', 'ED_Q05', 'ED_Q06'])"
   ]
  },
  {
   "cell_type": "code",
   "execution_count": 14,
   "id": "f3a1136b-50e1-4773-8991-d9e0d7caf1fc",
   "metadata": {},
   "outputs": [],
   "source": [
    "assert(len(df[df['ED_T2'].isna()])==0)\n"
   ]
  },
  {
   "cell_type": "markdown",
   "id": "2cd7cd09-e21c-48fd-8778-5077ef2b05e0",
   "metadata": {},
   "source": [
    "# Keep Q7 as is\n",
    "It just becomes T3 to keep some consistency and order"
   ]
  },
  {
   "cell_type": "code",
   "execution_count": 16,
   "id": "cec09763-df74-427a-8f15-0874802abd5d",
   "metadata": {},
   "outputs": [],
   "source": [
    "df['ED_T3'] = df['ED_Q07']\n",
    "df = df.drop(columns=['ED_Q07'])"
   ]
  },
  {
   "cell_type": "code",
   "execution_count": 17,
   "id": "31338323-ba88-4788-a7b2-bd9af75b7b76",
   "metadata": {},
   "outputs": [
    {
     "data": {
      "text/html": [
       "<div>\n",
       "<style scoped>\n",
       "    .dataframe tbody tr th:only-of-type {\n",
       "        vertical-align: middle;\n",
       "    }\n",
       "\n",
       "    .dataframe tbody tr th {\n",
       "        vertical-align: top;\n",
       "    }\n",
       "\n",
       "    .dataframe thead th {\n",
       "        text-align: right;\n",
       "    }\n",
       "</style>\n",
       "<table border=\"1\" class=\"dataframe\">\n",
       "  <thead>\n",
       "    <tr style=\"text-align: right;\">\n",
       "      <th></th>\n",
       "      <th>uid</th>\n",
       "      <th>ED_Q08</th>\n",
       "      <th>ED_Q09</th>\n",
       "      <th>ED_Q10</th>\n",
       "      <th>ED_Q11</th>\n",
       "      <th>ED_Q12</th>\n",
       "      <th>ED_Q13</th>\n",
       "      <th>ED_Q14</th>\n",
       "      <th>ED_Q15</th>\n",
       "      <th>ED_Q16</th>\n",
       "      <th>...</th>\n",
       "      <th>ED_Q61</th>\n",
       "      <th>ED_Q62</th>\n",
       "      <th>ED_Q63</th>\n",
       "      <th>ED_Q64</th>\n",
       "      <th>ED_Q65</th>\n",
       "      <th>ED_Q66</th>\n",
       "      <th>poverty_score</th>\n",
       "      <th>ED_T1</th>\n",
       "      <th>ED_T2</th>\n",
       "      <th>ED_T3</th>\n",
       "    </tr>\n",
       "  </thead>\n",
       "  <tbody>\n",
       "    <tr>\n",
       "      <th>0</th>\n",
       "      <td>441_2_3</td>\n",
       "      <td>1.0</td>\n",
       "      <td>1.0</td>\n",
       "      <td>NaN</td>\n",
       "      <td>NaN</td>\n",
       "      <td>6.0</td>\n",
       "      <td>1.0</td>\n",
       "      <td>1.0</td>\n",
       "      <td>1.0</td>\n",
       "      <td>NaN</td>\n",
       "      <td>...</td>\n",
       "      <td>2.0</td>\n",
       "      <td>NaN</td>\n",
       "      <td>NaN</td>\n",
       "      <td>2.0</td>\n",
       "      <td>NaN</td>\n",
       "      <td>3.0</td>\n",
       "      <td>4.0</td>\n",
       "      <td>1.0</td>\n",
       "      <td>2.0</td>\n",
       "      <td>0.0</td>\n",
       "    </tr>\n",
       "    <tr>\n",
       "      <th>1</th>\n",
       "      <td>647_7_1</td>\n",
       "      <td>1.0</td>\n",
       "      <td>1.0</td>\n",
       "      <td>NaN</td>\n",
       "      <td>NaN</td>\n",
       "      <td>2.0</td>\n",
       "      <td>3.0</td>\n",
       "      <td>1.0</td>\n",
       "      <td>1.0</td>\n",
       "      <td>NaN</td>\n",
       "      <td>...</td>\n",
       "      <td>2.0</td>\n",
       "      <td>NaN</td>\n",
       "      <td>NaN</td>\n",
       "      <td>2.0</td>\n",
       "      <td>NaN</td>\n",
       "      <td>1.0</td>\n",
       "      <td>4.0</td>\n",
       "      <td>1.0</td>\n",
       "      <td>2.0</td>\n",
       "      <td>0.0</td>\n",
       "    </tr>\n",
       "    <tr>\n",
       "      <th>2</th>\n",
       "      <td>756_4_1</td>\n",
       "      <td>1.0</td>\n",
       "      <td>1.0</td>\n",
       "      <td>NaN</td>\n",
       "      <td>NaN</td>\n",
       "      <td>6.0</td>\n",
       "      <td>1.0</td>\n",
       "      <td>1.0</td>\n",
       "      <td>1.0</td>\n",
       "      <td>NaN</td>\n",
       "      <td>...</td>\n",
       "      <td>2.0</td>\n",
       "      <td>NaN</td>\n",
       "      <td>NaN</td>\n",
       "      <td>2.0</td>\n",
       "      <td>NaN</td>\n",
       "      <td>4.0</td>\n",
       "      <td>6.0</td>\n",
       "      <td>1.0</td>\n",
       "      <td>2.0</td>\n",
       "      <td>0.0</td>\n",
       "    </tr>\n",
       "    <tr>\n",
       "      <th>3</th>\n",
       "      <td>25_4_3</td>\n",
       "      <td>1.0</td>\n",
       "      <td>1.0</td>\n",
       "      <td>NaN</td>\n",
       "      <td>NaN</td>\n",
       "      <td>6.0</td>\n",
       "      <td>2.0</td>\n",
       "      <td>1.0</td>\n",
       "      <td>1.0</td>\n",
       "      <td>NaN</td>\n",
       "      <td>...</td>\n",
       "      <td>2.0</td>\n",
       "      <td>NaN</td>\n",
       "      <td>NaN</td>\n",
       "      <td>2.0</td>\n",
       "      <td>NaN</td>\n",
       "      <td>3.0</td>\n",
       "      <td>4.0</td>\n",
       "      <td>1.0</td>\n",
       "      <td>5.0</td>\n",
       "      <td>2.0</td>\n",
       "    </tr>\n",
       "    <tr>\n",
       "      <th>4</th>\n",
       "      <td>132_6_3</td>\n",
       "      <td>1.0</td>\n",
       "      <td>1.0</td>\n",
       "      <td>NaN</td>\n",
       "      <td>NaN</td>\n",
       "      <td>6.0</td>\n",
       "      <td>1.0</td>\n",
       "      <td>1.0</td>\n",
       "      <td>1.0</td>\n",
       "      <td>NaN</td>\n",
       "      <td>...</td>\n",
       "      <td>2.0</td>\n",
       "      <td>NaN</td>\n",
       "      <td>NaN</td>\n",
       "      <td>2.0</td>\n",
       "      <td>NaN</td>\n",
       "      <td>5.0</td>\n",
       "      <td>3.0</td>\n",
       "      <td>1.0</td>\n",
       "      <td>2.0</td>\n",
       "      <td>0.0</td>\n",
       "    </tr>\n",
       "    <tr>\n",
       "      <th>...</th>\n",
       "      <td>...</td>\n",
       "      <td>...</td>\n",
       "      <td>...</td>\n",
       "      <td>...</td>\n",
       "      <td>...</td>\n",
       "      <td>...</td>\n",
       "      <td>...</td>\n",
       "      <td>...</td>\n",
       "      <td>...</td>\n",
       "      <td>...</td>\n",
       "      <td>...</td>\n",
       "      <td>...</td>\n",
       "      <td>...</td>\n",
       "      <td>...</td>\n",
       "      <td>...</td>\n",
       "      <td>...</td>\n",
       "      <td>...</td>\n",
       "      <td>...</td>\n",
       "      <td>...</td>\n",
       "      <td>...</td>\n",
       "      <td>...</td>\n",
       "    </tr>\n",
       "    <tr>\n",
       "      <th>5329</th>\n",
       "      <td>574_5_1</td>\n",
       "      <td>2.0</td>\n",
       "      <td>NaN</td>\n",
       "      <td>NaN</td>\n",
       "      <td>13.0</td>\n",
       "      <td>NaN</td>\n",
       "      <td>NaN</td>\n",
       "      <td>2.0</td>\n",
       "      <td>NaN</td>\n",
       "      <td>NaN</td>\n",
       "      <td>...</td>\n",
       "      <td>NaN</td>\n",
       "      <td>NaN</td>\n",
       "      <td>NaN</td>\n",
       "      <td>NaN</td>\n",
       "      <td>NaN</td>\n",
       "      <td>NaN</td>\n",
       "      <td>4.0</td>\n",
       "      <td>1.0</td>\n",
       "      <td>1.0</td>\n",
       "      <td>1.0</td>\n",
       "    </tr>\n",
       "    <tr>\n",
       "      <th>5330</th>\n",
       "      <td>618_2_1</td>\n",
       "      <td>2.0</td>\n",
       "      <td>NaN</td>\n",
       "      <td>NaN</td>\n",
       "      <td>13.0</td>\n",
       "      <td>NaN</td>\n",
       "      <td>NaN</td>\n",
       "      <td>2.0</td>\n",
       "      <td>NaN</td>\n",
       "      <td>NaN</td>\n",
       "      <td>...</td>\n",
       "      <td>NaN</td>\n",
       "      <td>NaN</td>\n",
       "      <td>NaN</td>\n",
       "      <td>NaN</td>\n",
       "      <td>NaN</td>\n",
       "      <td>NaN</td>\n",
       "      <td>2.0</td>\n",
       "      <td>0.0</td>\n",
       "      <td>1.0</td>\n",
       "      <td>1.0</td>\n",
       "    </tr>\n",
       "    <tr>\n",
       "      <th>5331</th>\n",
       "      <td>155_4_1</td>\n",
       "      <td>2.0</td>\n",
       "      <td>NaN</td>\n",
       "      <td>NaN</td>\n",
       "      <td>13.0</td>\n",
       "      <td>NaN</td>\n",
       "      <td>NaN</td>\n",
       "      <td>2.0</td>\n",
       "      <td>NaN</td>\n",
       "      <td>NaN</td>\n",
       "      <td>...</td>\n",
       "      <td>NaN</td>\n",
       "      <td>NaN</td>\n",
       "      <td>NaN</td>\n",
       "      <td>NaN</td>\n",
       "      <td>NaN</td>\n",
       "      <td>NaN</td>\n",
       "      <td>5.0</td>\n",
       "      <td>1.0</td>\n",
       "      <td>1.0</td>\n",
       "      <td>0.0</td>\n",
       "    </tr>\n",
       "    <tr>\n",
       "      <th>5332</th>\n",
       "      <td>475_5_1</td>\n",
       "      <td>2.0</td>\n",
       "      <td>NaN</td>\n",
       "      <td>NaN</td>\n",
       "      <td>13.0</td>\n",
       "      <td>NaN</td>\n",
       "      <td>NaN</td>\n",
       "      <td>2.0</td>\n",
       "      <td>NaN</td>\n",
       "      <td>NaN</td>\n",
       "      <td>...</td>\n",
       "      <td>NaN</td>\n",
       "      <td>NaN</td>\n",
       "      <td>NaN</td>\n",
       "      <td>NaN</td>\n",
       "      <td>NaN</td>\n",
       "      <td>NaN</td>\n",
       "      <td>3.0</td>\n",
       "      <td>1.0</td>\n",
       "      <td>1.0</td>\n",
       "      <td>2.0</td>\n",
       "    </tr>\n",
       "    <tr>\n",
       "      <th>5333</th>\n",
       "      <td>377_1_1</td>\n",
       "      <td>2.0</td>\n",
       "      <td>NaN</td>\n",
       "      <td>NaN</td>\n",
       "      <td>14.0</td>\n",
       "      <td>NaN</td>\n",
       "      <td>NaN</td>\n",
       "      <td>2.0</td>\n",
       "      <td>NaN</td>\n",
       "      <td>NaN</td>\n",
       "      <td>...</td>\n",
       "      <td>NaN</td>\n",
       "      <td>NaN</td>\n",
       "      <td>NaN</td>\n",
       "      <td>NaN</td>\n",
       "      <td>NaN</td>\n",
       "      <td>NaN</td>\n",
       "      <td>7.0</td>\n",
       "      <td>1.0</td>\n",
       "      <td>1.0</td>\n",
       "      <td>0.0</td>\n",
       "    </tr>\n",
       "  </tbody>\n",
       "</table>\n",
       "<p>5334 rows × 64 columns</p>\n",
       "</div>"
      ],
      "text/plain": [
       "          uid  ED_Q08  ED_Q09  ED_Q10  ED_Q11  ED_Q12  ED_Q13  ED_Q14  ED_Q15  \\\n",
       "0     441_2_3     1.0     1.0     NaN     NaN     6.0     1.0     1.0     1.0   \n",
       "1     647_7_1     1.0     1.0     NaN     NaN     2.0     3.0     1.0     1.0   \n",
       "2     756_4_1     1.0     1.0     NaN     NaN     6.0     1.0     1.0     1.0   \n",
       "3      25_4_3     1.0     1.0     NaN     NaN     6.0     2.0     1.0     1.0   \n",
       "4     132_6_3     1.0     1.0     NaN     NaN     6.0     1.0     1.0     1.0   \n",
       "...       ...     ...     ...     ...     ...     ...     ...     ...     ...   \n",
       "5329  574_5_1     2.0     NaN     NaN    13.0     NaN     NaN     2.0     NaN   \n",
       "5330  618_2_1     2.0     NaN     NaN    13.0     NaN     NaN     2.0     NaN   \n",
       "5331  155_4_1     2.0     NaN     NaN    13.0     NaN     NaN     2.0     NaN   \n",
       "5332  475_5_1     2.0     NaN     NaN    13.0     NaN     NaN     2.0     NaN   \n",
       "5333  377_1_1     2.0     NaN     NaN    14.0     NaN     NaN     2.0     NaN   \n",
       "\n",
       "      ED_Q16  ...  ED_Q61  ED_Q62  ED_Q63  ED_Q64  ED_Q65  ED_Q66  \\\n",
       "0        NaN  ...     2.0     NaN     NaN     2.0     NaN     3.0   \n",
       "1        NaN  ...     2.0     NaN     NaN     2.0     NaN     1.0   \n",
       "2        NaN  ...     2.0     NaN     NaN     2.0     NaN     4.0   \n",
       "3        NaN  ...     2.0     NaN     NaN     2.0     NaN     3.0   \n",
       "4        NaN  ...     2.0     NaN     NaN     2.0     NaN     5.0   \n",
       "...      ...  ...     ...     ...     ...     ...     ...     ...   \n",
       "5329     NaN  ...     NaN     NaN     NaN     NaN     NaN     NaN   \n",
       "5330     NaN  ...     NaN     NaN     NaN     NaN     NaN     NaN   \n",
       "5331     NaN  ...     NaN     NaN     NaN     NaN     NaN     NaN   \n",
       "5332     NaN  ...     NaN     NaN     NaN     NaN     NaN     NaN   \n",
       "5333     NaN  ...     NaN     NaN     NaN     NaN     NaN     NaN   \n",
       "\n",
       "      poverty_score  ED_T1  ED_T2  ED_T3  \n",
       "0               4.0    1.0    2.0    0.0  \n",
       "1               4.0    1.0    2.0    0.0  \n",
       "2               6.0    1.0    2.0    0.0  \n",
       "3               4.0    1.0    5.0    2.0  \n",
       "4               3.0    1.0    2.0    0.0  \n",
       "...             ...    ...    ...    ...  \n",
       "5329            4.0    1.0    1.0    1.0  \n",
       "5330            2.0    0.0    1.0    1.0  \n",
       "5331            5.0    1.0    1.0    0.0  \n",
       "5332            3.0    1.0    1.0    2.0  \n",
       "5333            7.0    1.0    1.0    0.0  \n",
       "\n",
       "[5334 rows x 64 columns]"
      ]
     },
     "execution_count": 17,
     "metadata": {},
     "output_type": "execute_result"
    }
   ],
   "source": [
    "df"
   ]
  },
  {
   "cell_type": "markdown",
   "id": "ab62ef35-565f-4781-a78a-a6e1da3a717b",
   "metadata": {},
   "source": [
    "## Mergining Q8-11 and Q14-17\n",
    "about attending school\n",
    "* Q8 Did you enroll this year?\t\t\t\t\t\t\t\t\t\n",
    "* Q9 will you attend this year?\t\t\t\t\t\t\t\t\t\n",
    "* Q10 Why not attending this year?\t\t\t\t\t\t\t\n",
    "* Q11 Why not enrolling this year?\n",
    "\n",
    "Funny situations:\n",
    "enrolled but will not attend. We can only care about attending. \n",
    "\n",
    "Our aggregation variable could be a merge of \"why not attending/enrolling or attending\"\n",
    "\n",
    "After merging all 4 columns into one, we may need to further break down, transform the categories... maybe get rid of anything that is not about money (illness, poor quality of teaching, )"
   ]
  },
  {
   "cell_type": "code",
   "execution_count": 19,
   "id": "cc5190c3-a2d6-49a3-8766-fde300c91a52",
   "metadata": {},
   "outputs": [],
   "source": [
    "# Rename for sanity:\n",
    "## 'now' is this year\n",
    "## 'past' is last year\n",
    "df['now_enrolled'] = df['ED_Q08']  # 1 yes, 2 No\n",
    "df['now_attending'] = df['ED_Q09'] # 1 yes, 2 No\n",
    "df['past_enrolled'] = df['ED_Q14']  # 1 yes, 2 No\n",
    "df['past_attending'] = df['ED_Q15'] # 1 yes, 2 No"
   ]
  },
  {
   "cell_type": "code",
   "execution_count": 20,
   "id": "874ef67d-2139-40e8-b07c-a83b9368c8fb",
   "metadata": {},
   "outputs": [],
   "source": [
    "df =  df.drop(columns=['ED_Q08', 'ED_Q09','ED_Q14', 'ED_Q15']) "
   ]
  },
  {
   "cell_type": "code",
   "execution_count": 21,
   "id": "90f6d795-3082-4729-b842-4dd56e0c1f5b",
   "metadata": {},
   "outputs": [],
   "source": [
    "# Merge now_enrolled, now_attending, past_enrolled, past_attending into \"missed at least a year in the past 2\"\n",
    "\n",
    "# We have situations where someone enrolls but does not attend.\n",
    "# We don't have situations when someone who did not enroll attends. \n",
    "# So use attend as base truth and fill some of the NaNs with enrolled.\n",
    "df['now_attending'] = df['now_attending'].fillna(df['now_enrolled'])\n",
    "df['past_attending'] = df['past_attending'].fillna(df['past_enrolled'])\n",
    "\n",
    "# We only care if they missed at least one year in the past 2.\n",
    "missed_year = df['now_attending'].eq(2) | df['past_attending'].eq(2) \n",
    "df.loc[missed_year, 'Missed_year'] = True\n",
    "df.loc[~missed_year, 'Missed_year'] = False\n"
   ]
  },
  {
   "cell_type": "code",
   "execution_count": 22,
   "id": "813a17f0-180c-4bda-ac13-35dd035b6602",
   "metadata": {},
   "outputs": [],
   "source": [
    "df =  df.drop(columns=['now_enrolled', 'past_enrolled', 'past_attending', 'now_attending'])\n"
   ]
  },
  {
   "cell_type": "code",
   "execution_count": 23,
   "id": "1d4fdb52-5887-4e30-a924-c292a4a48915",
   "metadata": {},
   "outputs": [],
   "source": [
    "# Merge not attending and not enrolling reason in school \n",
    "df['now_not_attend_reason'] = df['ED_Q10']\n",
    "df['now_not_enroll_reason'] = df['ED_Q11']\n",
    "df['past_not_attend_reason'] = df['ED_Q16'] \n",
    "df['past_not_enroll_reason'] = df['ED_Q17']\n",
    "\n",
    "\n",
    "# first make 'attend' reasons equivalent:\n",
    "## the values of Q10 and Q11 match except for Q10=13 <-> Q11=14. So, Q10=13 should be transformed into Q10'=14 before merging \n",
    "## the values of Q16 and Q17 match except for Q16=13 <-> Q17=14. So, Q16=13 should be transformed into Q16'=14 before merging \n",
    "\n",
    "df.loc[df['now_not_attend_reason'] == 13, 'now_not_attend_reason'] = 14\n",
    "df.loc[df['past_not_attend_reason'] == 13, 'past_not_attend_reason'] = 14\n",
    "\n",
    "# We have situations where someone enrolls but does not attend.\n",
    "# We don't have situations when someone who did not enroll attends. \n",
    "# So use attend as base truth and fill some of the NaNs with enrolled.\n",
    "df['now_not_attend_reason'] = df['now_not_attend_reason'].fillna(df['now_not_enroll_reason'])\n",
    "df['past_not_attend_reason'] = df['past_not_attend_reason'].fillna(df['past_not_enroll_reason'])\n",
    "\n",
    "# Some may still be NaN\n"
   ]
  },
  {
   "cell_type": "code",
   "execution_count": 24,
   "id": "03f9928b-94b4-48e1-a176-3afc41527371",
   "metadata": {},
   "outputs": [],
   "source": [
    "df = df.drop(columns=['ED_Q10', 'ED_Q11', 'ED_Q16', 'ED_Q17'])"
   ]
  },
  {
   "cell_type": "code",
   "execution_count": 25,
   "id": "b0482b10-165b-46e2-82ce-d35914102083",
   "metadata": {},
   "outputs": [],
   "source": [
    "df = df.drop(columns=['now_not_enroll_reason', 'past_not_enroll_reason'])"
   ]
  },
  {
   "cell_type": "markdown",
   "id": "eb37a633-b7df-451e-ba3e-7bc3235ed09a",
   "metadata": {},
   "source": [
    "#### Conciliating reasons\n",
    "\n",
    "Now we are interested in how we will merge/reconcile the case when someone did not attend school two years in a row for DIFFERENT REASONS. \n",
    "We'll first convert the reasons to a financial scale of 1-3. \n",
    "\n",
    "* 1 Is a non-financial reason.\n",
    "* 2 Somewhat financial.\n",
    "* 3 Directly financial reason. \n",
    "\n",
    "Then we just take the maximum number on the financial scale as our main reason.\n",
    "\n",
    "the mapping of reason 1-13 -> how related that reason is to money on a scale of 1-3 is as follows: \n",
    "\n",
    "[Nan, 1, 2, 3, ..., 14] -> [0, 3,1,3,3,1,1,1,2,2,1,1,2,1,1]\n",
    "\n",
    "\n"
   ]
  },
  {
   "cell_type": "code",
   "execution_count": 27,
   "id": "6bffad25-0133-4487-af47-402ba99f65b2",
   "metadata": {},
   "outputs": [],
   "source": [
    "# NOTE since going to school  is kind of the opposite of being poor, we will assign  NaN reason values a mapping of 0\n",
    "df['now_not_attend_reason'] = df['now_not_attend_reason'].fillna(0)\n",
    "df['past_not_attend_reason'] = df['past_not_attend_reason'].fillna(0)"
   ]
  },
  {
   "cell_type": "code",
   "execution_count": 28,
   "id": "48bc44e3-3282-4843-8e00-2d7cbc2b9335",
   "metadata": {},
   "outputs": [],
   "source": [
    "# Now apply transform reasons to the financial scale\n",
    "ABSENCE_REASON_TO_MONEY_MAPPING = [0, 3,1,3,3,1,1,1,2,2,1,1,2,1,1]\n",
    "\n",
    "df['now_not_attend_reason'] =  df['now_not_attend_reason'].apply(lambda indx : ABSENCE_REASON_TO_MONEY_MAPPING[int(indx)])\n",
    "df['past_not_attend_reason'] =  df['past_not_attend_reason'].apply(lambda indx : ABSENCE_REASON_TO_MONEY_MAPPING[int(indx)])"
   ]
  },
  {
   "cell_type": "code",
   "execution_count": 29,
   "id": "a786cf0b-af0c-4ee2-b502-e204bc8c11a7",
   "metadata": {},
   "outputs": [],
   "source": [
    "# Now the merge between now_not_attend_reason and past_not_attend_reason becomes obvious for our purposes of predicting wealth: pick the maximum. \n",
    "df['not_attend_reason'] =  df.apply(lambda row: max(row['past_not_attend_reason'], row['now_not_attend_reason']), axis=1)\n"
   ]
  },
  {
   "cell_type": "code",
   "execution_count": 30,
   "id": "9722f311-3f8a-4830-bfd1-ca0532cd2b35",
   "metadata": {},
   "outputs": [],
   "source": [
    "df = df.drop(columns=['now_not_attend_reason', 'past_not_attend_reason'])"
   ]
  },
  {
   "cell_type": "code",
   "execution_count": 31,
   "id": "6efa9e3e-b276-4a3e-a209-524fd26a7da2",
   "metadata": {},
   "outputs": [],
   "source": [
    "# Now we need to merge Missed_year? and not_attend_reason into one variate\n",
    "\n",
    "## CLAIM: Missed_year==False <-> not_attend_reason=0\n",
    "claim = df['Missed_year'].eq(False) & df['not_attend_reason'].ne(0)\n",
    "assert(len(df[claim])==0)\n",
    "\n",
    "## DONE: So they are already dependent!! No need to do anything other than delete missed_year?\n",
    "df['ED_T4'] = df['not_attend_reason'] \n",
    "\n",
    "# The meaning of this not_attend_reason variable in the FINAL TRANSFORM ED_T4 is: \n",
    "# It represents what happened in the last couple of years\n",
    "# 0 if the kid attended both years to school\n",
    "# 1 if the kid missed at least one year due to something, in the worse case scenario, (NOT) related to money\n",
    "# 2 if the kid missed at least one year due to something, in the worse case scenario, (SOMEWHAT) related to money\n",
    "# 3 if the kid missed at least one year due to something, in the worse case scenario, (DIRECTLY) related to money\n"
   ]
  },
  {
   "cell_type": "code",
   "execution_count": 32,
   "id": "f63413f8-cabe-4678-b8a4-a14b59517235",
   "metadata": {},
   "outputs": [],
   "source": [
    "df = df.drop(columns=['Missed_year', 'not_attend_reason'])"
   ]
  },
  {
   "cell_type": "markdown",
   "id": "646511a5-282b-4a23-85cc-06b7efe626f2",
   "metadata": {},
   "source": [
    "# T5 = f(Q19)\n",
    "As is.\n",
    "\"IS [NAME] 19 YEARS OLD OR LESS?\"\n",
    "\n",
    "Q9 values: \n",
    "2 = No, \n",
    "1 = Yes\n",
    "\n",
    "New scale:\n",
    "\n",
    "* -1 = No\n",
    "* 0 = No data (NaN)\n",
    "* 1 = Yes"
   ]
  },
  {
   "cell_type": "code",
   "execution_count": 34,
   "id": "e9a8ea34-96e1-434f-83c0-3cd090210ee8",
   "metadata": {},
   "outputs": [],
   "source": [
    "df['ED_T5'] = df['ED_Q19']\n",
    "df = df.drop(columns=['ED_Q19'])\n"
   ]
  },
  {
   "cell_type": "code",
   "execution_count": 35,
   "id": "7ffe957d-7128-4315-b7a7-f73c39119498",
   "metadata": {},
   "outputs": [],
   "source": [
    "# Now get rid of the NaN\n",
    "df['ED_T5'] = df['ED_T5'].fillna(0)"
   ]
  },
  {
   "cell_type": "code",
   "execution_count": 36,
   "id": "1009db1e-159b-4f15-ae31-433e5b8389b1",
   "metadata": {},
   "outputs": [],
   "source": [
    "# And change the scale\n",
    "df.loc[df['ED_T5']==2, 'ED_T5'] = -1"
   ]
  },
  {
   "cell_type": "markdown",
   "id": "0bb835b7-9a7a-4025-9e84-f9f254025e58",
   "metadata": {},
   "source": [
    "# T6 = f(Q23)\n",
    "\n",
    "Q23: Is the school that [Name] attend in public or private?\n",
    "\n",
    "* PUBLIC\t= 1\n",
    "* PRIVATE RELIGIOUS\t= 2\n",
    "* PRIVATE NON-RELIGIOUS\t= 3\n",
    "\n",
    "I like this ordering, apparently \"Non-religious private schools are more expensive than religious private schools on average\"\n",
    "\n",
    "NaN replacement: \n",
    "AVERAGE because average assigns a more conservative value to NaN. A zero on this new scale is still the 25th quantile so it is biased towards poverty ya know."
   ]
  },
  {
   "cell_type": "code",
   "execution_count": 38,
   "id": "a9911ff1-c026-45ad-8ba0-580570b00650",
   "metadata": {},
   "outputs": [],
   "source": [
    "mean = int(df['ED_Q23'].mean())\n",
    "df['ED_T6'] = df['ED_Q23'].fillna(mean)"
   ]
  },
  {
   "cell_type": "markdown",
   "id": "3af9a1f6-2b7d-4ec6-bf83-964da049b2d5",
   "metadata": {},
   "source": [
    "# T7 = f(Q28, Q29)\n",
    "Modes of transportation\n",
    "\n",
    "### I am not sure about this one, include for now\n",
    "\n",
    "Q28: Means of transportation\n",
    "* WALK = 1\n",
    "* BICYCLE = 2\n",
    "* ANIMAL =3\n",
    "* CAR = 4\t\n",
    "* BUS = 5\t\n",
    "* TRAIN = 6\t\n",
    "* OTHER(SPECIFY) = 7\n",
    "\n",
    "Q29:\n",
    "Amount spent per month on transportation\n",
    "\n",
    "This could be misleading, maybe you reported spending 0 on transportation but only cuz you take your dad's Aston Martin"
   ]
  },
  {
   "cell_type": "code",
   "execution_count": 40,
   "id": "4c2f937c-8199-4202-bcfd-a33c55c41a14",
   "metadata": {},
   "outputs": [],
   "source": [
    "# # complete_units = ~df['ED_Q29'].isna() & ~df['ED_Q28'].isna() # very small\n",
    "# complete_Q28 = ~df['ED_Q28'].isna()\n",
    "\n",
    "# data = df.loc[complete_Q28, ['ED_Q28', 'poverty_score']]\n",
    "\n",
    "# walkers = data[data['ED_Q28'] == 1]\n",
    "# bikers = data[data['ED_Q28'] == 2]\n",
    "# car_riders = data[data['ED_Q28'] == 4]\n",
    "# bus_takers = data[data['ED_Q28'] == 5]\n",
    "# train_takers = data[data['ED_Q28'] == 6]\n",
    "\n",
    "# print(walkers['poverty_score'].mean())\n",
    "# print(bikers['poverty_score'].mean())\n",
    "# print(car_riders['poverty_score'].mean())\n",
    "# print(bus_takers['poverty_score'].mean())\n",
    "# print(train_takers['poverty_score'].mean())\n",
    "# plt.hist(data_subset['poverty_score'], bins=5, color='blue', edgecolor='black', alpha=0.7)\n",
    "## anything else (Animal, Other, NaN) can take average.\n",
    "\n"
   ]
  },
  {
   "cell_type": "code",
   "execution_count": 41,
   "id": "da36c9d7-5f09-4daa-836f-18439e2dedf0",
   "metadata": {},
   "outputs": [],
   "source": [
    "# Lets do a mapping on Q28 based on average poverty score orderings:\n",
    "# bikers < walkers < bus_takers < car_riders\n",
    "# 2\t1\tNaN\t4\t3\tNaN\tNan\n",
    "transportation_mapping = [float('nan'), 2, 1, float('nan'), 4, 3, float('nan'), float('nan')]\n",
    "\n",
    "\n",
    "df['ED_T7'] = df['ED_Q28'].apply(lambda indx: indx if pd.isna(indx) else transportation_mapping[int(indx)] )\n",
    "av = int(df['ED_T7'].mean())\n",
    "df['ED_T7'] = df['ED_T7'].fillna(av)"
   ]
  },
  {
   "cell_type": "code",
   "execution_count": 42,
   "id": "888dd798-b2aa-4a4c-b886-f1787c164b35",
   "metadata": {},
   "outputs": [],
   "source": [
    "df = df.drop(columns = ['ED_Q28', 'ED_Q29'])"
   ]
  },
  {
   "cell_type": "code",
   "execution_count": 43,
   "id": "b0ecb133-fc5d-4e99-bdb1-98d87a27bbc1",
   "metadata": {},
   "outputs": [],
   "source": [
    "# ## Q29, amount spent per month seems irrelevant. \n",
    "# complete_Q29 = ~df['ED_Q29'].isna()\n",
    "\n",
    "# data = df.loc[complete_Q29, ['ED_Q29', 'poverty_score']]\n",
    "\n",
    "# plt.scatter(data['ED_Q29'], data['poverty_score'], color='blue', s=100, alpha=0.7, edgecolor='black')"
   ]
  },
  {
   "cell_type": "markdown",
   "id": "74d63a44-ca52-4409-9b30-262372eadec1",
   "metadata": {},
   "source": [
    "# f(Q30, Q31)\n",
    "Q30: Have [Name] received a transportation subsidy in this academic year? \t\n",
    "\n",
    "Q31: What was the value of the transportation subsidy for the previous academic year?\t\n",
    "\n",
    "### DELETE BOTH\n"
   ]
  },
  {
   "cell_type": "code",
   "execution_count": 45,
   "id": "24d86770-aefc-459f-989b-b87d5fac57fc",
   "metadata": {},
   "outputs": [],
   "source": [
    "# Do the numerical amounts of Q31 tell you something about poverty_score?\n",
    "complete_units = ~df['ED_Q31'].isna() \n",
    "\n",
    "data = df.loc[complete_units, ['ED_Q31', 'poverty_score']]\n",
    "# HAHA no one received transportation subsidies. DELETE\n",
    "assert(len(df[df['ED_Q30']==1])==0)"
   ]
  },
  {
   "cell_type": "code",
   "execution_count": 46,
   "id": "5431f34e-38eb-48b4-ab14-ccac7c48fb69",
   "metadata": {},
   "outputs": [],
   "source": [
    "df = df.drop(columns=['ED_Q30', 'ED_Q31'])"
   ]
  },
  {
   "cell_type": "markdown",
   "id": "b496ae05-f60e-482e-8e8d-e10c12f2c337",
   "metadata": {},
   "source": [
    "# Q32-Q40\n",
    "\n",
    "### delete 32, make sure Q41= sum(Q33-40)"
   ]
  },
  {
   "cell_type": "code",
   "execution_count": 48,
   "id": "95f3e01e-72bc-421c-9433-5cd89f76a8b3",
   "metadata": {},
   "outputs": [],
   "source": [
    "df['sum'] = df[['ED_Q33', 'ED_Q34', 'ED_Q35', 'ED_Q36', 'ED_Q37', 'ED_Q38', 'ED_Q39', 'ED_Q40']].sum(axis=1)\n",
    "cond = ~df['sum'].le(df['ED_Q41']) & ~df['ED_Q41'].isna()  ## ED_Q40 is always larger, at least in testing data.\n",
    "assert(len(df.loc[cond, ['sum', 'ED_Q41']])==0)\n",
    "# so yes, we are good to delete away"
   ]
  },
  {
   "cell_type": "code",
   "execution_count": 49,
   "id": "d17d70a7-36a4-4c24-8631-89ca8e1d04f6",
   "metadata": {},
   "outputs": [],
   "source": [
    "df = df.drop(columns=['ED_Q32', 'ED_Q33', 'ED_Q34', 'ED_Q35', 'ED_Q36', 'ED_Q37', 'ED_Q38', 'ED_Q39', 'ED_Q40'])"
   ]
  },
  {
   "cell_type": "markdown",
   "id": "f2455d5d-68d0-4ec3-8e7b-5bb6c8497a73",
   "metadata": {},
   "source": [
    "# T8 = f(Q41)\n",
    "\n",
    "Total spent on education in past year\n",
    "\n",
    "replace Nan with averages"
   ]
  },
  {
   "cell_type": "code",
   "execution_count": 51,
   "id": "6cb95094-ff76-4b91-aeca-96cd6f1db15d",
   "metadata": {},
   "outputs": [],
   "source": [
    "av = int(df['ED_Q41'].mean())\n",
    "df['ED_T8'] = df['ED_Q41'].fillna(int(av))"
   ]
  },
  {
   "cell_type": "code",
   "execution_count": 52,
   "id": "07472a82-cbe5-476c-9297-acd712a1b1b9",
   "metadata": {},
   "outputs": [],
   "source": [
    "df = df.drop(columns=['ED_Q41'])"
   ]
  },
  {
   "cell_type": "markdown",
   "id": "ed170850-6a27-4d17-bf31-2ed6aefbb042",
   "metadata": {},
   "source": [
    "# Q42-46, 48 DELETE"
   ]
  },
  {
   "cell_type": "code",
   "execution_count": 54,
   "id": "2aed1838-284e-4d84-9fda-d09ca47d5c60",
   "metadata": {},
   "outputs": [],
   "source": [
    "df = df.drop(columns=['ED_Q42', 'ED_Q43', 'ED_Q44', 'ED_Q45', 'ED_Q46', 'ED_Q48'])"
   ]
  },
  {
   "cell_type": "markdown",
   "id": "faf1c36a-4d7a-4154-9214-087bbf206d33",
   "metadata": {},
   "source": [
    "# f(Q47, Q49)\n",
    "\n",
    "47\tHow much was the value of the subsidy claimed?\n",
    "\n",
    "49\tHow much did [Name] receive in the textbook subsidy rebate?\t\n",
    "\n",
    "## Delete both"
   ]
  },
  {
   "cell_type": "code",
   "execution_count": 56,
   "id": "ffde05ce-0704-4597-b59d-587a1d1bdef8",
   "metadata": {},
   "outputs": [],
   "source": [
    "# Do the numerical amounts of 49 tell you something about poverty_score?\n",
    "complete_units = ~df['ED_Q49'].isna() \n",
    "\n",
    "data = df.loc[complete_units, ['ED_Q49', 'poverty_score']]\n",
    "assert(len(df[df['ED_Q47']==1])==0)\n",
    "# Also nothing"
   ]
  },
  {
   "cell_type": "code",
   "execution_count": 57,
   "id": "4884332d-52a8-401d-838d-321c58356bf8",
   "metadata": {},
   "outputs": [],
   "source": [
    "df = df.drop(columns=['ED_Q47', 'ED_Q49'])"
   ]
  },
  {
   "cell_type": "markdown",
   "id": "5506124c-5aa9-4db5-a6d0-cfe75163e4f7",
   "metadata": {},
   "source": [
    "# f(54, 56)\n",
    "\n",
    "54 Is [Name] paying for the tutoring?\n",
    "\n",
    "56\tHow much has [Name] spent per month on average for this tutoring in the previous academic year?\t\t\t\t\t\t\t\t\t"
   ]
  },
  {
   "cell_type": "code",
   "execution_count": 59,
   "id": "484aa171-51e4-4e79-bd04-07cafcdca38c",
   "metadata": {},
   "outputs": [],
   "source": [
    "complete_units = ~df['ED_Q56'].isna() \n",
    "\n",
    "data = df.loc[complete_units, ['ED_Q56', 'poverty_score']]\n",
    "# df[df['ED_Q54']==1]\n",
    "# Only one guy paying for tutoring and he has a poverty score of 3? interesting. get rid of Q54,Q56\n"
   ]
  },
  {
   "cell_type": "code",
   "execution_count": 60,
   "id": "7ccbe349-5cbb-4a44-9afe-dda5f00b29a4",
   "metadata": {},
   "outputs": [],
   "source": [
    "df = df.drop(columns=['ED_Q50', 'ED_Q51', 'ED_Q52', 'ED_Q53', 'ED_Q54', 'ED_Q55', 'ED_Q56'])"
   ]
  },
  {
   "cell_type": "markdown",
   "id": "1ef5cf59-4d4c-464c-af8d-1ac135fdba85",
   "metadata": {},
   "source": [
    "# f(57-61)\n"
   ]
  },
  {
   "cell_type": "code",
   "execution_count": 62,
   "id": "36cfa40d-0495-4bc8-bd5b-57c13ec583f6",
   "metadata": {},
   "outputs": [],
   "source": [
    "# try 60\n",
    "complete_units = ~df['ED_Q60'].isna() \n",
    "\n",
    "data = df.loc[complete_units, ['ED_Q60', 'poverty_score']]\n",
    "# data\n",
    "# nothing. "
   ]
  },
  {
   "cell_type": "code",
   "execution_count": 63,
   "id": "890eb4da-4539-4891-b14f-64828773ec3b",
   "metadata": {},
   "outputs": [],
   "source": [
    "df = df.drop(columns=['ED_Q57', 'ED_Q58', 'ED_Q59', 'ED_Q60', 'ED_Q61'])"
   ]
  },
  {
   "cell_type": "markdown",
   "id": "006c8227-a270-4064-b538-4a12f523aaba",
   "metadata": {},
   "source": [
    "# f(62,63)\n"
   ]
  },
  {
   "cell_type": "code",
   "execution_count": 65,
   "id": "643e7188-6565-4629-9f56-1ca913a39098",
   "metadata": {},
   "outputs": [
    {
     "data": {
      "text/html": [
       "<div>\n",
       "<style scoped>\n",
       "    .dataframe tbody tr th:only-of-type {\n",
       "        vertical-align: middle;\n",
       "    }\n",
       "\n",
       "    .dataframe tbody tr th {\n",
       "        vertical-align: top;\n",
       "    }\n",
       "\n",
       "    .dataframe thead th {\n",
       "        text-align: right;\n",
       "    }\n",
       "</style>\n",
       "<table border=\"1\" class=\"dataframe\">\n",
       "  <thead>\n",
       "    <tr style=\"text-align: right;\">\n",
       "      <th></th>\n",
       "      <th>ED_Q62</th>\n",
       "      <th>poverty_score</th>\n",
       "    </tr>\n",
       "  </thead>\n",
       "  <tbody>\n",
       "    <tr>\n",
       "      <th>7</th>\n",
       "      <td>5.0</td>\n",
       "      <td>7.0</td>\n",
       "    </tr>\n",
       "    <tr>\n",
       "      <th>193</th>\n",
       "      <td>3.0</td>\n",
       "      <td>3.0</td>\n",
       "    </tr>\n",
       "  </tbody>\n",
       "</table>\n",
       "</div>"
      ],
      "text/plain": [
       "     ED_Q62  poverty_score\n",
       "7       5.0            7.0\n",
       "193     3.0            3.0"
      ]
     },
     "execution_count": 65,
     "metadata": {},
     "output_type": "execute_result"
    }
   ],
   "source": [
    "complete_units = ~df['ED_Q62'].isna() \n",
    "data = df.loc[complete_units, ['ED_Q62', 'poverty_score']]\n",
    "data # doesn't add much, you could argue it does but not necessart "
   ]
  },
  {
   "cell_type": "code",
   "execution_count": 66,
   "id": "3cdc24df-fde6-450a-864e-41abb97f02c8",
   "metadata": {},
   "outputs": [
    {
     "data": {
      "text/html": [
       "<div>\n",
       "<style scoped>\n",
       "    .dataframe tbody tr th:only-of-type {\n",
       "        vertical-align: middle;\n",
       "    }\n",
       "\n",
       "    .dataframe tbody tr th {\n",
       "        vertical-align: top;\n",
       "    }\n",
       "\n",
       "    .dataframe thead th {\n",
       "        text-align: right;\n",
       "    }\n",
       "</style>\n",
       "<table border=\"1\" class=\"dataframe\">\n",
       "  <thead>\n",
       "    <tr style=\"text-align: right;\">\n",
       "      <th></th>\n",
       "      <th>ED_Q63</th>\n",
       "      <th>poverty_score</th>\n",
       "    </tr>\n",
       "  </thead>\n",
       "  <tbody>\n",
       "    <tr>\n",
       "      <th>7</th>\n",
       "      <td>10.0</td>\n",
       "      <td>7.0</td>\n",
       "    </tr>\n",
       "    <tr>\n",
       "      <th>193</th>\n",
       "      <td>4.0</td>\n",
       "      <td>3.0</td>\n",
       "    </tr>\n",
       "  </tbody>\n",
       "</table>\n",
       "</div>"
      ],
      "text/plain": [
       "     ED_Q63  poverty_score\n",
       "7      10.0            7.0\n",
       "193     4.0            3.0"
      ]
     },
     "execution_count": 66,
     "metadata": {},
     "output_type": "execute_result"
    }
   ],
   "source": [
    "complete_units = ~df['ED_Q63'].isna() \n",
    "data = df.loc[complete_units, ['ED_Q63', 'poverty_score']]\n",
    "data"
   ]
  },
  {
   "cell_type": "markdown",
   "id": "170ace20-0964-4c0b-b662-e67fecb56bfd",
   "metadata": {},
   "source": [
    "# f(64, 65)\n",
    "\n",
    "No one has a \"yes\""
   ]
  },
  {
   "cell_type": "code",
   "execution_count": 68,
   "id": "1e8fdc71-c8b1-4e53-937c-2473932fb99c",
   "metadata": {},
   "outputs": [],
   "source": [
    "complete_units = ~df['ED_Q64'].isna() & df['ED_Q64'].eq(1) \n",
    "data = df.loc[complete_units, ['ED_Q64', 'poverty_score']] # no one\n",
    "\n",
    "complete_units = ~df['ED_Q65'].isna() \n",
    "data = df.loc[complete_units, ['ED_Q65', 'poverty_score']] # two people"
   ]
  },
  {
   "cell_type": "markdown",
   "id": "301cb39a-0f7a-43d6-820e-7e646f99273f",
   "metadata": {},
   "source": [
    "# f(66)"
   ]
  },
  {
   "cell_type": "code",
   "execution_count": 70,
   "id": "f0a81c2c-06f7-4fad-8321-5648fb91c842",
   "metadata": {},
   "outputs": [
    {
     "data": {
      "text/plain": [
       "<matplotlib.collections.PathCollection at 0x15536b1a0>"
      ]
     },
     "execution_count": 70,
     "metadata": {},
     "output_type": "execute_result"
    },
    {
     "data": {
      "image/png": "[encoded data removed]",
      "text/plain": [
       "<Figure size 640x480 with 1 Axes>"
      ]
     },
     "metadata": {},
     "output_type": "display_data"
    }
   ],
   "source": [
    "complete_units = ~df['ED_Q66'].isna()  \n",
    "data = df.loc[complete_units, ['ED_Q66', 'poverty_score']]\n",
    "\n",
    "plt.scatter(data['ED_Q66'], data['poverty_score']) # seems stationary"
   ]
  },
  {
   "cell_type": "code",
   "execution_count": 71,
   "id": "6e59fe23-0dee-4b4d-b1d0-2df7679de733",
   "metadata": {},
   "outputs": [],
   "source": [
    "df = df[['uid', 'ED_T1', 'ED_T2', 'ED_T3', 'ED_T4', 'ED_T5', 'ED_T6', 'ED_T7', 'ED_T8', 'poverty_score']]"
   ]
  },
  {
   "cell_type": "code",
   "execution_count": 72,
   "id": "945855b4-2301-404f-b986-9e5a9ec8852b",
   "metadata": {},
   "outputs": [
    {
     "data": {
      "text/html": [
       "<div>\n",
       "<style scoped>\n",
       "    .dataframe tbody tr th:only-of-type {\n",
       "        vertical-align: middle;\n",
       "    }\n",
       "\n",
       "    .dataframe tbody tr th {\n",
       "        vertical-align: top;\n",
       "    }\n",
       "\n",
       "    .dataframe thead th {\n",
       "        text-align: right;\n",
       "    }\n",
       "</style>\n",
       "<table border=\"1\" class=\"dataframe\">\n",
       "  <thead>\n",
       "    <tr style=\"text-align: right;\">\n",
       "      <th></th>\n",
       "      <th>uid</th>\n",
       "      <th>ED_T1</th>\n",
       "      <th>ED_T2</th>\n",
       "      <th>ED_T3</th>\n",
       "      <th>ED_T4</th>\n",
       "      <th>ED_T5</th>\n",
       "      <th>ED_T6</th>\n",
       "      <th>ED_T7</th>\n",
       "      <th>ED_T8</th>\n",
       "      <th>poverty_score</th>\n",
       "    </tr>\n",
       "  </thead>\n",
       "  <tbody>\n",
       "    <tr>\n",
       "      <th>0</th>\n",
       "      <td>441_2_3</td>\n",
       "      <td>1.0</td>\n",
       "      <td>2.0</td>\n",
       "      <td>0.0</td>\n",
       "      <td>0</td>\n",
       "      <td>0.0</td>\n",
       "      <td>1.0</td>\n",
       "      <td>2.0</td>\n",
       "      <td>140000.0</td>\n",
       "      <td>4.0</td>\n",
       "    </tr>\n",
       "    <tr>\n",
       "      <th>1</th>\n",
       "      <td>647_7_1</td>\n",
       "      <td>1.0</td>\n",
       "      <td>2.0</td>\n",
       "      <td>0.0</td>\n",
       "      <td>0</td>\n",
       "      <td>0.0</td>\n",
       "      <td>1.0</td>\n",
       "      <td>2.0</td>\n",
       "      <td>75000.0</td>\n",
       "      <td>4.0</td>\n",
       "    </tr>\n",
       "    <tr>\n",
       "      <th>2</th>\n",
       "      <td>756_4_1</td>\n",
       "      <td>1.0</td>\n",
       "      <td>2.0</td>\n",
       "      <td>0.0</td>\n",
       "      <td>0</td>\n",
       "      <td>0.0</td>\n",
       "      <td>1.0</td>\n",
       "      <td>2.0</td>\n",
       "      <td>100000.0</td>\n",
       "      <td>6.0</td>\n",
       "    </tr>\n",
       "    <tr>\n",
       "      <th>3</th>\n",
       "      <td>25_4_3</td>\n",
       "      <td>1.0</td>\n",
       "      <td>5.0</td>\n",
       "      <td>2.0</td>\n",
       "      <td>0</td>\n",
       "      <td>0.0</td>\n",
       "      <td>3.0</td>\n",
       "      <td>2.0</td>\n",
       "      <td>730000.0</td>\n",
       "      <td>4.0</td>\n",
       "    </tr>\n",
       "    <tr>\n",
       "      <th>4</th>\n",
       "      <td>132_6_3</td>\n",
       "      <td>1.0</td>\n",
       "      <td>2.0</td>\n",
       "      <td>0.0</td>\n",
       "      <td>0</td>\n",
       "      <td>0.0</td>\n",
       "      <td>1.0</td>\n",
       "      <td>1.0</td>\n",
       "      <td>170000.0</td>\n",
       "      <td>3.0</td>\n",
       "    </tr>\n",
       "    <tr>\n",
       "      <th>...</th>\n",
       "      <td>...</td>\n",
       "      <td>...</td>\n",
       "      <td>...</td>\n",
       "      <td>...</td>\n",
       "      <td>...</td>\n",
       "      <td>...</td>\n",
       "      <td>...</td>\n",
       "      <td>...</td>\n",
       "      <td>...</td>\n",
       "      <td>...</td>\n",
       "    </tr>\n",
       "    <tr>\n",
       "      <th>5329</th>\n",
       "      <td>574_5_1</td>\n",
       "      <td>1.0</td>\n",
       "      <td>1.0</td>\n",
       "      <td>1.0</td>\n",
       "      <td>1</td>\n",
       "      <td>-1.0</td>\n",
       "      <td>1.0</td>\n",
       "      <td>2.0</td>\n",
       "      <td>754438.0</td>\n",
       "      <td>4.0</td>\n",
       "    </tr>\n",
       "    <tr>\n",
       "      <th>5330</th>\n",
       "      <td>618_2_1</td>\n",
       "      <td>0.0</td>\n",
       "      <td>1.0</td>\n",
       "      <td>1.0</td>\n",
       "      <td>1</td>\n",
       "      <td>-1.0</td>\n",
       "      <td>1.0</td>\n",
       "      <td>2.0</td>\n",
       "      <td>754438.0</td>\n",
       "      <td>2.0</td>\n",
       "    </tr>\n",
       "    <tr>\n",
       "      <th>5331</th>\n",
       "      <td>155_4_1</td>\n",
       "      <td>1.0</td>\n",
       "      <td>1.0</td>\n",
       "      <td>0.0</td>\n",
       "      <td>1</td>\n",
       "      <td>-1.0</td>\n",
       "      <td>1.0</td>\n",
       "      <td>2.0</td>\n",
       "      <td>754438.0</td>\n",
       "      <td>5.0</td>\n",
       "    </tr>\n",
       "    <tr>\n",
       "      <th>5332</th>\n",
       "      <td>475_5_1</td>\n",
       "      <td>1.0</td>\n",
       "      <td>1.0</td>\n",
       "      <td>2.0</td>\n",
       "      <td>1</td>\n",
       "      <td>-1.0</td>\n",
       "      <td>1.0</td>\n",
       "      <td>2.0</td>\n",
       "      <td>754438.0</td>\n",
       "      <td>3.0</td>\n",
       "    </tr>\n",
       "    <tr>\n",
       "      <th>5333</th>\n",
       "      <td>377_1_1</td>\n",
       "      <td>1.0</td>\n",
       "      <td>1.0</td>\n",
       "      <td>0.0</td>\n",
       "      <td>1</td>\n",
       "      <td>-1.0</td>\n",
       "      <td>1.0</td>\n",
       "      <td>2.0</td>\n",
       "      <td>754438.0</td>\n",
       "      <td>7.0</td>\n",
       "    </tr>\n",
       "  </tbody>\n",
       "</table>\n",
       "<p>5334 rows × 10 columns</p>\n",
       "</div>"
      ],
      "text/plain": [
       "          uid  ED_T1  ED_T2  ED_T3  ED_T4  ED_T5  ED_T6  ED_T7     ED_T8  \\\n",
       "0     441_2_3    1.0    2.0    0.0      0    0.0    1.0    2.0  140000.0   \n",
       "1     647_7_1    1.0    2.0    0.0      0    0.0    1.0    2.0   75000.0   \n",
       "2     756_4_1    1.0    2.0    0.0      0    0.0    1.0    2.0  100000.0   \n",
       "3      25_4_3    1.0    5.0    2.0      0    0.0    3.0    2.0  730000.0   \n",
       "4     132_6_3    1.0    2.0    0.0      0    0.0    1.0    1.0  170000.0   \n",
       "...       ...    ...    ...    ...    ...    ...    ...    ...       ...   \n",
       "5329  574_5_1    1.0    1.0    1.0      1   -1.0    1.0    2.0  754438.0   \n",
       "5330  618_2_1    0.0    1.0    1.0      1   -1.0    1.0    2.0  754438.0   \n",
       "5331  155_4_1    1.0    1.0    0.0      1   -1.0    1.0    2.0  754438.0   \n",
       "5332  475_5_1    1.0    1.0    2.0      1   -1.0    1.0    2.0  754438.0   \n",
       "5333  377_1_1    1.0    1.0    0.0      1   -1.0    1.0    2.0  754438.0   \n",
       "\n",
       "      poverty_score  \n",
       "0               4.0  \n",
       "1               4.0  \n",
       "2               6.0  \n",
       "3               4.0  \n",
       "4               3.0  \n",
       "...             ...  \n",
       "5329            4.0  \n",
       "5330            2.0  \n",
       "5331            5.0  \n",
       "5332            3.0  \n",
       "5333            7.0  \n",
       "\n",
       "[5334 rows x 10 columns]"
      ]
     },
     "execution_count": 72,
     "metadata": {},
     "output_type": "execute_result"
    }
   ],
   "source": [
    "df"
   ]
  },
  {
   "cell_type": "code",
   "execution_count": 73,
   "id": "181f8162-1d7b-4339-88c2-23b8b984d909",
   "metadata": {},
   "outputs": [],
   "source": [
    "df.to_csv('./final_transforms/ed_train.csv', index=False)\n"
   ]
  },
  {
   "cell_type": "code",
   "execution_count": null,
   "id": "827cb785-79e5-4cc1-bb05-055e415ec76d",
   "metadata": {},
   "outputs": [],
   "source": []
  }
 ],
 "metadata": {
  "kernelspec": {
   "display_name": "Python 3 (ipykernel)",
   "language": "python",
   "name": "python3"
  },
  "language_info": {
   "codemirror_mode": {
    "name": "ipython",
    "version": 3
   },
   "file_extension": ".py",
   "mimetype": "text/x-python",
   "name": "python",
   "nbconvert_exporter": "python",
   "pygments_lexer": "ipython3",
   "version": "3.12.7"
  }
 },
 "nbformat": 4,
 "nbformat_minor": 5
}
