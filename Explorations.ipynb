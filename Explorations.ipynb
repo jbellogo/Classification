{
 "cells": [
  {
   "cell_type": "markdown",
   "id": "52085ed3",
   "metadata": {},
   "source": [
    "# Exploring the data\n",
    "\n",
    "Independent variable: Poverty score (self reported) categorical outcome on a 1-10 scale\n",
    "\n",
    "Dependent variables divided into 2 categories:\n",
    "- Education data\n",
    "- Household data\n"
   ]
  },
  {
   "cell_type": "code",
   "execution_count": null,
   "id": "9b4ba002",
   "metadata": {},
   "outputs": [],
   "source": [
    "import pandas as pd\n",
    "import os, sys\n",
    "import matplotlib.pyplot as plt\n"
   ]
  },
  {
   "cell_type": "code",
   "execution_count": 7,
   "id": "983e21e3-70aa-4077-8949-0450209d6db1",
   "metadata": {},
   "outputs": [],
   "source": [
    "df = pd.read_csv('X_TRAIN.csv')"
   ]
  },
  {
   "cell_type": "code",
   "execution_count": null,
   "id": "98d640af-3459-416f-ab27-da03e63be0ac",
   "metadata": {},
   "outputs": [],
   "source": [
    "plt.hist(df['poverty_score_y'])"
   ]
  },
  {
   "cell_type": "markdown",
   "id": "d472eb6e-8948-4d0f-9090-557b0959d333",
   "metadata": {},
   "source": [
    "# Preliminary Variabla selection\n",
    "The purpose of this notebook is to identify the variables that are not useful for the prediction of wealth.\n",
    "\n",
    "Dropping useless variables "
   ]
  },
  {
   "cell_type": "code",
   "execution_count": 1,
   "id": "eaea2c70",
   "metadata": {},
   "outputs": [
    {
     "name": "stdout",
     "output_type": "stream",
     "text": [
      "Stored 'hh_useless_columns' (list)\n",
      "Stored 'ed_useful_columns' (list)\n"
     ]
    }
   ],
   "source": [
    "hh_useless_columns=['HH_Hhid', 'HH_Q04', 'HH_Q08', 'HH_Q12', 'HH_Q18']\n",
    "ed_useful_columns = [\n",
    "    'uid',\n",
    "    'ED_Q01', 'ED_Q02', 'ED_Q03', 'ED_Q04', 'ED_Q05', 'ED_Q06', 'ED_Q07', 'ED_Q08', 'ED_Q09', 'ED_Q10', 'ED_Q11', \n",
    "    'ED_Q14', 'ED_Q15', 'ED_Q16', 'ED_Q17', 'ED_Q18',\n",
    "    'ED_Q19',\n",
    "    'ED_Q23',\n",
    "    'ED_Q26', 'ED_Q27', 'ED_Q28', 'ED_Q29',\n",
    "    'ED_Q41', \n",
    "]\n",
    "%store hh_useless_columns\n",
    "%store ed_useful_columns\n"
   ]
  },
  {
   "cell_type": "code",
   "execution_count": null,
   "id": "e6e2602f",
   "metadata": {},
   "outputs": [],
   "source": []
  }
 ],
 "metadata": {
  "kernelspec": {
   "display_name": ".venv",
   "language": "python",
   "name": "python3"
  },
  "language_info": {
   "codemirror_mode": {
    "name": "ipython",
    "version": 3
   },
   "file_extension": ".py",
   "mimetype": "text/x-python",
   "name": "python",
   "nbconvert_exporter": "python",
   "pygments_lexer": "ipython3",
   "version": "3.12.8"
  }
 },
 "nbformat": 4,
 "nbformat_minor": 5
}
