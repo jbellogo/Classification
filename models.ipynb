{
 "cells": [
  {
   "cell_type": "code",
   "execution_count": null,
   "id": "7a593858-b82a-4abc-b015-22ce220825e4",
   "metadata": {},
   "outputs": [],
   "source": []
  },
  {
   "cell_type": "code",
   "execution_count": 4,
   "id": "795d44d6-bdb5-488f-80c5-d4a7b7abeb43",
   "metadata": {},
   "outputs": [],
   "source": [
    "import pandas as pd\n",
    "from sklearn.linear_model import LogisticRegression\n",
    "from sklearn.model_selection import train_test_split, cross_val_score\n",
    "from sklearn.metrics import log_loss, accuracy_score\n",
    "from sklearn.preprocessing import LabelEncoder\n",
    "from sklearn.neighbors import KNeighborsClassifier\n",
    "from sklearn.model_selection import GridSearchCV\n",
    "from sklearn.ensemble import RandomForestClassifier\n",
    "\n"
   ]
  },
  {
   "cell_type": "code",
   "execution_count": 81,
   "id": "a0e0664a-2274-4ba4-8e95-b5b3dc67a8da",
   "metadata": {},
   "outputs": [],
   "source": [
    "X = pd.read_csv('X.csv')\n",
    "y = pd.read_csv('y.csv')"
   ]
  },
  {
   "cell_type": "code",
   "execution_count": 83,
   "id": "0b8ab5c4-8dc7-47ec-9c0a-f3f05507977d",
   "metadata": {},
   "outputs": [],
   "source": [
    "y = y['poverty_score_y'].to_numpy()"
   ]
  },
  {
   "cell_type": "code",
   "execution_count": 85,
   "id": "e0b0b83c-fb58-4ba2-895d-99407cef57d2",
   "metadata": {},
   "outputs": [],
   "source": [
    "# forgot about this. for ocd reasons let\n",
    "X['attended_school'] = X['attended_school'].eq(1)\n"
   ]
  },
  {
   "cell_type": "markdown",
   "id": "0834d512-9546-4893-bc6b-546c469245cb",
   "metadata": {},
   "source": [
    "# Optional. Split into groups."
   ]
  },
  {
   "cell_type": "code",
   "execution_count": 95,
   "id": "0dad16ec-de2f-4b27-9906-b928b311a102",
   "metadata": {},
   "outputs": [],
   "source": [
    "group1 = X['attended_school'].eq(False)\n",
    "g1 = X[group1]\n",
    "school_variates = [\n",
    "    'highest_school_lvl', 'preschool', 'finish_school_age', 'school_transportation_time', 'school_transportation_cost',\n",
    "    'school_expenses', 'is_student', 'not_attend_reason1_2', 'not_attend_reason1_3', 'not_attend_reason1_4', \n",
    "    'not_attend_reason1_5', 'not_attend_reason1_6', 'not_attend_reason1_7', 'not_attend_reason1_8', 'not_attend_reason1_9', \n",
    "    'not_attend_reason1_10', 'not_attend_reason1_11', 'not_attend_reason1_12', 'not_attend_reason1_13', 'not_attend_reason1_14'\n",
    "]\n",
    "g1 = g1.drop(columns=school_variates)"
   ]
  },
  {
   "cell_type": "markdown",
   "id": "be50d4c5-ca45-4731-b267-559b4e3f27fb",
   "metadata": {},
   "source": [
    "# Models"
   ]
  },
  {
   "cell_type": "code",
   "execution_count": 7,
   "id": "d9ea214b-32c2-4c63-8f3e-d709edb003d9",
   "metadata": {},
   "outputs": [],
   "source": [
    "# Split into train and test sets\n",
    "X_train, X_test, y_train, y_test = train_test_split(X, y, test_size=0.2, random_state=42)\n"
   ]
  },
  {
   "cell_type": "code",
   "execution_count": 8,
   "id": "8ef5c53a-5ea9-4a2f-bc8e-0751319d8f8c",
   "metadata": {},
   "outputs": [
    {
     "name": "stderr",
     "output_type": "stream",
     "text": [
      "/opt/anaconda3/lib/python3.12/site-packages/sklearn/linear_model/_logistic.py:1247: FutureWarning: 'multi_class' was deprecated in version 1.5 and will be removed in 1.7. From then on, it will always use 'multinomial'. Leave it to its default value to avoid this warning.\n",
      "  warnings.warn(\n",
      "/opt/anaconda3/lib/python3.12/site-packages/sklearn/linear_model/_logistic.py:469: ConvergenceWarning: lbfgs failed to converge (status=1):\n",
      "STOP: TOTAL NO. of ITERATIONS REACHED LIMIT.\n",
      "\n",
      "Increase the number of iterations (max_iter) or scale the data as shown in:\n",
      "    https://scikit-learn.org/stable/modules/preprocessing.html\n",
      "Please also refer to the documentation for alternative solver options:\n",
      "    https://scikit-learn.org/stable/modules/linear_model.html#logistic-regression\n",
      "  n_iter_i = _check_optimize_result(\n"
     ]
    },
    {
     "data": {
      "text/plain": [
       "0.204311152764761"
      ]
     },
     "execution_count": 8,
     "metadata": {},
     "output_type": "execute_result"
    }
   ],
   "source": [
    "\n",
    "# Initialize Logistic Regression Model\n",
    "model = LogisticRegression(multi_class='multinomial', solver='lbfgs')\n",
    "\n",
    "# Train the model\n",
    "model.fit(X_train, y_train)\n",
    "\n",
    "# Predict on the test set\n",
    "y_pred = model.predict(X_test)\n",
    "\n",
    "accuracy = accuracy_score(y_test, y_pred)\n",
    "accuracy"
   ]
  },
  {
   "cell_type": "markdown",
   "id": "d6dcb7c8-ddb0-4814-9d04-b395dd92ac83",
   "metadata": {},
   "source": [
    "# kNN"
   ]
  },
  {
   "cell_type": "code",
   "execution_count": 10,
   "id": "122a6f6d-2562-4a2c-bfd6-65c9bb9de0eb",
   "metadata": {},
   "outputs": [
    {
     "name": "stdout",
     "output_type": "stream",
     "text": [
      "Cross-validation scores: [0.17525773 0.13589503 0.10215558 0.13776945 0.19230769]\n",
      "Average cross-validation accuracy: 0.15\n"
     ]
    }
   ],
   "source": [
    "knn = KNeighborsClassifier(n_neighbors=40)\n",
    "\n",
    "# Perform 5-fold cross-validation\n",
    "cv_scores = cross_val_score(knn, X, y, cv=5, scoring='accuracy')\n",
    "\n",
    "# Print the accuracy for each fold\n",
    "print(\"Cross-validation scores:\", cv_scores)\n",
    "print(f\"Average cross-validation accuracy: {cv_scores.mean():.2f}\")\n",
    "\n"
   ]
  },
  {
   "cell_type": "code",
   "execution_count": 11,
   "id": "e22e560d-769f-4f26-9d7d-366a453fa20a",
   "metadata": {},
   "outputs": [
    {
     "data": {
      "text/plain": [
       "array([[0.025, 0.125, 0.15 , ..., 0.05 , 0.   , 0.   ],\n",
       "       [0.025, 0.05 , 0.15 , ..., 0.05 , 0.   , 0.   ],\n",
       "       [0.125, 0.075, 0.175, ..., 0.05 , 0.   , 0.   ],\n",
       "       ...,\n",
       "       [0.   , 0.075, 0.15 , ..., 0.05 , 0.   , 0.   ],\n",
       "       [0.025, 0.   , 0.15 , ..., 0.025, 0.   , 0.   ],\n",
       "       [0.075, 0.15 , 0.225, ..., 0.025, 0.   , 0.   ]])"
      ]
     },
     "execution_count": 11,
     "metadata": {},
     "output_type": "execute_result"
    }
   ],
   "source": [
    "knn.fit(X_train, y_train)\n",
    "knn.predict_proba(X_test)"
   ]
  },
  {
   "cell_type": "markdown",
   "id": "b6156f9c-f316-4ba8-aec0-2014d80bf5c7",
   "metadata": {},
   "source": [
    "# Random Forest"
   ]
  },
  {
   "cell_type": "code",
   "execution_count": 13,
   "id": "cef6a2e4-eb6a-49b9-9006-c2c50bf021e6",
   "metadata": {},
   "outputs": [
    {
     "name": "stdout",
     "output_type": "stream",
     "text": [
      "Best parameters: {'max_depth': 10, 'min_samples_split': 5, 'n_estimators': 100}\n",
      "Best cross-validation accuracy: 0.19\n"
     ]
    }
   ],
   "source": [
    "\n",
    "\n",
    "# Set up a grid of hyperparameters to search over\n",
    "param_grid = {\n",
    "    'n_estimators': [50, 100, 150],\n",
    "    'max_depth': [None, 10, 20, 30],\n",
    "    'min_samples_split': [2, 5, 10]\n",
    "}\n",
    "\n",
    "# Initialize the Random Forest model\n",
    "rf = RandomForestClassifier(random_state=42)\n",
    "\n",
    "# Set up GridSearchCV to search over the hyperparameter grid\n",
    "grid_search = GridSearchCV(rf, param_grid, cv=5, scoring='accuracy')\n",
    "\n",
    "# Fit GridSearchCV to the training data\n",
    "grid_search.fit(X, y)\n",
    "\n",
    "# Get the best parameters and the best score\n",
    "print(f\"Best parameters: {grid_search.best_params_}\")\n",
    "print(f\"Best cross-validation accuracy: {grid_search.best_score_:.2f}\")\n"
   ]
  },
  {
   "cell_type": "code",
   "execution_count": 14,
   "id": "0d78514f-797e-4996-a804-6aea7084d9c3",
   "metadata": {},
   "outputs": [
    {
     "name": "stdout",
     "output_type": "stream",
     "text": [
      "Accuracy on the test set: 0.22\n"
     ]
    }
   ],
   "source": [
    "# Initialize the Random Forest model\n",
    "rf = RandomForestClassifier(n_estimators=100, max_depth=10, min_samples_split=5, random_state=42)\n",
    "\n",
    "# Train the Random Forest model on the training data\n",
    "rf.fit(X_train, y_train)\n",
    "\n",
    "# Make predictions on the test data\n",
    "y_pred = rf.predict(X_test)\n",
    "\n",
    "# Evaluate the model using accuracy\n",
    "accuracy = accuracy_score(y_test, y_pred)\n",
    "\n",
    "print(f\"Accuracy on the test set: {accuracy:.2f}\")\n"
   ]
  },
  {
   "cell_type": "code",
   "execution_count": 15,
   "id": "5cabeee0-39cf-4720-87fd-849f663570e1",
   "metadata": {},
   "outputs": [],
   "source": [
    "# X_test"
   ]
  },
  {
   "cell_type": "code",
   "execution_count": null,
   "id": "9ab96de6-ca29-4327-92d2-d1c0201e22e4",
   "metadata": {},
   "outputs": [],
   "source": []
  },
  {
   "cell_type": "code",
   "execution_count": null,
   "id": "c60b8313-3e8d-47af-811b-dab57fe7cc91",
   "metadata": {},
   "outputs": [],
   "source": []
  },
  {
   "cell_type": "markdown",
   "id": "7ee64bdd-8b22-4ef3-a725-d4ea157065a1",
   "metadata": {},
   "source": [
    "# Neural network"
   ]
  },
  {
   "cell_type": "code",
   "execution_count": 17,
   "id": "ced54d00-ad0f-4e4e-b455-11c91d551e24",
   "metadata": {},
   "outputs": [
    {
     "name": "stdout",
     "output_type": "stream",
     "text": [
      "Accuracy on the test set: 0.21\n"
     ]
    }
   ],
   "source": [
    "from sklearn.neural_network import MLPClassifier\n",
    "\n",
    "# Initialize the MLPClassifier for a neural network\n",
    "# 'hidden_layer_sizes' defines the number of neurons in the hidden layers (e.g., 100 neurons in one hidden layer)\n",
    "# 'max_iter' is the maximum number of iterations for training\n",
    "mlp = MLPClassifier(hidden_layer_sizes=(100,), max_iter=1000, random_state=42, solver='adam')\n",
    "\n",
    "# Train the model\n",
    "mlp.fit(X_train, y_train)\n",
    "\n",
    "# Make predictions on the test set\n",
    "y_pred = mlp.predict(X_test)\n",
    "\n",
    "# Evaluate the model using accuracy\n",
    "accuracy = accuracy_score(y_test, y_pred)\n",
    "\n",
    "print(f\"Accuracy on the test set: {accuracy:.2f}\")\n"
   ]
  },
  {
   "cell_type": "markdown",
   "id": "6fbf8207-8d7b-4c5e-9324-7f535a6008bd",
   "metadata": {},
   "source": [
    "# Do it for reals!"
   ]
  },
  {
   "cell_type": "code",
   "execution_count": 19,
   "id": "6d460979-3a10-4865-95a0-23f399cccaab",
   "metadata": {},
   "outputs": [],
   "source": [
    "X_test = pd.read_csv('X_TEST.csv')\n"
   ]
  },
  {
   "cell_type": "code",
   "execution_count": null,
   "id": "93ede0b6-e715-4a9f-b7d7-f073e602f817",
   "metadata": {},
   "outputs": [],
   "source": []
  },
  {
   "cell_type": "code",
   "execution_count": 20,
   "id": "736bfce1-ec3a-4aa8-9527-c3f0b41d007a",
   "metadata": {},
   "outputs": [],
   "source": [
    "# Initialize the Random Forest model\n",
    "rf = RandomForestClassifier(n_estimators=100, max_depth=10, min_samples_split=5, random_state=42)\n",
    "\n",
    "# Train the Random Forest model on the training data\n",
    "rf.fit(X, y)\n",
    "\n",
    "# Make predictions on the test data\n",
    "y_pred = rf.predict_proba(X_test)\n",
    "\n",
    "# Evaluate the model using accuracy\n",
    "# accuracy = accuracy_score(y_test, y_pred)\n",
    "\n",
    "# print(f\"Accuracy on the test set: {accuracy:.2f}\")\n"
   ]
  },
  {
   "cell_type": "code",
   "execution_count": 21,
   "id": "52abd558-bde5-48fc-a985-c747dd5ce9e3",
   "metadata": {},
   "outputs": [
    {
     "data": {
      "text/plain": [
       "array([[2.53093007e-02, 8.76460896e-02, 2.43833091e-01, ...,\n",
       "        8.53154367e-03, 2.03286766e-03, 1.04895105e-04],\n",
       "       [1.19941069e-02, 3.63834406e-02, 1.36402325e-01, ...,\n",
       "        1.66652578e-02, 2.31381632e-03, 1.61040631e-04],\n",
       "       [2.07525927e-02, 6.09179380e-02, 2.23392535e-01, ...,\n",
       "        1.52149537e-02, 1.15617691e-02, 2.72481366e-05],\n",
       "       ...,\n",
       "       [4.28394274e-02, 1.04454323e-01, 2.04358148e-01, ...,\n",
       "        2.88543891e-02, 5.26045401e-03, 3.66889062e-04],\n",
       "       [4.40887867e-02, 7.32583439e-02, 1.82109793e-01, ...,\n",
       "        3.40806917e-02, 4.69503833e-03, 1.22897331e-03],\n",
       "       [4.91515179e-02, 1.19092882e-01, 1.76123305e-01, ...,\n",
       "        3.10525543e-02, 4.58437054e-03, 7.49941508e-04]])"
      ]
     },
     "execution_count": 21,
     "metadata": {},
     "output_type": "execute_result"
    }
   ],
   "source": [
    "y_pred"
   ]
  },
  {
   "cell_type": "code",
   "execution_count": 22,
   "id": "796f01c0-3e90-4ee2-9349-ea92e79f090d",
   "metadata": {},
   "outputs": [],
   "source": [
    "cols = ['subjective_poverty_1', 'subjective_poverty_2', 'subjective_poverty_3', 'subjective_poverty_4', \n",
    "        'subjective_poverty_5', 'subjective_poverty_6',\n",
    "        'subjective_poverty_7', 'subjective_poverty_8', 'subjective_poverty_9', 'subjective_poverty_10']\n",
    "\n",
    "y = pd.DataFrame(y_pred, columns=cols)"
   ]
  },
  {
   "cell_type": "code",
   "execution_count": 23,
   "id": "471509d9-e0d5-4dc4-b747-c679fdfb5874",
   "metadata": {},
   "outputs": [
    {
     "data": {
      "text/html": [
       "<div>\n",
       "<style scoped>\n",
       "    .dataframe tbody tr th:only-of-type {\n",
       "        vertical-align: middle;\n",
       "    }\n",
       "\n",
       "    .dataframe tbody tr th {\n",
       "        vertical-align: top;\n",
       "    }\n",
       "\n",
       "    .dataframe thead th {\n",
       "        text-align: right;\n",
       "    }\n",
       "</style>\n",
       "<table border=\"1\" class=\"dataframe\">\n",
       "  <thead>\n",
       "    <tr style=\"text-align: right;\">\n",
       "      <th></th>\n",
       "      <th>subjective_poverty_1</th>\n",
       "      <th>subjective_poverty_2</th>\n",
       "      <th>subjective_poverty_3</th>\n",
       "      <th>subjective_poverty_4</th>\n",
       "      <th>subjective_poverty_5</th>\n",
       "      <th>subjective_poverty_6</th>\n",
       "      <th>subjective_poverty_7</th>\n",
       "      <th>subjective_poverty_8</th>\n",
       "      <th>subjective_poverty_9</th>\n",
       "      <th>subjective_poverty_10</th>\n",
       "    </tr>\n",
       "  </thead>\n",
       "  <tbody>\n",
       "    <tr>\n",
       "      <th>0</th>\n",
       "      <td>0.025309</td>\n",
       "      <td>0.087646</td>\n",
       "      <td>0.243833</td>\n",
       "      <td>0.170635</td>\n",
       "      <td>0.114408</td>\n",
       "      <td>0.188915</td>\n",
       "      <td>0.158584</td>\n",
       "      <td>0.008532</td>\n",
       "      <td>0.002033</td>\n",
       "      <td>0.000105</td>\n",
       "    </tr>\n",
       "    <tr>\n",
       "      <th>1</th>\n",
       "      <td>0.011994</td>\n",
       "      <td>0.036383</td>\n",
       "      <td>0.136402</td>\n",
       "      <td>0.065581</td>\n",
       "      <td>0.095866</td>\n",
       "      <td>0.462719</td>\n",
       "      <td>0.171914</td>\n",
       "      <td>0.016665</td>\n",
       "      <td>0.002314</td>\n",
       "      <td>0.000161</td>\n",
       "    </tr>\n",
       "    <tr>\n",
       "      <th>2</th>\n",
       "      <td>0.020753</td>\n",
       "      <td>0.060918</td>\n",
       "      <td>0.223393</td>\n",
       "      <td>0.094560</td>\n",
       "      <td>0.135650</td>\n",
       "      <td>0.195184</td>\n",
       "      <td>0.242739</td>\n",
       "      <td>0.015215</td>\n",
       "      <td>0.011562</td>\n",
       "      <td>0.000027</td>\n",
       "    </tr>\n",
       "    <tr>\n",
       "      <th>3</th>\n",
       "      <td>0.026740</td>\n",
       "      <td>0.027193</td>\n",
       "      <td>0.133244</td>\n",
       "      <td>0.144981</td>\n",
       "      <td>0.121820</td>\n",
       "      <td>0.320215</td>\n",
       "      <td>0.143331</td>\n",
       "      <td>0.074825</td>\n",
       "      <td>0.006752</td>\n",
       "      <td>0.000897</td>\n",
       "    </tr>\n",
       "    <tr>\n",
       "      <th>4</th>\n",
       "      <td>0.021059</td>\n",
       "      <td>0.016259</td>\n",
       "      <td>0.100628</td>\n",
       "      <td>0.107433</td>\n",
       "      <td>0.098068</td>\n",
       "      <td>0.421778</td>\n",
       "      <td>0.111222</td>\n",
       "      <td>0.116720</td>\n",
       "      <td>0.004974</td>\n",
       "      <td>0.001858</td>\n",
       "    </tr>\n",
       "    <tr>\n",
       "      <th>...</th>\n",
       "      <td>...</td>\n",
       "      <td>...</td>\n",
       "      <td>...</td>\n",
       "      <td>...</td>\n",
       "      <td>...</td>\n",
       "      <td>...</td>\n",
       "      <td>...</td>\n",
       "      <td>...</td>\n",
       "      <td>...</td>\n",
       "      <td>...</td>\n",
       "    </tr>\n",
       "    <tr>\n",
       "      <th>1329</th>\n",
       "      <td>0.032418</td>\n",
       "      <td>0.078204</td>\n",
       "      <td>0.192048</td>\n",
       "      <td>0.162700</td>\n",
       "      <td>0.244029</td>\n",
       "      <td>0.160747</td>\n",
       "      <td>0.089845</td>\n",
       "      <td>0.031766</td>\n",
       "      <td>0.007778</td>\n",
       "      <td>0.000465</td>\n",
       "    </tr>\n",
       "    <tr>\n",
       "      <th>1330</th>\n",
       "      <td>0.013448</td>\n",
       "      <td>0.031178</td>\n",
       "      <td>0.062911</td>\n",
       "      <td>0.119185</td>\n",
       "      <td>0.174909</td>\n",
       "      <td>0.315854</td>\n",
       "      <td>0.146811</td>\n",
       "      <td>0.114282</td>\n",
       "      <td>0.018759</td>\n",
       "      <td>0.002664</td>\n",
       "    </tr>\n",
       "    <tr>\n",
       "      <th>1331</th>\n",
       "      <td>0.042839</td>\n",
       "      <td>0.104454</td>\n",
       "      <td>0.204358</td>\n",
       "      <td>0.210259</td>\n",
       "      <td>0.173608</td>\n",
       "      <td>0.157596</td>\n",
       "      <td>0.072404</td>\n",
       "      <td>0.028854</td>\n",
       "      <td>0.005260</td>\n",
       "      <td>0.000367</td>\n",
       "    </tr>\n",
       "    <tr>\n",
       "      <th>1332</th>\n",
       "      <td>0.044089</td>\n",
       "      <td>0.073258</td>\n",
       "      <td>0.182110</td>\n",
       "      <td>0.174890</td>\n",
       "      <td>0.194822</td>\n",
       "      <td>0.191915</td>\n",
       "      <td>0.098911</td>\n",
       "      <td>0.034081</td>\n",
       "      <td>0.004695</td>\n",
       "      <td>0.001229</td>\n",
       "    </tr>\n",
       "    <tr>\n",
       "      <th>1333</th>\n",
       "      <td>0.049152</td>\n",
       "      <td>0.119093</td>\n",
       "      <td>0.176123</td>\n",
       "      <td>0.216566</td>\n",
       "      <td>0.168104</td>\n",
       "      <td>0.159593</td>\n",
       "      <td>0.074983</td>\n",
       "      <td>0.031053</td>\n",
       "      <td>0.004584</td>\n",
       "      <td>0.000750</td>\n",
       "    </tr>\n",
       "  </tbody>\n",
       "</table>\n",
       "<p>1334 rows × 10 columns</p>\n",
       "</div>"
      ],
      "text/plain": [
       "      subjective_poverty_1  subjective_poverty_2  subjective_poverty_3  \\\n",
       "0                 0.025309              0.087646              0.243833   \n",
       "1                 0.011994              0.036383              0.136402   \n",
       "2                 0.020753              0.060918              0.223393   \n",
       "3                 0.026740              0.027193              0.133244   \n",
       "4                 0.021059              0.016259              0.100628   \n",
       "...                    ...                   ...                   ...   \n",
       "1329              0.032418              0.078204              0.192048   \n",
       "1330              0.013448              0.031178              0.062911   \n",
       "1331              0.042839              0.104454              0.204358   \n",
       "1332              0.044089              0.073258              0.182110   \n",
       "1333              0.049152              0.119093              0.176123   \n",
       "\n",
       "      subjective_poverty_4  subjective_poverty_5  subjective_poverty_6  \\\n",
       "0                 0.170635              0.114408              0.188915   \n",
       "1                 0.065581              0.095866              0.462719   \n",
       "2                 0.094560              0.135650              0.195184   \n",
       "3                 0.144981              0.121820              0.320215   \n",
       "4                 0.107433              0.098068              0.421778   \n",
       "...                    ...                   ...                   ...   \n",
       "1329              0.162700              0.244029              0.160747   \n",
       "1330              0.119185              0.174909              0.315854   \n",
       "1331              0.210259              0.173608              0.157596   \n",
       "1332              0.174890              0.194822              0.191915   \n",
       "1333              0.216566              0.168104              0.159593   \n",
       "\n",
       "      subjective_poverty_7  subjective_poverty_8  subjective_poverty_9  \\\n",
       "0                 0.158584              0.008532              0.002033   \n",
       "1                 0.171914              0.016665              0.002314   \n",
       "2                 0.242739              0.015215              0.011562   \n",
       "3                 0.143331              0.074825              0.006752   \n",
       "4                 0.111222              0.116720              0.004974   \n",
       "...                    ...                   ...                   ...   \n",
       "1329              0.089845              0.031766              0.007778   \n",
       "1330              0.146811              0.114282              0.018759   \n",
       "1331              0.072404              0.028854              0.005260   \n",
       "1332              0.098911              0.034081              0.004695   \n",
       "1333              0.074983              0.031053              0.004584   \n",
       "\n",
       "      subjective_poverty_10  \n",
       "0                  0.000105  \n",
       "1                  0.000161  \n",
       "2                  0.000027  \n",
       "3                  0.000897  \n",
       "4                  0.001858  \n",
       "...                     ...  \n",
       "1329               0.000465  \n",
       "1330               0.002664  \n",
       "1331               0.000367  \n",
       "1332               0.001229  \n",
       "1333               0.000750  \n",
       "\n",
       "[1334 rows x 10 columns]"
      ]
     },
     "execution_count": 23,
     "metadata": {},
     "output_type": "execute_result"
    }
   ],
   "source": [
    "y"
   ]
  },
  {
   "cell_type": "code",
   "execution_count": 24,
   "id": "da44c1c3-3de0-4e75-9ba4-1aa2a947555d",
   "metadata": {},
   "outputs": [],
   "source": [
    "uids = pd.read_csv('uids.csv')"
   ]
  },
  {
   "cell_type": "code",
   "execution_count": 25,
   "id": "0849770f-8db1-4d4a-a9aa-9fe459157b60",
   "metadata": {},
   "outputs": [],
   "source": [
    "ans = pd.concat([uids, y], axis=1)\n"
   ]
  },
  {
   "cell_type": "code",
   "execution_count": 26,
   "id": "4f25940e-eff5-48e5-845a-da6f38ec0bcf",
   "metadata": {},
   "outputs": [],
   "source": [
    "ans.rename(columns={'uid': 'psu_hh_idcode'}, inplace=True)\n"
   ]
  },
  {
   "cell_type": "code",
   "execution_count": 27,
   "id": "f4265d57-27b1-4931-9a50-a3dfd65f3dca",
   "metadata": {},
   "outputs": [
    {
     "data": {
      "text/html": [
       "<div>\n",
       "<style scoped>\n",
       "    .dataframe tbody tr th:only-of-type {\n",
       "        vertical-align: middle;\n",
       "    }\n",
       "\n",
       "    .dataframe tbody tr th {\n",
       "        vertical-align: top;\n",
       "    }\n",
       "\n",
       "    .dataframe thead th {\n",
       "        text-align: right;\n",
       "    }\n",
       "</style>\n",
       "<table border=\"1\" class=\"dataframe\">\n",
       "  <thead>\n",
       "    <tr style=\"text-align: right;\">\n",
       "      <th></th>\n",
       "      <th>psu_hh_idcode</th>\n",
       "      <th>subjective_poverty_1</th>\n",
       "      <th>subjective_poverty_2</th>\n",
       "      <th>subjective_poverty_3</th>\n",
       "      <th>subjective_poverty_4</th>\n",
       "      <th>subjective_poverty_5</th>\n",
       "      <th>subjective_poverty_6</th>\n",
       "      <th>subjective_poverty_7</th>\n",
       "      <th>subjective_poverty_8</th>\n",
       "      <th>subjective_poverty_9</th>\n",
       "      <th>subjective_poverty_10</th>\n",
       "    </tr>\n",
       "  </thead>\n",
       "  <tbody>\n",
       "    <tr>\n",
       "      <th>0</th>\n",
       "      <td>648_6_4</td>\n",
       "      <td>0.025309</td>\n",
       "      <td>0.087646</td>\n",
       "      <td>0.243833</td>\n",
       "      <td>0.170635</td>\n",
       "      <td>0.114408</td>\n",
       "      <td>0.188915</td>\n",
       "      <td>0.158584</td>\n",
       "      <td>0.008532</td>\n",
       "      <td>0.002033</td>\n",
       "      <td>0.000105</td>\n",
       "    </tr>\n",
       "    <tr>\n",
       "      <th>1</th>\n",
       "      <td>756_3_3</td>\n",
       "      <td>0.011994</td>\n",
       "      <td>0.036383</td>\n",
       "      <td>0.136402</td>\n",
       "      <td>0.065581</td>\n",
       "      <td>0.095866</td>\n",
       "      <td>0.462719</td>\n",
       "      <td>0.171914</td>\n",
       "      <td>0.016665</td>\n",
       "      <td>0.002314</td>\n",
       "      <td>0.000161</td>\n",
       "    </tr>\n",
       "    <tr>\n",
       "      <th>2</th>\n",
       "      <td>164_8_3</td>\n",
       "      <td>0.020753</td>\n",
       "      <td>0.060918</td>\n",
       "      <td>0.223393</td>\n",
       "      <td>0.094560</td>\n",
       "      <td>0.135650</td>\n",
       "      <td>0.195184</td>\n",
       "      <td>0.242739</td>\n",
       "      <td>0.015215</td>\n",
       "      <td>0.011562</td>\n",
       "      <td>0.000027</td>\n",
       "    </tr>\n",
       "    <tr>\n",
       "      <th>3</th>\n",
       "      <td>375_4_4</td>\n",
       "      <td>0.026740</td>\n",
       "      <td>0.027193</td>\n",
       "      <td>0.133244</td>\n",
       "      <td>0.144981</td>\n",
       "      <td>0.121820</td>\n",
       "      <td>0.320215</td>\n",
       "      <td>0.143331</td>\n",
       "      <td>0.074825</td>\n",
       "      <td>0.006752</td>\n",
       "      <td>0.000897</td>\n",
       "    </tr>\n",
       "    <tr>\n",
       "      <th>4</th>\n",
       "      <td>403_9_1</td>\n",
       "      <td>0.021059</td>\n",
       "      <td>0.016259</td>\n",
       "      <td>0.100628</td>\n",
       "      <td>0.107433</td>\n",
       "      <td>0.098068</td>\n",
       "      <td>0.421778</td>\n",
       "      <td>0.111222</td>\n",
       "      <td>0.116720</td>\n",
       "      <td>0.004974</td>\n",
       "      <td>0.001858</td>\n",
       "    </tr>\n",
       "    <tr>\n",
       "      <th>...</th>\n",
       "      <td>...</td>\n",
       "      <td>...</td>\n",
       "      <td>...</td>\n",
       "      <td>...</td>\n",
       "      <td>...</td>\n",
       "      <td>...</td>\n",
       "      <td>...</td>\n",
       "      <td>...</td>\n",
       "      <td>...</td>\n",
       "      <td>...</td>\n",
       "      <td>...</td>\n",
       "    </tr>\n",
       "    <tr>\n",
       "      <th>1329</th>\n",
       "      <td>612_1_1</td>\n",
       "      <td>0.032418</td>\n",
       "      <td>0.078204</td>\n",
       "      <td>0.192048</td>\n",
       "      <td>0.162700</td>\n",
       "      <td>0.244029</td>\n",
       "      <td>0.160747</td>\n",
       "      <td>0.089845</td>\n",
       "      <td>0.031766</td>\n",
       "      <td>0.007778</td>\n",
       "      <td>0.000465</td>\n",
       "    </tr>\n",
       "    <tr>\n",
       "      <th>1330</th>\n",
       "      <td>738_1_3</td>\n",
       "      <td>0.013448</td>\n",
       "      <td>0.031178</td>\n",
       "      <td>0.062911</td>\n",
       "      <td>0.119185</td>\n",
       "      <td>0.174909</td>\n",
       "      <td>0.315854</td>\n",
       "      <td>0.146811</td>\n",
       "      <td>0.114282</td>\n",
       "      <td>0.018759</td>\n",
       "      <td>0.002664</td>\n",
       "    </tr>\n",
       "    <tr>\n",
       "      <th>1331</th>\n",
       "      <td>191_10_2</td>\n",
       "      <td>0.042839</td>\n",
       "      <td>0.104454</td>\n",
       "      <td>0.204358</td>\n",
       "      <td>0.210259</td>\n",
       "      <td>0.173608</td>\n",
       "      <td>0.157596</td>\n",
       "      <td>0.072404</td>\n",
       "      <td>0.028854</td>\n",
       "      <td>0.005260</td>\n",
       "      <td>0.000367</td>\n",
       "    </tr>\n",
       "    <tr>\n",
       "      <th>1332</th>\n",
       "      <td>475_9_5</td>\n",
       "      <td>0.044089</td>\n",
       "      <td>0.073258</td>\n",
       "      <td>0.182110</td>\n",
       "      <td>0.174890</td>\n",
       "      <td>0.194822</td>\n",
       "      <td>0.191915</td>\n",
       "      <td>0.098911</td>\n",
       "      <td>0.034081</td>\n",
       "      <td>0.004695</td>\n",
       "      <td>0.001229</td>\n",
       "    </tr>\n",
       "    <tr>\n",
       "      <th>1333</th>\n",
       "      <td>53_2_1</td>\n",
       "      <td>0.049152</td>\n",
       "      <td>0.119093</td>\n",
       "      <td>0.176123</td>\n",
       "      <td>0.216566</td>\n",
       "      <td>0.168104</td>\n",
       "      <td>0.159593</td>\n",
       "      <td>0.074983</td>\n",
       "      <td>0.031053</td>\n",
       "      <td>0.004584</td>\n",
       "      <td>0.000750</td>\n",
       "    </tr>\n",
       "  </tbody>\n",
       "</table>\n",
       "<p>1334 rows × 11 columns</p>\n",
       "</div>"
      ],
      "text/plain": [
       "     psu_hh_idcode  subjective_poverty_1  subjective_poverty_2  \\\n",
       "0          648_6_4              0.025309              0.087646   \n",
       "1          756_3_3              0.011994              0.036383   \n",
       "2          164_8_3              0.020753              0.060918   \n",
       "3          375_4_4              0.026740              0.027193   \n",
       "4          403_9_1              0.021059              0.016259   \n",
       "...            ...                   ...                   ...   \n",
       "1329       612_1_1              0.032418              0.078204   \n",
       "1330       738_1_3              0.013448              0.031178   \n",
       "1331      191_10_2              0.042839              0.104454   \n",
       "1332       475_9_5              0.044089              0.073258   \n",
       "1333        53_2_1              0.049152              0.119093   \n",
       "\n",
       "      subjective_poverty_3  subjective_poverty_4  subjective_poverty_5  \\\n",
       "0                 0.243833              0.170635              0.114408   \n",
       "1                 0.136402              0.065581              0.095866   \n",
       "2                 0.223393              0.094560              0.135650   \n",
       "3                 0.133244              0.144981              0.121820   \n",
       "4                 0.100628              0.107433              0.098068   \n",
       "...                    ...                   ...                   ...   \n",
       "1329              0.192048              0.162700              0.244029   \n",
       "1330              0.062911              0.119185              0.174909   \n",
       "1331              0.204358              0.210259              0.173608   \n",
       "1332              0.182110              0.174890              0.194822   \n",
       "1333              0.176123              0.216566              0.168104   \n",
       "\n",
       "      subjective_poverty_6  subjective_poverty_7  subjective_poverty_8  \\\n",
       "0                 0.188915              0.158584              0.008532   \n",
       "1                 0.462719              0.171914              0.016665   \n",
       "2                 0.195184              0.242739              0.015215   \n",
       "3                 0.320215              0.143331              0.074825   \n",
       "4                 0.421778              0.111222              0.116720   \n",
       "...                    ...                   ...                   ...   \n",
       "1329              0.160747              0.089845              0.031766   \n",
       "1330              0.315854              0.146811              0.114282   \n",
       "1331              0.157596              0.072404              0.028854   \n",
       "1332              0.191915              0.098911              0.034081   \n",
       "1333              0.159593              0.074983              0.031053   \n",
       "\n",
       "      subjective_poverty_9  subjective_poverty_10  \n",
       "0                 0.002033               0.000105  \n",
       "1                 0.002314               0.000161  \n",
       "2                 0.011562               0.000027  \n",
       "3                 0.006752               0.000897  \n",
       "4                 0.004974               0.001858  \n",
       "...                    ...                    ...  \n",
       "1329              0.007778               0.000465  \n",
       "1330              0.018759               0.002664  \n",
       "1331              0.005260               0.000367  \n",
       "1332              0.004695               0.001229  \n",
       "1333              0.004584               0.000750  \n",
       "\n",
       "[1334 rows x 11 columns]"
      ]
     },
     "execution_count": 27,
     "metadata": {},
     "output_type": "execute_result"
    }
   ],
   "source": [
    "ans"
   ]
  },
  {
   "cell_type": "code",
   "execution_count": 55,
   "id": "7ddb5f50-44a3-4807-b3d0-64667287d275",
   "metadata": {},
   "outputs": [],
   "source": [
    "ans.to_csv('solution.csv', index=False)\n"
   ]
  },
  {
   "cell_type": "code",
   "execution_count": null,
   "id": "bbb4aa32-4376-42c0-99f6-0b1411da3a73",
   "metadata": {},
   "outputs": [],
   "source": []
  }
 ],
 "metadata": {
  "kernelspec": {
   "display_name": "Python 3 (ipykernel)",
   "language": "python",
   "name": "python3"
  },
  "language_info": {
   "codemirror_mode": {
    "name": "ipython",
    "version": 3
   },
   "file_extension": ".py",
   "mimetype": "text/x-python",
   "name": "python",
   "nbconvert_exporter": "python",
   "pygments_lexer": "ipython3",
   "version": "3.12.7"
  }
 },
 "nbformat": 4,
 "nbformat_minor": 5
}
