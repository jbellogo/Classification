{
 "cells": [
  {
   "cell_type": "markdown",
   "id": "e501b525-cd46-448a-bf0a-ac87cce7aa4f",
   "metadata": {},
   "source": [
    "# Train data Preprocessing"
   ]
  },
  {
   "cell_type": "code",
   "execution_count": 78,
   "id": "958622a2-70ca-4a31-94d9-18d758f15b77",
   "metadata": {},
   "outputs": [],
   "source": [
    "import pandas as pd\n",
    "import os, sys\n",
    "import matplotlib.pyplot as plt\n"
   ]
  },
  {
   "cell_type": "code",
   "execution_count": 79,
   "id": "d49610b8-3878-4de9-84e0-193b4f0bbad3",
   "metadata": {},
   "outputs": [],
   "source": [
    "# variates\n",
    "ed = pd.read_csv('./data/train_data/ed_train_raw.csv') # education DataFrame\n",
    "hh = pd.read_csv('./data/train_data/hh_train_raw.csv') # household DataFrame\n",
    "\n",
    "# labels\n",
    "poverty = pd.read_csv('./data/train_data/poverty_train_raw.csv') # poverty/labels\n"
   ]
  },
  {
   "cell_type": "markdown",
   "id": "7f26fdcd",
   "metadata": {},
   "source": [
    "# Education data"
   ]
  },
  {
   "cell_type": "code",
   "execution_count": 80,
   "id": "af099bfa-0343-4619-a432-0b1fe49e3805",
   "metadata": {},
   "outputs": [
    {
     "data": {
      "text/html": [
       "<div>\n",
       "<style scoped>\n",
       "    .dataframe tbody tr th:only-of-type {\n",
       "        vertical-align: middle;\n",
       "    }\n",
       "\n",
       "    .dataframe tbody tr th {\n",
       "        vertical-align: top;\n",
       "    }\n",
       "\n",
       "    .dataframe thead th {\n",
       "        text-align: right;\n",
       "    }\n",
       "</style>\n",
       "<table border=\"1\" class=\"dataframe\">\n",
       "  <thead>\n",
       "    <tr style=\"text-align: right;\">\n",
       "      <th></th>\n",
       "      <th>psu</th>\n",
       "      <th>hh</th>\n",
       "      <th>idcode</th>\n",
       "      <th>q01</th>\n",
       "      <th>q02</th>\n",
       "      <th>q03</th>\n",
       "      <th>q04</th>\n",
       "      <th>q05</th>\n",
       "      <th>q06</th>\n",
       "      <th>q07</th>\n",
       "      <th>...</th>\n",
       "      <th>Q57</th>\n",
       "      <th>Q58</th>\n",
       "      <th>Q59</th>\n",
       "      <th>Q60</th>\n",
       "      <th>Q61</th>\n",
       "      <th>Q62</th>\n",
       "      <th>Q63</th>\n",
       "      <th>Q64</th>\n",
       "      <th>Q65</th>\n",
       "      <th>Q66</th>\n",
       "    </tr>\n",
       "  </thead>\n",
       "  <tbody>\n",
       "    <tr>\n",
       "      <th>0</th>\n",
       "      <td>2</td>\n",
       "      <td>8</td>\n",
       "      <td>3</td>\n",
       "      <td>1</td>\n",
       "      <td>1</td>\n",
       "      <td>1</td>\n",
       "      <td>2.0</td>\n",
       "      <td>3.0</td>\n",
       "      <td>3.0</td>\n",
       "      <td>2.0</td>\n",
       "      <td>...</td>\n",
       "      <td>2.0</td>\n",
       "      <td>NaN</td>\n",
       "      <td>2.0</td>\n",
       "      <td>NaN</td>\n",
       "      <td>2.0</td>\n",
       "      <td>NaN</td>\n",
       "      <td>NaN</td>\n",
       "      <td>2.0</td>\n",
       "      <td>NaN</td>\n",
       "      <td>2.0</td>\n",
       "    </tr>\n",
       "    <tr>\n",
       "      <th>1</th>\n",
       "      <td>3</td>\n",
       "      <td>8</td>\n",
       "      <td>4</td>\n",
       "      <td>1</td>\n",
       "      <td>1</td>\n",
       "      <td>1</td>\n",
       "      <td>2.0</td>\n",
       "      <td>2.0</td>\n",
       "      <td>2.0</td>\n",
       "      <td>0.0</td>\n",
       "      <td>...</td>\n",
       "      <td>2.0</td>\n",
       "      <td>NaN</td>\n",
       "      <td>2.0</td>\n",
       "      <td>NaN</td>\n",
       "      <td>2.0</td>\n",
       "      <td>NaN</td>\n",
       "      <td>NaN</td>\n",
       "      <td>2.0</td>\n",
       "      <td>NaN</td>\n",
       "      <td>2.0</td>\n",
       "    </tr>\n",
       "    <tr>\n",
       "      <th>2</th>\n",
       "      <td>6</td>\n",
       "      <td>5</td>\n",
       "      <td>3</td>\n",
       "      <td>1</td>\n",
       "      <td>1</td>\n",
       "      <td>1</td>\n",
       "      <td>2.0</td>\n",
       "      <td>3.0</td>\n",
       "      <td>3.0</td>\n",
       "      <td>0.0</td>\n",
       "      <td>...</td>\n",
       "      <td>2.0</td>\n",
       "      <td>NaN</td>\n",
       "      <td>2.0</td>\n",
       "      <td>NaN</td>\n",
       "      <td>2.0</td>\n",
       "      <td>NaN</td>\n",
       "      <td>NaN</td>\n",
       "      <td>2.0</td>\n",
       "      <td>NaN</td>\n",
       "      <td>4.0</td>\n",
       "    </tr>\n",
       "  </tbody>\n",
       "</table>\n",
       "<p>3 rows × 69 columns</p>\n",
       "</div>"
      ],
      "text/plain": [
       "   psu  hh  idcode  q01  q02  q03  q04  q05  q06  q07  ...  Q57  Q58  Q59  \\\n",
       "0    2   8       3    1    1    1  2.0  3.0  3.0  2.0  ...  2.0  NaN  2.0   \n",
       "1    3   8       4    1    1    1  2.0  2.0  2.0  0.0  ...  2.0  NaN  2.0   \n",
       "2    6   5       3    1    1    1  2.0  3.0  3.0  0.0  ...  2.0  NaN  2.0   \n",
       "\n",
       "   Q60  Q61  Q62  Q63  Q64  Q65  Q66  \n",
       "0  NaN  2.0  NaN  NaN  2.0  NaN  2.0  \n",
       "1  NaN  2.0  NaN  NaN  2.0  NaN  2.0  \n",
       "2  NaN  2.0  NaN  NaN  2.0  NaN  4.0  \n",
       "\n",
       "[3 rows x 69 columns]"
      ]
     },
     "execution_count": 80,
     "metadata": {},
     "output_type": "execute_result"
    }
   ],
   "source": [
    "ed.head(3)"
   ]
  },
  {
   "cell_type": "code",
   "execution_count": 81,
   "id": "58469f2d-f256-4fb6-ace8-942ab49414d8",
   "metadata": {},
   "outputs": [],
   "source": [
    "def preprocess_df(df, suffix:str):\n",
    "    ## merge first three columns into psu_hh_idcode identifier\n",
    "    uids = df['psu'].astype(str) + \"_\"  + df['hh'].astype(str) + \"_\" + df['idcode'].astype(str) \n",
    "    df = df.drop(columns=['psu', 'hh', 'idcode'])\n",
    "\n",
    "    ## Capitalize all Q's in column names. Add ED or HH to the beginning of each variable\n",
    "    df.columns = [suffix + \"_\" + col.capitalize() for col in df.columns]\n",
    "\n",
    "    # Insert uid as first column, lowercase, no prefix.\n",
    "    df.insert(0, 'uid', uids)\n",
    "\n",
    "    return df\n",
    "\n",
    "ed = preprocess_df(ed, 'ED')\n",
    "hh = preprocess_df(hh, 'HH')"
   ]
  },
  {
   "cell_type": "markdown",
   "id": "4fffb221-4408-4770-90c8-37b61ef87d4b",
   "metadata": {},
   "source": [
    "# Remove useless variates\n",
    " \n",
    "See Explorations.ipynb for more details on variable selection."
   ]
  },
  {
   "cell_type": "code",
   "execution_count": 82,
   "id": "d8122b4a",
   "metadata": {},
   "outputs": [],
   "source": [
    "# These variables are set in Explorations.ipynb\n",
    "%store -r hh_useless_columns\n",
    "%store -r ed_useful_columns\n"
   ]
  },
  {
   "cell_type": "code",
   "execution_count": 83,
   "id": "e22d3927-4c28-4887-882e-beb47b80acda",
   "metadata": {},
   "outputs": [],
   "source": [
    "\n",
    "hh = hh.drop(columns=hh_useless_columns)\n",
    "ed = ed[ed_useful_columns]\n"
   ]
  },
  {
   "cell_type": "markdown",
   "id": "98c2ef5b-3de1-40b1-bffe-a3f0dffd3e05",
   "metadata": {},
   "source": [
    "# Filter data based on avaliable labels \n",
    "Not all uids have a reported poverty score assigned to them, so we cannot train our models on all of the data. \n"
   ]
  },
  {
   "cell_type": "code",
   "execution_count": 84,
   "id": "529fad6a-0f9e-4c84-8bd5-ed374d121147",
   "metadata": {},
   "outputs": [],
   "source": [
    "\n",
    "### Convert poverty scores from one hot encoding [0,1] to a single column [1-10]\n",
    "for i in range(1,11):\n",
    "    col = 'subjective_poverty_'+ str(i)\n",
    "    poverty.loc[poverty[col]==1, 'poverty_score'] = i\n",
    "\n",
    "poverty['uid'] = poverty['psu_hh_idcode']\n",
    "poverty = poverty[['uid', 'poverty_score']]\n"
   ]
  },
  {
   "cell_type": "code",
   "execution_count": 85,
   "id": "4b7b605c",
   "metadata": {},
   "outputs": [],
   "source": [
    "# select only eduction and household data for those uids that have reported a poverty score.\n",
    "\n",
    "ed = ed[ed['uid'].isin(poverty['uid'])]\n",
    "ed = ed.merge(poverty[['uid', 'poverty_score']], on='uid', how='left')\n",
    "\n",
    "hh = hh[hh['uid'].isin(poverty['uid'])]\n",
    "hh = hh.merge(poverty[['uid', 'poverty_score']], on='uid', how='left')"
   ]
  },
  {
   "cell_type": "markdown",
   "id": "f12c6171-aca7-4576-b4ce-a3e87db436a7",
   "metadata": {},
   "source": [
    "# Rename variates for interpretability\n",
    "\n",
    "* Plus some basic feature engineering.\n"
   ]
  },
  {
   "cell_type": "code",
   "execution_count": 86,
   "id": "8df0b089",
   "metadata": {},
   "outputs": [],
   "source": [
    "\n",
    "# EDUCATION DATA\n",
    "\n",
    "ed['read'] =  ed['ED_Q01']\n",
    "ed['write'] = ed['ED_Q02']\n",
    "\n",
    "ed['attended_school'] = ed['ED_Q03'] # from 1 yes, 2 No\n",
    "\n",
    "ed['highest_school_lvl'] = ed['ED_Q04'] #  categories=list(range(1, 11))) # 8yrs - PhD\n",
    "\n",
    "ed['preschool'] = ed['ED_Q07'] # years\n",
    "\n",
    "# Merge\n",
    "ed['now_enrolled'] = ed['ED_Q08'] #.eq(1)\n",
    "ed['now_attending'] = ed['ED_Q09'] # from 1 yes, 2 No\n",
    "ed['past_enrolled'] = ed['ED_Q14'] # from 1 yes, 2 No\n",
    "ed['past_attending'] = ed['ED_Q15'] # from 1 yes, 2 No\n",
    "\n",
    "# Merge\n",
    "ed['now_not_attend_reason'] = ed['ED_Q10'] #    categories=list(range(1, 13)))\n",
    "ed['now_not_enroll_reason'] = ed['ED_Q11'] # categories=list(range(1, 14)))\n",
    "ed['past_not_attend_reason'] = ed['ED_Q16'] # categories=list(range(1, 13)))\n",
    "ed['past_not_enroll_reason'] = ed['ED_Q17'] # categories=list(range(1, 14)))\n",
    "\n",
    "\n",
    "ed['finish_school_age'] = ed['ED_Q18'] \n",
    "\n",
    "ed['public_private_school'] = ed['ED_Q23'] # categories=list(range(1, 4)))\n",
    "\n",
    "ed['school_transportation_time'] = ed['ED_Q26'] # in hours, truncate minutes \n",
    "\n",
    "ed['school_transportation_vehicle'] = ed['ED_Q28'] # categories=list(range(1, 7)))\n",
    "\n",
    "ed['school_transportation_cost'] = ed['ED_Q29'] \n",
    "\n",
    "ed['school_expenses'] = ed['ED_Q41'] \n",
    "\n",
    "named_variates = [\n",
    "    'uid',\n",
    "    'read',\n",
    "    'write',\n",
    "    'attended_school','highest_school_lvl',\n",
    "    'preschool',\n",
    "    'now_enrolled','now_attending','past_enrolled', 'past_attending',\n",
    "    'now_not_attend_reason','now_not_enroll_reason','past_not_attend_reason','past_not_enroll_reason',\n",
    "    'finish_school_age',\n",
    "    'public_private_school',\n",
    "    'school_transportation_time','school_transportation_vehicle',\n",
    "    'school_transportation_cost','school_expenses',\n",
    "    'poverty_score'\n",
    "]\n",
    "\n",
    "ed = ed[named_variates]"
   ]
  },
  {
   "cell_type": "code",
   "execution_count": 87,
   "id": "9ab89fbb",
   "metadata": {},
   "outputs": [
    {
     "data": {
      "text/html": [
       "<div>\n",
       "<style scoped>\n",
       "    .dataframe tbody tr th:only-of-type {\n",
       "        vertical-align: middle;\n",
       "    }\n",
       "\n",
       "    .dataframe tbody tr th {\n",
       "        vertical-align: top;\n",
       "    }\n",
       "\n",
       "    .dataframe thead th {\n",
       "        text-align: right;\n",
       "    }\n",
       "</style>\n",
       "<table border=\"1\" class=\"dataframe\">\n",
       "  <thead>\n",
       "    <tr style=\"text-align: right;\">\n",
       "      <th></th>\n",
       "      <th>uid</th>\n",
       "      <th>read</th>\n",
       "      <th>write</th>\n",
       "      <th>attended_school</th>\n",
       "      <th>highest_school_lvl</th>\n",
       "      <th>preschool</th>\n",
       "      <th>now_enrolled</th>\n",
       "      <th>now_attending</th>\n",
       "      <th>past_enrolled</th>\n",
       "      <th>past_attending</th>\n",
       "      <th>...</th>\n",
       "      <th>now_not_enroll_reason</th>\n",
       "      <th>past_not_attend_reason</th>\n",
       "      <th>past_not_enroll_reason</th>\n",
       "      <th>finish_school_age</th>\n",
       "      <th>public_private_school</th>\n",
       "      <th>school_transportation_time</th>\n",
       "      <th>school_transportation_vehicle</th>\n",
       "      <th>school_transportation_cost</th>\n",
       "      <th>school_expenses</th>\n",
       "      <th>poverty_score</th>\n",
       "    </tr>\n",
       "  </thead>\n",
       "  <tbody>\n",
       "    <tr>\n",
       "      <th>0</th>\n",
       "      <td>441_2_3</td>\n",
       "      <td>1</td>\n",
       "      <td>1</td>\n",
       "      <td>1</td>\n",
       "      <td>2.0</td>\n",
       "      <td>0.0</td>\n",
       "      <td>1.0</td>\n",
       "      <td>1.0</td>\n",
       "      <td>1.0</td>\n",
       "      <td>1.0</td>\n",
       "      <td>...</td>\n",
       "      <td>NaN</td>\n",
       "      <td>NaN</td>\n",
       "      <td>NaN</td>\n",
       "      <td>NaN</td>\n",
       "      <td>1.0</td>\n",
       "      <td>0.0</td>\n",
       "      <td>1.0</td>\n",
       "      <td>NaN</td>\n",
       "      <td>140000.0</td>\n",
       "      <td>4.0</td>\n",
       "    </tr>\n",
       "    <tr>\n",
       "      <th>1</th>\n",
       "      <td>647_7_1</td>\n",
       "      <td>1</td>\n",
       "      <td>1</td>\n",
       "      <td>1</td>\n",
       "      <td>2.0</td>\n",
       "      <td>0.0</td>\n",
       "      <td>1.0</td>\n",
       "      <td>1.0</td>\n",
       "      <td>1.0</td>\n",
       "      <td>1.0</td>\n",
       "      <td>...</td>\n",
       "      <td>NaN</td>\n",
       "      <td>NaN</td>\n",
       "      <td>NaN</td>\n",
       "      <td>NaN</td>\n",
       "      <td>1.0</td>\n",
       "      <td>0.0</td>\n",
       "      <td>1.0</td>\n",
       "      <td>NaN</td>\n",
       "      <td>75000.0</td>\n",
       "      <td>4.0</td>\n",
       "    </tr>\n",
       "    <tr>\n",
       "      <th>2</th>\n",
       "      <td>756_4_1</td>\n",
       "      <td>1</td>\n",
       "      <td>1</td>\n",
       "      <td>1</td>\n",
       "      <td>2.0</td>\n",
       "      <td>0.0</td>\n",
       "      <td>1.0</td>\n",
       "      <td>1.0</td>\n",
       "      <td>1.0</td>\n",
       "      <td>1.0</td>\n",
       "      <td>...</td>\n",
       "      <td>NaN</td>\n",
       "      <td>NaN</td>\n",
       "      <td>NaN</td>\n",
       "      <td>NaN</td>\n",
       "      <td>1.0</td>\n",
       "      <td>0.0</td>\n",
       "      <td>1.0</td>\n",
       "      <td>NaN</td>\n",
       "      <td>100000.0</td>\n",
       "      <td>6.0</td>\n",
       "    </tr>\n",
       "  </tbody>\n",
       "</table>\n",
       "<p>3 rows × 21 columns</p>\n",
       "</div>"
      ],
      "text/plain": [
       "       uid  read  write  attended_school  highest_school_lvl  preschool  \\\n",
       "0  441_2_3     1      1                1                 2.0        0.0   \n",
       "1  647_7_1     1      1                1                 2.0        0.0   \n",
       "2  756_4_1     1      1                1                 2.0        0.0   \n",
       "\n",
       "   now_enrolled  now_attending  past_enrolled  past_attending  ...  \\\n",
       "0           1.0            1.0            1.0             1.0  ...   \n",
       "1           1.0            1.0            1.0             1.0  ...   \n",
       "2           1.0            1.0            1.0             1.0  ...   \n",
       "\n",
       "   now_not_enroll_reason  past_not_attend_reason  past_not_enroll_reason  \\\n",
       "0                    NaN                     NaN                     NaN   \n",
       "1                    NaN                     NaN                     NaN   \n",
       "2                    NaN                     NaN                     NaN   \n",
       "\n",
       "   finish_school_age  public_private_school  school_transportation_time  \\\n",
       "0                NaN                    1.0                         0.0   \n",
       "1                NaN                    1.0                         0.0   \n",
       "2                NaN                    1.0                         0.0   \n",
       "\n",
       "   school_transportation_vehicle  school_transportation_cost  school_expenses  \\\n",
       "0                            1.0                         NaN         140000.0   \n",
       "1                            1.0                         NaN          75000.0   \n",
       "2                            1.0                         NaN         100000.0   \n",
       "\n",
       "   poverty_score  \n",
       "0            4.0  \n",
       "1            4.0  \n",
       "2            6.0  \n",
       "\n",
       "[3 rows x 21 columns]"
      ]
     },
     "execution_count": 87,
     "metadata": {},
     "output_type": "execute_result"
    }
   ],
   "source": [
    "ed.head(3)"
   ]
  },
  {
   "cell_type": "markdown",
   "id": "aa8f938e",
   "metadata": {},
   "source": [
    "# Processing NaNs and variable selection\n",
    "* You shuold take care of the NaNs before any feature engineering, even .eq(1)"
   ]
  },
  {
   "cell_type": "code",
   "execution_count": 88,
   "id": "9106f13a",
   "metadata": {},
   "outputs": [
    {
     "name": "stderr",
     "output_type": "stream",
     "text": [
      "/var/folders/21/wpdrdb153rgcw7h7qz_vrd_40000gn/T/ipykernel_91384/1920975587.py:7: FutureWarning: Setting an item of incompatible dtype is deprecated and will raise in a future error of pandas. Value '[ True  True  True ...  True  True  True]' has dtype incompatible with int64, please explicitly cast to a compatible dtype first.\n",
      "  ed.loc[:, 'read'] = ed['read'].eq(1)\n",
      "/var/folders/21/wpdrdb153rgcw7h7qz_vrd_40000gn/T/ipykernel_91384/1920975587.py:8: FutureWarning: Setting an item of incompatible dtype is deprecated and will raise in a future error of pandas. Value '[ True  True  True ...  True  True  True]' has dtype incompatible with int64, please explicitly cast to a compatible dtype first.\n",
      "  ed.loc[:, 'write'] = ed['write'].eq(1)\n",
      "/var/folders/21/wpdrdb153rgcw7h7qz_vrd_40000gn/T/ipykernel_91384/1920975587.py:9: FutureWarning: Setting an item of incompatible dtype is deprecated and will raise in a future error of pandas. Value '[ True  True  True ...  True  True  True]' has dtype incompatible with int64, please explicitly cast to a compatible dtype first.\n",
      "  ed.loc[:, 'attended_school'] = ed['attended_school'].eq(1)\n"
     ]
    }
   ],
   "source": [
    "# variables with no NaNs\n",
    "assert(len(ed.loc[ed['read'].isna()]) == 0)\n",
    "assert(len(ed.loc[ed['write'].isna()]) == 0)\n",
    "assert(len(ed.loc[ed['attended_school'].isna()]) == 0)\n",
    "\n",
    "# Convert to boolean\n",
    "ed.loc[:, 'read'] = ed['read'].eq(1)\n",
    "ed.loc[:, 'write'] = ed['write'].eq(1)\n",
    "ed.loc[:, 'attended_school'] = ed['attended_school'].eq(1)\n"
   ]
  },
  {
   "cell_type": "markdown",
   "id": "36f4cc4d",
   "metadata": {},
   "source": [
    "# VAR:Attended_school \n",
    "This variate reveals the possibility of splitting the data into two groups:\n",
    "\n",
    "1. Attended school (All variates avaliable to predict poverty score)\n",
    "2. Did not attend school (Only read and write variates avaliable to predict poverty score)\n",
    "    * 139 is a small group though, so we could just remove all of them. "
   ]
  },
  {
   "cell_type": "code",
   "execution_count": 89,
   "id": "6bb39e96",
   "metadata": {},
   "outputs": [],
   "source": [
    "# Evidence for the above claims\n",
    "not_atended = ed.loc[ed['attended_school'].eq(False)]['uid']\n",
    "no_school = ed.loc[ed['highest_school_lvl'].isna()]['uid']\n",
    "assert(not_atended.equals(no_school))\n",
    "assert(len(no_school) == 139)"
   ]
  },
  {
   "cell_type": "code",
   "execution_count": 90,
   "id": "55a3cd14",
   "metadata": {},
   "outputs": [
    {
     "name": "stdout",
     "output_type": "stream",
     "text": [
      "Total percentage of people who did not attend school in test data: 0.02923538230884558\n"
     ]
    }
   ],
   "source": [
    "# Let's see how many people we are interested in predicting have not attended school\n",
    "test_data = pd.read_csv('./data/test_data/edu_test.csv')\n",
    "# 39 is the same number as before\n",
    "test_data_did_not_attend = len(test_data.loc[test_data['q03'].eq(2)])\n",
    "assert(test_data_did_not_attend == 39)\n",
    "total_rows = test_data.shape[0]\n",
    "print(f\"Total percentage of people who did not attend school in test data: {test_data_did_not_attend / total_rows}\")\n"
   ]
  },
  {
   "cell_type": "code",
   "execution_count": 91,
   "id": "c97de3b1",
   "metadata": {},
   "outputs": [
    {
     "data": {
      "text/plain": [
       "(5334, 21)"
      ]
     },
     "execution_count": 91,
     "metadata": {},
     "output_type": "execute_result"
    }
   ],
   "source": [
    "ed.shape"
   ]
  },
  {
   "cell_type": "markdown",
   "id": "389555d8",
   "metadata": {},
   "source": [
    "Based on this, we can remove the 139 people who did not attend school from the training data for now. Evaluate choice later."
   ]
  },
  {
   "cell_type": "code",
   "execution_count": 92,
   "id": "776771bc",
   "metadata": {},
   "outputs": [],
   "source": [
    "condition = ed['attended_school'].eq(True)\n",
    "ed = ed[condition]\n",
    "hh = hh[hh['uid'].isin(ed['uid'])]"
   ]
  },
  {
   "cell_type": "code",
   "execution_count": 93,
   "id": "f11ae24f",
   "metadata": {},
   "outputs": [],
   "source": [
    "# attended school now becomes redundant\n",
    "ed = ed.drop(columns=['attended_school'])\n"
   ]
  },
  {
   "cell_type": "markdown",
   "id": "ab8c62ca",
   "metadata": {},
   "source": [
    "# VAR:highest_school_lvl\n",
    "Supposed to be a categorical variable with values 1-11.\n",
    "Training data range is only 1-10."
   ]
  },
  {
   "cell_type": "code",
   "execution_count": 94,
   "id": "c7c4b9c9",
   "metadata": {},
   "outputs": [
    {
     "data": {
      "text/plain": [
       "count    5195.000000\n",
       "mean        2.171126\n",
       "std         1.763821\n",
       "min         1.000000\n",
       "25%         1.000000\n",
       "50%         1.000000\n",
       "75%         2.000000\n",
       "max        10.000000\n",
       "Name: highest_school_lvl, dtype: float64"
      ]
     },
     "execution_count": 94,
     "metadata": {},
     "output_type": "execute_result"
    }
   ],
   "source": [
    "ed['highest_school_lvl'].describe()"
   ]
  },
  {
   "cell_type": "code",
   "execution_count": 95,
   "id": "0fa9fd5a",
   "metadata": {},
   "outputs": [],
   "source": [
    "# No NaNs to worry about\n",
    "assert(len(ed.loc[ed['highest_school_lvl'].isna()]) == 0)\n",
    "# No 11 categories \n",
    "assert(len(ed.loc[ed['highest_school_lvl'].eq(11)]) == 0)"
   ]
  },
  {
   "cell_type": "code",
   "execution_count": 96,
   "id": "59e0997b",
   "metadata": {},
   "outputs": [],
   "source": [
    "# All we need to do is convert to categorical\n",
    "CATEGORIES = 10\n",
    "ed['highest_school_lvl'] = pd.Categorical(ed['highest_school_lvl'], \n",
    "                                          categories=list(range(1, CATEGORIES)))\n"
   ]
  },
  {
   "cell_type": "markdown",
   "id": "7ab80df7",
   "metadata": {},
   "source": [
    "# VAR:preschool"
   ]
  },
  {
   "cell_type": "code",
   "execution_count": 97,
   "id": "71b1dbd4",
   "metadata": {},
   "outputs": [],
   "source": [
    "# No NaNs to worry about\n",
    "assert(len(ed.loc[ed['preschool'].isna()]) == 0)"
   ]
  },
  {
   "cell_type": "code",
   "execution_count": 98,
   "id": "99acf7c4",
   "metadata": {},
   "outputs": [
    {
     "data": {
      "text/plain": [
       "count    5195.000000\n",
       "mean        0.529355\n",
       "std         0.814562\n",
       "min         0.000000\n",
       "25%         0.000000\n",
       "50%         0.000000\n",
       "75%         1.000000\n",
       "max         4.000000\n",
       "Name: preschool, dtype: float64"
      ]
     },
     "execution_count": 98,
     "metadata": {},
     "output_type": "execute_result"
    }
   ],
   "source": [
    "ed['preschool'].describe()"
   ]
  },
  {
   "cell_type": "markdown",
   "id": "28b81553",
   "metadata": {},
   "source": [
    "# VARS:\n",
    "* now_enrolled\n",
    "* now_attending\n",
    "* past_enrolled\n",
    "* past_attending\n",
    "* now_not_attend_reason\n",
    "* now_not_enroll_reason\n",
    "* past_not_attend_reason\n",
    "* past_not_enroll_reason\n",
    "\n",
    "# At the very least, we have the following dependencies: \n",
    "* now_enrolled -> now_not_enroll_reason==null\n",
    "* now_attending -> now_not_attend_reason==null\n",
    "* past_enrolled -> past_not_enroll_reason==null\n",
    "* past_attending -> past_not_attend_reason==null\n",
    "\n",
    "So we can merge now_enrolled and now_not_enroll_reason into a single categorical variable."
   ]
  },
  {
   "cell_type": "code",
   "execution_count": null,
   "id": "bf9cef3a",
   "metadata": {},
   "outputs": [],
   "source": [
    "# VAR:now_attending\n",
    "\n",
    "assert(len(ed.loc[ed['now_enrolled'].isna()]) == 0)\n"
   ]
  },
  {
   "cell_type": "markdown",
   "id": "d4be83a9",
   "metadata": {},
   "source": [
    "### Claim: \n",
    "* now_attending==Null <-> now_enrolled==False\n",
    "* If you didn't enroll, you obviously can't attend.\n",
    "\n",
    "What can we do with this knowledge?\n",
    "\n"
   ]
  },
  {
   "cell_type": "code",
   "execution_count": null,
   "id": "129e7987",
   "metadata": {},
   "outputs": [],
   "source": [
    "# Proof \n",
    "not_enrolled = ed.loc[ed['now_enrolled'].eq(2)]\n",
    "attending_no_ans = ed.loc[ed['now_attending'].isna()]\n",
    "assert(attending_no_ans.equals(not_enrolled))"
   ]
  },
  {
   "cell_type": "markdown",
   "id": "e95a6154",
   "metadata": {},
   "source": [
    "So now I am wondering when exactly are enrollemnt and attendance different?\n",
    "\n",
    "* The asnwer is not that often. Only 8 students enrolled but did no attend in the test data. \n",
    "* We can further see that they all have the same reason for not attending: Reason #2: \"Not interested\" HUH! "
   ]
  },
  {
   "cell_type": "code",
   "execution_count": 112,
   "id": "70d52365",
   "metadata": {},
   "outputs": [
    {
     "data": {
      "text/html": [
       "<div>\n",
       "<style scoped>\n",
       "    .dataframe tbody tr th:only-of-type {\n",
       "        vertical-align: middle;\n",
       "    }\n",
       "\n",
       "    .dataframe tbody tr th {\n",
       "        vertical-align: top;\n",
       "    }\n",
       "\n",
       "    .dataframe thead th {\n",
       "        text-align: right;\n",
       "    }\n",
       "</style>\n",
       "<table border=\"1\" class=\"dataframe\">\n",
       "  <thead>\n",
       "    <tr style=\"text-align: right;\">\n",
       "      <th></th>\n",
       "      <th>uid</th>\n",
       "      <th>now_enrolled</th>\n",
       "      <th>now_attending</th>\n",
       "      <th>now_not_attend_reason</th>\n",
       "    </tr>\n",
       "  </thead>\n",
       "  <tbody>\n",
       "    <tr>\n",
       "      <th>290</th>\n",
       "      <td>502_4_1</td>\n",
       "      <td>1.0</td>\n",
       "      <td>2.0</td>\n",
       "      <td>2.0</td>\n",
       "    </tr>\n",
       "    <tr>\n",
       "      <th>293</th>\n",
       "      <td>830_9_1</td>\n",
       "      <td>1.0</td>\n",
       "      <td>2.0</td>\n",
       "      <td>2.0</td>\n",
       "    </tr>\n",
       "    <tr>\n",
       "      <th>502</th>\n",
       "      <td>284_6_1</td>\n",
       "      <td>1.0</td>\n",
       "      <td>2.0</td>\n",
       "      <td>2.0</td>\n",
       "    </tr>\n",
       "    <tr>\n",
       "      <th>537</th>\n",
       "      <td>369_2_2</td>\n",
       "      <td>1.0</td>\n",
       "      <td>2.0</td>\n",
       "      <td>2.0</td>\n",
       "    </tr>\n",
       "    <tr>\n",
       "      <th>876</th>\n",
       "      <td>829_7_2</td>\n",
       "      <td>1.0</td>\n",
       "      <td>2.0</td>\n",
       "      <td>2.0</td>\n",
       "    </tr>\n",
       "    <tr>\n",
       "      <th>1000</th>\n",
       "      <td>771_2_2</td>\n",
       "      <td>1.0</td>\n",
       "      <td>2.0</td>\n",
       "      <td>2.0</td>\n",
       "    </tr>\n",
       "    <tr>\n",
       "      <th>1082</th>\n",
       "      <td>491_6_1</td>\n",
       "      <td>1.0</td>\n",
       "      <td>2.0</td>\n",
       "      <td>2.0</td>\n",
       "    </tr>\n",
       "    <tr>\n",
       "      <th>4194</th>\n",
       "      <td>77_5_1</td>\n",
       "      <td>1.0</td>\n",
       "      <td>2.0</td>\n",
       "      <td>2.0</td>\n",
       "    </tr>\n",
       "  </tbody>\n",
       "</table>\n",
       "</div>"
      ],
      "text/plain": [
       "          uid  now_enrolled  now_attending  now_not_attend_reason\n",
       "290   502_4_1           1.0            2.0                    2.0\n",
       "293   830_9_1           1.0            2.0                    2.0\n",
       "502   284_6_1           1.0            2.0                    2.0\n",
       "537   369_2_2           1.0            2.0                    2.0\n",
       "876   829_7_2           1.0            2.0                    2.0\n",
       "1000  771_2_2           1.0            2.0                    2.0\n",
       "1082  491_6_1           1.0            2.0                    2.0\n",
       "4194   77_5_1           1.0            2.0                    2.0"
      ]
     },
     "execution_count": 112,
     "metadata": {},
     "output_type": "execute_result"
    }
   ],
   "source": [
    "# Proof\n",
    "enroll_did_not_attend = ed['now_enrolled'].eq(1) & ed['now_attending'].eq(2)\n",
    "\n",
    "ed.loc[enroll_did_not_attend, ['uid', 'now_enrolled', 'now_attending', 'now_not_attend_reason']]"
   ]
  },
  {
   "cell_type": "markdown",
   "id": "0a51f36d",
   "metadata": {},
   "source": [
    "If these group pf students was larger and if they had modal reason for not attending realting to poverty, then we could justify the value of having a \"now_enrolled\" and a \"now_attending\" variables. But since neither is true, we can just use \"now_enrolled\" as a proxy for \"now_attending\"."
   ]
  },
  {
   "cell_type": "code",
   "execution_count": 113,
   "id": "03dccb9f",
   "metadata": {},
   "outputs": [],
   "source": [
    "# Making some assumptions for past_attending, past_not_attend_reason, past_not_enroll_reason\n",
    "# Can evaluate/tune later.\n",
    "ed = ed.drop(columns=['now_attending', 'past_attending', 'now_not_attend_reason', 'past_not_attend_reason'])\n"
   ]
  },
  {
   "cell_type": "markdown",
   "id": "395192ca",
   "metadata": {},
   "source": [
    "Now let's see how now_enrolled and past_enrolled are related"
   ]
  },
  {
   "cell_type": "code",
   "execution_count": 125,
   "id": "e6fb2540",
   "metadata": {},
   "outputs": [
    {
     "data": {
      "text/html": [
       "<div>\n",
       "<style scoped>\n",
       "    .dataframe tbody tr th:only-of-type {\n",
       "        vertical-align: middle;\n",
       "    }\n",
       "\n",
       "    .dataframe tbody tr th {\n",
       "        vertical-align: top;\n",
       "    }\n",
       "\n",
       "    .dataframe thead th {\n",
       "        text-align: right;\n",
       "    }\n",
       "</style>\n",
       "<table border=\"1\" class=\"dataframe\">\n",
       "  <thead>\n",
       "    <tr style=\"text-align: right;\">\n",
       "      <th></th>\n",
       "      <th>uid</th>\n",
       "      <th>now_enrolled</th>\n",
       "      <th>past_enrolled</th>\n",
       "      <th>now_not_enroll_reason</th>\n",
       "      <th>past_not_enroll_reason</th>\n",
       "      <th>poverty_score</th>\n",
       "    </tr>\n",
       "  </thead>\n",
       "  <tbody>\n",
       "    <tr>\n",
       "      <th>16</th>\n",
       "      <td>767_6_7</td>\n",
       "      <td>2.0</td>\n",
       "      <td>1.0</td>\n",
       "      <td>13.0</td>\n",
       "      <td>NaN</td>\n",
       "      <td>4.0</td>\n",
       "    </tr>\n",
       "    <tr>\n",
       "      <th>26</th>\n",
       "      <td>486_7_2</td>\n",
       "      <td>2.0</td>\n",
       "      <td>1.0</td>\n",
       "      <td>13.0</td>\n",
       "      <td>NaN</td>\n",
       "      <td>3.0</td>\n",
       "    </tr>\n",
       "    <tr>\n",
       "      <th>31</th>\n",
       "      <td>747_3_3</td>\n",
       "      <td>2.0</td>\n",
       "      <td>1.0</td>\n",
       "      <td>13.0</td>\n",
       "      <td>NaN</td>\n",
       "      <td>4.0</td>\n",
       "    </tr>\n",
       "    <tr>\n",
       "      <th>34</th>\n",
       "      <td>175_8_3</td>\n",
       "      <td>2.0</td>\n",
       "      <td>1.0</td>\n",
       "      <td>13.0</td>\n",
       "      <td>NaN</td>\n",
       "      <td>3.0</td>\n",
       "    </tr>\n",
       "    <tr>\n",
       "      <th>290</th>\n",
       "      <td>502_4_1</td>\n",
       "      <td>1.0</td>\n",
       "      <td>2.0</td>\n",
       "      <td>NaN</td>\n",
       "      <td>2.0</td>\n",
       "      <td>3.0</td>\n",
       "    </tr>\n",
       "    <tr>\n",
       "      <th>293</th>\n",
       "      <td>830_9_1</td>\n",
       "      <td>1.0</td>\n",
       "      <td>2.0</td>\n",
       "      <td>NaN</td>\n",
       "      <td>2.0</td>\n",
       "      <td>5.0</td>\n",
       "    </tr>\n",
       "    <tr>\n",
       "      <th>502</th>\n",
       "      <td>284_6_1</td>\n",
       "      <td>1.0</td>\n",
       "      <td>2.0</td>\n",
       "      <td>NaN</td>\n",
       "      <td>2.0</td>\n",
       "      <td>6.0</td>\n",
       "    </tr>\n",
       "    <tr>\n",
       "      <th>537</th>\n",
       "      <td>369_2_2</td>\n",
       "      <td>1.0</td>\n",
       "      <td>2.0</td>\n",
       "      <td>NaN</td>\n",
       "      <td>2.0</td>\n",
       "      <td>4.0</td>\n",
       "    </tr>\n",
       "    <tr>\n",
       "      <th>876</th>\n",
       "      <td>829_7_2</td>\n",
       "      <td>1.0</td>\n",
       "      <td>2.0</td>\n",
       "      <td>NaN</td>\n",
       "      <td>2.0</td>\n",
       "      <td>6.0</td>\n",
       "    </tr>\n",
       "    <tr>\n",
       "      <th>1000</th>\n",
       "      <td>771_2_2</td>\n",
       "      <td>1.0</td>\n",
       "      <td>2.0</td>\n",
       "      <td>NaN</td>\n",
       "      <td>2.0</td>\n",
       "      <td>2.0</td>\n",
       "    </tr>\n",
       "    <tr>\n",
       "      <th>1082</th>\n",
       "      <td>491_6_1</td>\n",
       "      <td>1.0</td>\n",
       "      <td>2.0</td>\n",
       "      <td>NaN</td>\n",
       "      <td>2.0</td>\n",
       "      <td>7.0</td>\n",
       "    </tr>\n",
       "    <tr>\n",
       "      <th>1411</th>\n",
       "      <td>721_10_3</td>\n",
       "      <td>1.0</td>\n",
       "      <td>2.0</td>\n",
       "      <td>NaN</td>\n",
       "      <td>4.0</td>\n",
       "      <td>9.0</td>\n",
       "    </tr>\n",
       "    <tr>\n",
       "      <th>1413</th>\n",
       "      <td>149_5_3</td>\n",
       "      <td>1.0</td>\n",
       "      <td>2.0</td>\n",
       "      <td>NaN</td>\n",
       "      <td>4.0</td>\n",
       "      <td>5.0</td>\n",
       "    </tr>\n",
       "    <tr>\n",
       "      <th>1446</th>\n",
       "      <td>546_3_1</td>\n",
       "      <td>1.0</td>\n",
       "      <td>2.0</td>\n",
       "      <td>NaN</td>\n",
       "      <td>4.0</td>\n",
       "      <td>4.0</td>\n",
       "    </tr>\n",
       "    <tr>\n",
       "      <th>1450</th>\n",
       "      <td>174_8_2</td>\n",
       "      <td>1.0</td>\n",
       "      <td>2.0</td>\n",
       "      <td>NaN</td>\n",
       "      <td>4.0</td>\n",
       "      <td>5.0</td>\n",
       "    </tr>\n",
       "    <tr>\n",
       "      <th>4194</th>\n",
       "      <td>77_5_1</td>\n",
       "      <td>1.0</td>\n",
       "      <td>2.0</td>\n",
       "      <td>NaN</td>\n",
       "      <td>13.0</td>\n",
       "      <td>3.0</td>\n",
       "    </tr>\n",
       "    <tr>\n",
       "      <th>5297</th>\n",
       "      <td>438_9_4</td>\n",
       "      <td>1.0</td>\n",
       "      <td>2.0</td>\n",
       "      <td>NaN</td>\n",
       "      <td>2.0</td>\n",
       "      <td>6.0</td>\n",
       "    </tr>\n",
       "  </tbody>\n",
       "</table>\n",
       "</div>"
      ],
      "text/plain": [
       "           uid  now_enrolled  past_enrolled  now_not_enroll_reason  \\\n",
       "16     767_6_7           2.0            1.0                   13.0   \n",
       "26     486_7_2           2.0            1.0                   13.0   \n",
       "31     747_3_3           2.0            1.0                   13.0   \n",
       "34     175_8_3           2.0            1.0                   13.0   \n",
       "290    502_4_1           1.0            2.0                    NaN   \n",
       "293    830_9_1           1.0            2.0                    NaN   \n",
       "502    284_6_1           1.0            2.0                    NaN   \n",
       "537    369_2_2           1.0            2.0                    NaN   \n",
       "876    829_7_2           1.0            2.0                    NaN   \n",
       "1000   771_2_2           1.0            2.0                    NaN   \n",
       "1082   491_6_1           1.0            2.0                    NaN   \n",
       "1411  721_10_3           1.0            2.0                    NaN   \n",
       "1413   149_5_3           1.0            2.0                    NaN   \n",
       "1446   546_3_1           1.0            2.0                    NaN   \n",
       "1450   174_8_2           1.0            2.0                    NaN   \n",
       "4194    77_5_1           1.0            2.0                    NaN   \n",
       "5297   438_9_4           1.0            2.0                    NaN   \n",
       "\n",
       "      past_not_enroll_reason  poverty_score  \n",
       "16                       NaN            4.0  \n",
       "26                       NaN            3.0  \n",
       "31                       NaN            4.0  \n",
       "34                       NaN            3.0  \n",
       "290                      2.0            3.0  \n",
       "293                      2.0            5.0  \n",
       "502                      2.0            6.0  \n",
       "537                      2.0            4.0  \n",
       "876                      2.0            6.0  \n",
       "1000                     2.0            2.0  \n",
       "1082                     2.0            7.0  \n",
       "1411                     4.0            9.0  \n",
       "1413                     4.0            5.0  \n",
       "1446                     4.0            4.0  \n",
       "1450                     4.0            5.0  \n",
       "4194                    13.0            3.0  \n",
       "5297                     2.0            6.0  "
      ]
     },
     "execution_count": 125,
     "metadata": {},
     "output_type": "execute_result"
    }
   ],
   "source": [
    "# Both have no NaNs to worry about\n",
    "assert(len(ed.loc[ed['now_enrolled'].isna()])==0)\n",
    "assert(len(ed.loc[ed['past_enrolled'].isna()])==0)\n",
    "\n",
    "# Check when they differ and the reason why\n",
    "group3 = ed.loc[ed['now_enrolled'].ne(ed['past_enrolled']), \n",
    "       ['uid', \n",
    "        'now_enrolled', 'past_enrolled',\n",
    "        'now_not_enroll_reason', 'past_not_enroll_reason',\n",
    "        'poverty_score']]\n",
    "group3"
   ]
  },
  {
   "cell_type": "markdown",
   "id": "05b2bde7",
   "metadata": {},
   "source": [
    "Again, this is such a small group that we can just remove them. \n",
    "You can evaluate the impact of this decision on the predictive accuracy later.\n",
    "The alternative would be to split into another group.\n",
    "\n",
    "If you want to evaluate the validity of this decision, without looing at predictive accuracy directly, you could look at the distribution of poverty scores wihtin this group."
   ]
  },
  {
   "cell_type": "code",
   "execution_count": 123,
   "id": "aaf50d60",
   "metadata": {},
   "outputs": [
    {
     "data": {
      "image/png": "[encoded data removed]",
      "text/plain": [
       "<Figure size 640x480 with 1 Axes>"
      ]
     },
     "metadata": {},
     "output_type": "display_data"
    }
   ],
   "source": [
    "plt.hist(group3['poverty_score'])\n",
    "plt.show()\n"
   ]
  },
  {
   "cell_type": "markdown",
   "id": "cae98b26",
   "metadata": {},
   "source": [
    "There is no glaringly obious difference in the poverty scores of these two groups, but this is probability, so you coudl argue that more people who attended but did not enroll are more likely to be poor."
   ]
  },
  {
   "cell_type": "markdown",
   "id": "2866fd95",
   "metadata": {},
   "source": [
    "We can see that now_enrolled=2 and past_enrolled=1 all have the same reason for not enrolling now, \n",
    "Reason 13: \"Completed studies\""
   ]
  },
  {
   "cell_type": "code",
   "execution_count": null,
   "id": "6448d850",
   "metadata": {},
   "outputs": [],
   "source": []
  },
  {
   "cell_type": "code",
   "execution_count": null,
   "id": "b79a2a5e",
   "metadata": {},
   "outputs": [],
   "source": []
  },
  {
   "cell_type": "code",
   "execution_count": null,
   "id": "2f40e5de",
   "metadata": {},
   "outputs": [],
   "source": [
    "\n",
    "\n",
    "\n",
    "\n",
    "ed['now_enrolled'] = ed['ED_Q08'].eq(1)\n",
    "ed['now_attending'] = ed['ED_Q09'].eq(1) # from 1 yes, 2 No\n",
    "ed['past_enrolled'] = ed['ED_Q14'].eq(1) # from 1 yes, 2 No\n",
    "ed['past_attending'] = ed['ED_Q15'].eq(1) # from 1 yes, 2 No\n",
    "\n",
    "# Merge\n",
    "ed['now_not_attend_reason'] = pd.Categorical(ed['ED_Q10'], categories=list(range(1, 13)))\n",
    "ed['now_not_enroll_reason'] = pd.Categorical(ed['ED_Q11'], categories=list(range(1, 14)))\n",
    "ed['past_not_attend_reason'] = pd.Categorical(ed['ED_Q16'], categories=list(range(1, 13)))\n",
    "ed['past_not_enroll_reason'] = pd.Categorical(ed['ED_Q17'], categories=list(range(1, 14)))\n"
   ]
  },
  {
   "cell_type": "code",
   "execution_count": null,
   "id": "40abb8f5",
   "metadata": {},
   "outputs": [],
   "source": []
  },
  {
   "cell_type": "markdown",
   "id": "dd29a0b4",
   "metadata": {},
   "source": [
    "# Final processing recipe\n",
    "\n"
   ]
  },
  {
   "cell_type": "code",
   "execution_count": 99,
   "id": "667af1a9-3eb4-4936-814c-81841f5ab4f2",
   "metadata": {},
   "outputs": [
    {
     "ename": "KeyError",
     "evalue": "'ED_Q01'",
     "output_type": "error",
     "traceback": [
      "\u001b[0;31m---------------------------------------------------------------------------\u001b[0m",
      "\u001b[0;31mKeyError\u001b[0m                                  Traceback (most recent call last)",
      "File \u001b[0;32m~/Desktop/projects/Classification/.venv/lib/python3.12/site-packages/pandas/core/indexes/base.py:3805\u001b[0m, in \u001b[0;36mIndex.get_loc\u001b[0;34m(self, key)\u001b[0m\n\u001b[1;32m   3804\u001b[0m \u001b[38;5;28;01mtry\u001b[39;00m:\n\u001b[0;32m-> 3805\u001b[0m     \u001b[38;5;28;01mreturn\u001b[39;00m \u001b[38;5;28;43mself\u001b[39;49m\u001b[38;5;241;43m.\u001b[39;49m\u001b[43m_engine\u001b[49m\u001b[38;5;241;43m.\u001b[39;49m\u001b[43mget_loc\u001b[49m\u001b[43m(\u001b[49m\u001b[43mcasted_key\u001b[49m\u001b[43m)\u001b[49m\n\u001b[1;32m   3806\u001b[0m \u001b[38;5;28;01mexcept\u001b[39;00m \u001b[38;5;167;01mKeyError\u001b[39;00m \u001b[38;5;28;01mas\u001b[39;00m err:\n",
      "File \u001b[0;32mindex.pyx:167\u001b[0m, in \u001b[0;36mpandas._libs.index.IndexEngine.get_loc\u001b[0;34m()\u001b[0m\n",
      "File \u001b[0;32mindex.pyx:196\u001b[0m, in \u001b[0;36mpandas._libs.index.IndexEngine.get_loc\u001b[0;34m()\u001b[0m\n",
      "File \u001b[0;32mpandas/_libs/hashtable_class_helper.pxi:7081\u001b[0m, in \u001b[0;36mpandas._libs.hashtable.PyObjectHashTable.get_item\u001b[0;34m()\u001b[0m\n",
      "File \u001b[0;32mpandas/_libs/hashtable_class_helper.pxi:7089\u001b[0m, in \u001b[0;36mpandas._libs.hashtable.PyObjectHashTable.get_item\u001b[0;34m()\u001b[0m\n",
      "\u001b[0;31mKeyError\u001b[0m: 'ED_Q01'",
      "\nThe above exception was the direct cause of the following exception:\n",
      "\u001b[0;31mKeyError\u001b[0m                                  Traceback (most recent call last)",
      "Cell \u001b[0;32mIn[99], line 3\u001b[0m\n\u001b[1;32m      1\u001b[0m \u001b[38;5;66;03m# EDUCATION DATA\u001b[39;00m\n\u001b[0;32m----> 3\u001b[0m ed[\u001b[38;5;124m'\u001b[39m\u001b[38;5;124mliterate\u001b[39m\u001b[38;5;124m'\u001b[39m] \u001b[38;5;241m=\u001b[39m \u001b[43med\u001b[49m\u001b[43m[\u001b[49m\u001b[38;5;124;43m'\u001b[39;49m\u001b[38;5;124;43mED_Q01\u001b[39;49m\u001b[38;5;124;43m'\u001b[39;49m\u001b[43m]\u001b[49m\u001b[38;5;241m.\u001b[39meq(\u001b[38;5;241m1\u001b[39m) \u001b[38;5;241m&\u001b[39m ed[\u001b[38;5;124m'\u001b[39m\u001b[38;5;124mED_Q02\u001b[39m\u001b[38;5;124m'\u001b[39m]\u001b[38;5;241m.\u001b[39meq(\u001b[38;5;241m1\u001b[39m)  \u001b[38;5;66;03m# read and write\u001b[39;00m\n\u001b[1;32m      5\u001b[0m ed[\u001b[38;5;124m'\u001b[39m\u001b[38;5;124mattended_school\u001b[39m\u001b[38;5;124m'\u001b[39m] \u001b[38;5;241m=\u001b[39m ed[\u001b[38;5;124m'\u001b[39m\u001b[38;5;124mED_Q03\u001b[39m\u001b[38;5;124m'\u001b[39m]\u001b[38;5;241m.\u001b[39meq(\u001b[38;5;241m1\u001b[39m) \u001b[38;5;66;03m# from 1 yes, 2 No\u001b[39;00m\n\u001b[1;32m      7\u001b[0m ed[\u001b[38;5;124m'\u001b[39m\u001b[38;5;124mhighest_school_lvl\u001b[39m\u001b[38;5;124m'\u001b[39m] \u001b[38;5;241m=\u001b[39m pd\u001b[38;5;241m.\u001b[39mCategorical(ed[\u001b[38;5;124m'\u001b[39m\u001b[38;5;124mED_Q04\u001b[39m\u001b[38;5;124m'\u001b[39m], categories\u001b[38;5;241m=\u001b[39m\u001b[38;5;28mlist\u001b[39m(\u001b[38;5;28mrange\u001b[39m(\u001b[38;5;241m1\u001b[39m, \u001b[38;5;241m11\u001b[39m))) \u001b[38;5;66;03m# 8yrs - PhD\u001b[39;00m\n",
      "File \u001b[0;32m~/Desktop/projects/Classification/.venv/lib/python3.12/site-packages/pandas/core/frame.py:4102\u001b[0m, in \u001b[0;36mDataFrame.__getitem__\u001b[0;34m(self, key)\u001b[0m\n\u001b[1;32m   4100\u001b[0m \u001b[38;5;28;01mif\u001b[39;00m \u001b[38;5;28mself\u001b[39m\u001b[38;5;241m.\u001b[39mcolumns\u001b[38;5;241m.\u001b[39mnlevels \u001b[38;5;241m>\u001b[39m \u001b[38;5;241m1\u001b[39m:\n\u001b[1;32m   4101\u001b[0m     \u001b[38;5;28;01mreturn\u001b[39;00m \u001b[38;5;28mself\u001b[39m\u001b[38;5;241m.\u001b[39m_getitem_multilevel(key)\n\u001b[0;32m-> 4102\u001b[0m indexer \u001b[38;5;241m=\u001b[39m \u001b[38;5;28;43mself\u001b[39;49m\u001b[38;5;241;43m.\u001b[39;49m\u001b[43mcolumns\u001b[49m\u001b[38;5;241;43m.\u001b[39;49m\u001b[43mget_loc\u001b[49m\u001b[43m(\u001b[49m\u001b[43mkey\u001b[49m\u001b[43m)\u001b[49m\n\u001b[1;32m   4103\u001b[0m \u001b[38;5;28;01mif\u001b[39;00m is_integer(indexer):\n\u001b[1;32m   4104\u001b[0m     indexer \u001b[38;5;241m=\u001b[39m [indexer]\n",
      "File \u001b[0;32m~/Desktop/projects/Classification/.venv/lib/python3.12/site-packages/pandas/core/indexes/base.py:3812\u001b[0m, in \u001b[0;36mIndex.get_loc\u001b[0;34m(self, key)\u001b[0m\n\u001b[1;32m   3807\u001b[0m     \u001b[38;5;28;01mif\u001b[39;00m \u001b[38;5;28misinstance\u001b[39m(casted_key, \u001b[38;5;28mslice\u001b[39m) \u001b[38;5;129;01mor\u001b[39;00m (\n\u001b[1;32m   3808\u001b[0m         \u001b[38;5;28misinstance\u001b[39m(casted_key, abc\u001b[38;5;241m.\u001b[39mIterable)\n\u001b[1;32m   3809\u001b[0m         \u001b[38;5;129;01mand\u001b[39;00m \u001b[38;5;28many\u001b[39m(\u001b[38;5;28misinstance\u001b[39m(x, \u001b[38;5;28mslice\u001b[39m) \u001b[38;5;28;01mfor\u001b[39;00m x \u001b[38;5;129;01min\u001b[39;00m casted_key)\n\u001b[1;32m   3810\u001b[0m     ):\n\u001b[1;32m   3811\u001b[0m         \u001b[38;5;28;01mraise\u001b[39;00m InvalidIndexError(key)\n\u001b[0;32m-> 3812\u001b[0m     \u001b[38;5;28;01mraise\u001b[39;00m \u001b[38;5;167;01mKeyError\u001b[39;00m(key) \u001b[38;5;28;01mfrom\u001b[39;00m\u001b[38;5;250m \u001b[39m\u001b[38;5;21;01merr\u001b[39;00m\n\u001b[1;32m   3813\u001b[0m \u001b[38;5;28;01mexcept\u001b[39;00m \u001b[38;5;167;01mTypeError\u001b[39;00m:\n\u001b[1;32m   3814\u001b[0m     \u001b[38;5;66;03m# If we have a listlike key, _check_indexing_error will raise\u001b[39;00m\n\u001b[1;32m   3815\u001b[0m     \u001b[38;5;66;03m#  InvalidIndexError. Otherwise we fall through and re-raise\u001b[39;00m\n\u001b[1;32m   3816\u001b[0m     \u001b[38;5;66;03m#  the TypeError.\u001b[39;00m\n\u001b[1;32m   3817\u001b[0m     \u001b[38;5;28mself\u001b[39m\u001b[38;5;241m.\u001b[39m_check_indexing_error(key)\n",
      "\u001b[0;31mKeyError\u001b[0m: 'ED_Q01'"
     ]
    }
   ],
   "source": [
    "\n",
    "# EDUCATION DATA\n",
    "\n",
    "ed['literate'] = ed['ED_Q01'].eq(1) & ed['ED_Q02'].eq(1)  # read and write\n",
    "\n",
    "ed['attended_school'] = ed['ED_Q03'].eq(1) # from 1 yes, 2 No\n",
    "\n",
    "ed['highest_school_lvl'] = pd.Categorical(ed['ED_Q04'], categories=list(range(1, 11))) # 8yrs - PhD\n",
    "\n",
    "ed['preschool'] = ed['ED_Q07'] # years\n",
    "\n",
    "# Merge\n",
    "ed['now_enrolled'] = ed['ED_Q08'].eq(1)\n",
    "ed['now_attending'] = ed['ED_Q09'].eq(1) # from 1 yes, 2 No\n",
    "ed['past_enrolled'] = ed['ED_Q14'].eq(1) # from 1 yes, 2 No\n",
    "ed['past_attending'] = ed['ED_Q15'].eq(1) # from 1 yes, 2 No\n",
    "\n",
    "# Merge\n",
    "ed['now_not_attend_reason'] = pd.Categorical(ed['ED_Q10'], categories=list(range(1, 13)))\n",
    "ed['now_not_enroll_reason'] = pd.Categorical(ed['ED_Q11'], categories=list(range(1, 14)))\n",
    "ed['past_not_attend_reason'] = pd.Categorical(ed['ED_Q16'], categories=list(range(1, 13)))\n",
    "ed['past_not_enroll_reason'] = pd.Categorical(ed['ED_Q17'], categories=list(range(1, 14)))\n",
    "\n",
    "\n",
    "ed['finish_school_age'] = ed['ED_Q18'] \n",
    "\n",
    "ed['public_private_school'] = pd.Categorical(ed['ED_Q23'], categories=list(range(1, 4)))\n",
    "\n",
    "# Consolidate hours and minutes recordings into a single variable\n",
    "ed['school_transportation_time'] = ed['ED_Q26'].apply(lambda hrs : hrs * 60) +  ed['ED_Q27'] \n",
    "\n",
    "ed['school_transportation_vehicle'] = pd.Categorical(ed['ED_Q28'], categories=list(range(1, 7)))\n",
    "\n",
    "ed['school_transportation_cost'] = ed['ED_Q29'] \n",
    "\n",
    "ed['school_expenses'] = ed['ED_Q41'] \n",
    "\n",
    "named_variates = [\n",
    "    'uid',\n",
    "    'literate','attended_school','highest_school_lvl',\n",
    "    'preschool',\n",
    "    'now_enrolled','now_attending','past_enrolled', 'past_attending',\n",
    "    'now_not_attend_reason','now_not_enroll_reason','past_not_attend_reason','past_not_enroll_reason',\n",
    "    'finish_school_age',\n",
    "    'public_private_school',\n",
    "    'school_transportation_time','school_transportation_vehicle',\n",
    "    'school_transportation_cost','school_expenses',\n",
    "    'poverty_score'\n",
    "]\n",
    "\n",
    "ed = ed[named_variates]"
   ]
  },
  {
   "cell_type": "code",
   "execution_count": 20,
   "id": "9b702323-541d-4613-893b-bd37df7d82cd",
   "metadata": {},
   "outputs": [],
   "source": [
    "\n",
    "# HEALTH DATA\n",
    "\n",
    "hh['sex'] = hh['HH_Q02'] \n",
    "hh['family_role'] = pd.Categorical(hh['HH_Q03'], categories=list(range(1, 15)))\n",
    "\n",
    "hh['age'] = hh['HH_Q05y'] # truncate to years, ignore months.\n",
    "\n",
    "hh['marital_status'] = pd.Categorical(hh['HH_Q06'], categories=list(range(1, 6)))\n",
    "\n",
    "\n",
    "hh['spouse_lives'] = hh['HH_Q07'].eq(1)\n",
    "\n",
    "hh['time_away'] = hh['HH_Q09'] # 1-12 months \n",
    "\n",
    "\n",
    "# Moms\n",
    "hh['lives_with_mom'] = hh['HH_Q11'].eq(1)\n",
    "\n",
    "hh.loc[hh['HH_Q13']=='DK', 'HH_Q13'] = None # \"Dont know\" is a category\n",
    "hh['moms_education'] = pd.Categorical(hh['HH_Q13'], categories=list(range(1, 11)))\n",
    "\n",
    "hh['mom_alive'] = hh['HH_Q14'].eq(1) \n",
    "\n",
    "# Dad\n",
    "hh['lives_with_dad'] = hh['HH_Q17'].eq(1)\n",
    "\n",
    "hh.loc[hh['HH_Q19']=='DK', 'HH_Q19'] = None # \"Dont know\" is a category\n",
    "hh['dad_education'] = pd.Categorical(hh['HH_Q19'], categories=list(range(1, 11)))\n",
    "\n",
    "hh['dad_alive'] = hh['HH_Q20'].eq(1)\n",
    "\n",
    "hh = hh.drop(columns=['HH_Q02', 'HH_Q03', 'HH_Q05y', 'HH_Q05m', 'HH_Q06', 'HH_Q07',\n",
    "       'HH_Q09', 'HH_Q10', 'HH_Q11', 'HH_Q13', 'HH_Q14', 'HH_Q15', 'HH_Q16',\n",
    "       'HH_Q17', 'HH_Q19', 'HH_Q20', 'HH_Q21', 'HH_Q22'])\n"
   ]
  },
  {
   "cell_type": "markdown",
   "id": "1fba9f6b-6280-46af-8c8d-9882481f0f12",
   "metadata": {},
   "source": [
    "# Variable Selection\n"
   ]
  },
  {
   "cell_type": "markdown",
   "id": "cf54a088-5c91-4b8c-934f-f74b84c9c249",
   "metadata": {},
   "source": [
    "# Is student?"
   ]
  },
  {
   "cell_type": "code",
   "execution_count": 23,
   "id": "c91e4dca-c926-416d-b933-76df0c0999df",
   "metadata": {},
   "outputs": [],
   "source": [
    "# enrollment and attendance past and present:\n",
    "\n",
    "ed['now_attending'] = ed['now_attending'].fillna(ed['now_enrolled'])\n",
    "ed['past_attending'] = ed['past_attending'].fillna(ed['past_enrolled'])\n",
    "\n",
    "# We only care if they attended at least one year in the past 2.\n",
    "attended = ed['now_attending'].eq(1) | ed['past_attending'].eq(1)  # NaN values mean they are NOT students\n",
    "ed.loc[attended, 'is_student'] = True\n",
    "ed.loc[~attended, 'is_student'] = False\n",
    "\n",
    "ed =  ed.drop(columns=['now_enrolled', 'past_enrolled', 'past_attending', 'now_attending'])\n"
   ]
  },
  {
   "cell_type": "markdown",
   "id": "d80e99e8-21da-4f23-ba1b-013ac1ba99d5",
   "metadata": {},
   "source": [
    "# absence reasons:"
   ]
  },
  {
   "cell_type": "code",
   "execution_count": 25,
   "id": "425ed64b-d87f-4a79-8108-39ea5bd6d416",
   "metadata": {},
   "outputs": [],
   "source": [
    "\n",
    "ed.loc[ed['now_not_attend_reason'] == 13, 'now_not_attend_reason'] = 14\n",
    "ed.loc[ed['past_not_attend_reason'] == 13, 'past_not_attend_reason'] = 14\n",
    "\n",
    "# We have situations where someone enrolls but does not attend.\n",
    "# We don't have situations when someone who did not enroll attends. \n",
    "# So use attend as base truth and fill some of the NaNs with enrolled.\n",
    "ed['now_not_attend_reason'] = ed['now_not_attend_reason'].fillna(ed['now_not_enroll_reason'])\n",
    "ed['past_not_attend_reason'] = ed['past_not_attend_reason'].fillna(ed['past_not_enroll_reason'])\n",
    "\n",
    "ed = ed.drop(columns=['now_not_enroll_reason', 'past_not_enroll_reason'])\n",
    "\n",
    "ed['now_not_attend_reason'] = ed['now_not_attend_reason'].fillna(14) #\"other\"\n",
    "ed['past_not_attend_reason'] = ed['past_not_attend_reason'].fillna(14) # other"
   ]
  },
  {
   "cell_type": "code",
   "execution_count": 26,
   "id": "d5897778-3a78-4f8d-b15e-ffbec3226278",
   "metadata": {},
   "outputs": [],
   "source": [
    "dummies = pd.get_dummies(ed['now_not_attend_reason'], prefix='not_attend_reason1', drop_first=True)\n",
    "ed = pd.concat([ed, dummies], axis=1)\n",
    "\n",
    "dummies = pd.get_dummies(ed['past_not_attend_reason'], prefix='not_attend_reason2', drop_first=True)\n",
    "ed = pd.concat([ed, dummies], axis=1)\n",
    "\n"
   ]
  },
  {
   "cell_type": "code",
   "execution_count": 27,
   "id": "74c579ee-4885-4d99-8b39-0465ee2fa3bf",
   "metadata": {},
   "outputs": [],
   "source": [
    "ed = ed.drop(columns=['now_not_attend_reason', 'past_not_attend_reason'])"
   ]
  },
  {
   "cell_type": "markdown",
   "id": "898991e4-26c4-4f5b-a168-17798069d0a2",
   "metadata": {},
   "source": [
    "# Highest School lvl"
   ]
  },
  {
   "cell_type": "code",
   "execution_count": 36,
   "id": "dc2cbd54-0d7a-4879-a5c3-9e58dd3da3a4",
   "metadata": {},
   "outputs": [
    {
     "data": {
      "text/plain": [
       "count    5195.000000\n",
       "mean        2.171126\n",
       "std         1.763821\n",
       "min         1.000000\n",
       "25%         1.000000\n",
       "50%         1.000000\n",
       "75%         2.000000\n",
       "max        10.000000\n",
       "Name: highest_school_lvl, dtype: float64"
      ]
     },
     "execution_count": 36,
     "metadata": {},
     "output_type": "execute_result"
    }
   ],
   "source": [
    "ed['highest_school_lvl'].describe()"
   ]
  },
  {
   "cell_type": "code",
   "execution_count": 37,
   "id": "303867db-145a-43ea-8d1f-93baa225475a",
   "metadata": {},
   "outputs": [],
   "source": [
    "Q4_education_mapping = [0, 1, 2, 3, 4, 4, 5, 5, 6, 6, 7, 7] # just gives the same values to same degrees (no matter where they were studied)\n",
    "ed['highest_school_lvl'] =  ed['highest_school_lvl'].apply(lambda indx : indx if pd.isna(indx) else Q4_education_mapping[int(indx)])\n",
    "\n",
    "## fill out NaN values with standarized mean\n",
    "av = ed['highest_school_lvl'].mean()\n",
    "ed['highest_school_lvl'] = ed['highest_school_lvl'].fillna(round(av, 2))\n"
   ]
  },
  {
   "cell_type": "code",
   "execution_count": 38,
   "id": "7a684cbf-59ca-475f-96a2-fc953ee54c81",
   "metadata": {},
   "outputs": [
    {
     "data": {
      "text/plain": [
       "count    5334.000000\n",
       "mean        1.998500\n",
       "std         1.388792\n",
       "min         1.000000\n",
       "25%         1.000000\n",
       "50%         1.000000\n",
       "75%         2.000000\n",
       "max         7.000000\n",
       "Name: highest_school_lvl, dtype: float64"
      ]
     },
     "execution_count": 38,
     "metadata": {},
     "output_type": "execute_result"
    }
   ],
   "source": [
    "ed['highest_school_lvl'].describe()"
   ]
  },
  {
   "cell_type": "markdown",
   "id": "2c419c8a-ff9e-4f9f-b5aa-c23145adf898",
   "metadata": {},
   "source": [
    "# Preschool?"
   ]
  },
  {
   "cell_type": "code",
   "execution_count": 40,
   "id": "7e924d48-2cc9-4b2a-8007-fd67d378cb9b",
   "metadata": {},
   "outputs": [],
   "source": [
    "ed['preschool'] = ed['preschool'].fillna(0)"
   ]
  },
  {
   "cell_type": "markdown",
   "id": "b131013a-86ed-48d3-829f-a1c17e968176",
   "metadata": {},
   "source": [
    "# finish_school_age, younger_19\n",
    " don't make sense. we will have the age from hh"
   ]
  },
  {
   "cell_type": "code",
   "execution_count": 42,
   "id": "dc37e29e-d24b-4ae1-a358-b473d9a4c65c",
   "metadata": {},
   "outputs": [],
   "source": [
    "av = round(ed['finish_school_age'].mean(), 2)\n",
    "ed['finish_school_age'] = ed['finish_school_age'].fillna(av)"
   ]
  },
  {
   "cell_type": "markdown",
   "id": "049ec666-72c2-4b40-88cc-8bf28fe9d783",
   "metadata": {},
   "source": [
    "# public_private_school\n",
    "Q23: Is the school that [Name] attend in public or private?\n",
    "\n",
    "* PUBLIC\t= 1\n",
    "* PRIVATE RELIGIOUS\t= 2\n",
    "* PRIVATE NON-RELIGIOUS\t= 3\n",
    "\n",
    "I like this ordering because, apparently, \"Non-religious private schools are more expensive than religious private schools on average\"\n",
    "\n",
    "NaN replacement: \n",
    "AVERAGE because average assigns a more conservative value to NaN. A zero on this new scale is still the 25th quantile so it is biased towards poverty ya know.\n",
    "\n",
    "But indicator variables have the potential to model the relatinsip better than by increases in 1... \n",
    "**everytime you want to make up a scale think of this: can I do it bettern than a machine?**"
   ]
  },
  {
   "cell_type": "code",
   "execution_count": 44,
   "id": "fcfdd902-52e6-43bc-b231-861ddb524d6a",
   "metadata": {},
   "outputs": [],
   "source": [
    "ed['public_private_school'] = ed['public_private_school'].fillna(1) # no data avaliable\n",
    "dummies = pd.get_dummies(ed['public_private_school'], prefix='school_type', drop_first=True)\n",
    "ed = pd.concat([ed, dummies], axis=1)\n"
   ]
  },
  {
   "cell_type": "code",
   "execution_count": 45,
   "id": "159ff540-78c3-4dab-81e5-5c367a352fe3",
   "metadata": {},
   "outputs": [],
   "source": [
    "ed = ed.drop(columns=['public_private_school'])"
   ]
  },
  {
   "cell_type": "markdown",
   "id": "e83d5dcd-70ed-499e-a49f-080b896519eb",
   "metadata": {},
   "source": [
    "# Transportation\n",
    "\n",
    "Just transform into indicator variables!!!!! see what happens "
   ]
  },
  {
   "cell_type": "code",
   "execution_count": 47,
   "id": "081b1fa1-172f-46c9-95e0-99321f5a4501",
   "metadata": {},
   "outputs": [],
   "source": [
    "dummies = pd.get_dummies(ed['school_transportation_vehicle'], prefix='transport', drop_first=True)\n",
    "ed = pd.concat([ed, dummies], axis=1)\n"
   ]
  },
  {
   "cell_type": "code",
   "execution_count": 48,
   "id": "28d7cc65-6942-4a69-a6de-1b0c1d314558",
   "metadata": {},
   "outputs": [],
   "source": [
    "ed = ed.drop(columns=['school_transportation_vehicle'])"
   ]
  },
  {
   "cell_type": "code",
   "execution_count": 50,
   "id": "bebf86a7-0ae7-4cbf-8bad-191e325bfbbc",
   "metadata": {},
   "outputs": [],
   "source": [
    "av = int(ed['school_transportation_time'].mean())\n",
    "ed['school_transportation_time'] = ed['school_transportation_time'].fillna(round(av,2))\n",
    "\n",
    "# because they are kids so they probably feel like the cost is 0\n",
    "ed['school_transportation_cost'] = ed['school_transportation_cost'].fillna(0)"
   ]
  },
  {
   "cell_type": "markdown",
   "id": "c70e344e-05b0-4041-b65b-9a16ac7440f3",
   "metadata": {},
   "source": [
    "# school_expenses"
   ]
  },
  {
   "cell_type": "code",
   "execution_count": 52,
   "id": "c792ee93-9c7e-4202-9c8b-6fe9541fb509",
   "metadata": {},
   "outputs": [],
   "source": [
    "av = int(ed['school_expenses'].mean())\n",
    "ed['school_expenses'] = ed['school_expenses'].fillna(round(av,2))\n"
   ]
  },
  {
   "cell_type": "markdown",
   "id": "ea6f5b85-9388-4784-a341-94156ec6cb4e",
   "metadata": {},
   "source": [
    "# Household data"
   ]
  },
  {
   "cell_type": "code",
   "execution_count": 55,
   "id": "319fb478-f967-4df4-ac95-8bf79a4a5df7",
   "metadata": {},
   "outputs": [],
   "source": [
    "# leave sex as is\n",
    "hh['sex'] = hh['sex'].eq(1)\n"
   ]
  },
  {
   "cell_type": "markdown",
   "id": "4e4176f5-a662-4f75-9f43-8d663728eb32",
   "metadata": {},
   "source": [
    "# family role"
   ]
  },
  {
   "cell_type": "code",
   "execution_count": 57,
   "id": "e2ca37a4-8960-4375-b711-6f609d6d6978",
   "metadata": {},
   "outputs": [],
   "source": [
    "dummies = pd.get_dummies(hh['family_role'], prefix='fam_role', drop_first=True)\n",
    "ed = pd.concat([ed, dummies], axis=1)\n"
   ]
  },
  {
   "cell_type": "code",
   "execution_count": 58,
   "id": "a9119da3-2d91-44ab-a9b0-753c6ac5d8bd",
   "metadata": {},
   "outputs": [],
   "source": [
    "# hh['frequency'] = hh.groupby(['family_role', 'poverty_score'])['family_role'].transform('count')\n",
    "\n",
    "# # Normalize the frequencies for color mapping\n",
    "# max_freq = hh['frequency'].max()\n",
    "# hh['normalized_frequency'] = hh['frequency'] / max_freq\n",
    "\n",
    "# # Scatterplot\n",
    "# plt.scatter(\n",
    "#     hh['family_role'], \n",
    "#     hh['poverty_score'], \n",
    "#     c=hh['normalized_frequency'],  # Use normalized frequency for color\n",
    "#     cmap='Blues',                  # Choose a colormap\n",
    "#     edgecolor='black', \n",
    "#     s=100, \n",
    "#     alpha=0.8\n",
    "# )\n",
    "\n"
   ]
  },
  {
   "cell_type": "markdown",
   "id": "350ba85b-a658-4b63-bc61-e0342aa5e514",
   "metadata": {},
   "source": [
    "# marital_status \n",
    "just make it into 5 indicator variables. \n",
    "\n"
   ]
  },
  {
   "cell_type": "code",
   "execution_count": 60,
   "id": "df9762a7-da74-4975-9b61-a6a22cf88d5c",
   "metadata": {},
   "outputs": [],
   "source": [
    "dummies = pd.get_dummies(hh['marital_status'], prefix='marital_status', drop_first=True)\n",
    "ed = pd.concat([ed, dummies], axis=1)\n"
   ]
  },
  {
   "cell_type": "code",
   "execution_count": 61,
   "id": "77f2efd4-5222-42ea-9f2a-cfdd9c42b056",
   "metadata": {},
   "outputs": [],
   "source": [
    "# get rid of both\n",
    "hh = hh.drop(columns=['marital_status', 'family_role'])"
   ]
  },
  {
   "cell_type": "code",
   "execution_count": 62,
   "id": "e17804ce-d96d-4aec-ad87-d2a63256940d",
   "metadata": {},
   "outputs": [],
   "source": [
    "hh['lives_with_partner'] = hh['spouse_lives'].eq(1)\n",
    "hh = hh.drop(columns=['spouse_lives'])"
   ]
  },
  {
   "cell_type": "markdown",
   "id": "27196651-6ec7-4772-9805-4bfbb36530a1",
   "metadata": {},
   "source": [
    "# time away is good"
   ]
  },
  {
   "cell_type": "code",
   "execution_count": 64,
   "id": "5c7b3d2b-cb32-44b0-9191-69244c896f94",
   "metadata": {},
   "outputs": [],
   "source": [
    "hh['lives_with_parent'] = hh['lives_with_mom'].eq(1) | hh['lives_with_dad'].eq(1)\n",
    "hh = hh.drop(columns=['lives_with_mom', 'lives_with_dad'])"
   ]
  },
  {
   "cell_type": "code",
   "execution_count": 65,
   "id": "06de521f-0a2d-4acf-93df-8dfacef037fd",
   "metadata": {},
   "outputs": [],
   "source": [
    "hh['parents_education'] = (hh['moms_education'] + hh['dad_education']) / 2\n",
    "ave = hh['parents_education'].mean()\n",
    "hh['parents_education'] = hh['parents_education'].fillna(round(ave,2))\n",
    "\n",
    "hh = hh.drop(columns=['moms_education', 'dad_education'])"
   ]
  },
  {
   "cell_type": "code",
   "execution_count": 66,
   "id": "fd718294-072f-49e6-bd0e-04d34c946541",
   "metadata": {},
   "outputs": [],
   "source": [
    "# parents alive \n",
    "hh['mom_alive'] = hh['mom_alive'].eq(1)\n",
    "hh['dad_alive'] = hh['dad_alive'].eq(1)\n",
    "hh['mom_alive'] = hh['mom_alive'].apply(lambda boo: 1 if boo else 0)\n",
    "hh['dad_alive'] = hh['dad_alive'].apply(lambda boo: 1 if boo else 0)\n",
    "\n",
    "hh['num_parents_alive'] = hh['mom_alive'] + hh['dad_alive']\n",
    "hh = hh.drop(columns=['mom_alive', 'dad_alive'])"
   ]
  },
  {
   "cell_type": "markdown",
   "id": "1e9063b5-ee03-4d18-be1a-56fa9813313c",
   "metadata": {},
   "source": [
    "# DONE"
   ]
  },
  {
   "cell_type": "code",
   "execution_count": 68,
   "id": "a55f9ef2-6143-4f9c-b09f-d4ffaf413207",
   "metadata": {},
   "outputs": [],
   "source": [
    "df = pd.merge(ed, hh, on='uid', how='inner')  # Use 'inner' join by default\n"
   ]
  },
  {
   "cell_type": "code",
   "execution_count": 69,
   "id": "1e17acf8-fe60-466b-8def-36fd268b50bc",
   "metadata": {},
   "outputs": [],
   "source": [
    "df = df.drop(columns=['poverty_score_x'])\n",
    "df.to_csv('X_TRAIN.csv', index=False)"
   ]
  }
 ],
 "metadata": {
  "kernelspec": {
   "display_name": ".venv",
   "language": "python",
   "name": "python3"
  },
  "language_info": {
   "codemirror_mode": {
    "name": "ipython",
    "version": 3
   },
   "file_extension": ".py",
   "mimetype": "text/x-python",
   "name": "python",
   "nbconvert_exporter": "python",
   "pygments_lexer": "ipython3",
   "version": "3.12.8"
  }
 },
 "nbformat": 4,
 "nbformat_minor": 5
}
