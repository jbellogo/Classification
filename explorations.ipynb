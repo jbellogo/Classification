{
 "cells": [
  {
   "cell_type": "markdown",
   "id": "e501b525-cd46-448a-bf0a-ac87cce7aa4f",
   "metadata": {},
   "source": [
    "# Explore the data"
   ]
  },
  {
   "cell_type": "markdown",
   "id": "6a01e0e7-be3d-41e4-bab6-13fe9885dd8a",
   "metadata": {},
   "source": [
    "We will lated come back with the test data. So just work on df_ed and df_hh\n",
    "GOAL: get a good prediction as quickly as possible\n",
    "Don'e do the \"Hh  poverty score continuation' for now"
   ]
  },
  {
   "cell_type": "code",
   "execution_count": 5,
   "id": "958622a2-70ca-4a31-94d9-18d758f15b77",
   "metadata": {},
   "outputs": [],
   "source": [
    "import pandas as pd\n",
    "import os, sys\n",
    "import matplotlib.pyplot as plt\n"
   ]
  },
  {
   "cell_type": "code",
   "execution_count": 6,
   "id": "94b594ae-b960-4cd8-b7b3-f2bd8b242a0a",
   "metadata": {},
   "outputs": [],
   "source": [
    "# Additional covariate called family size. to USE more data. \n",
    "# How to use more data by groupping poverty_scores on household?\n",
    "# within same household\n",
    "# add a psu_hh uui as a VARIABLE to tell the model \"predict something similar for members of the same family\". It would be difficult, there is a lot.\n",
    "# stacking? what is stacking?"
   ]
  },
  {
   "cell_type": "markdown",
   "id": "8bbda138-586f-41b1-9450-24cc75e6e1b1",
   "metadata": {},
   "source": [
    "# Root preprocessing:"
   ]
  },
  {
   "cell_type": "code",
   "execution_count": 8,
   "id": "d49610b8-3878-4de9-84e0-193b4f0bbad3",
   "metadata": {},
   "outputs": [],
   "source": [
    "ed = pd.read_csv('ed_train_raw.csv') # education DataFrame\n",
    "hh = pd.read_csv('hh_train_raw.csv') # household DataFrame\n",
    "\n"
   ]
  },
  {
   "cell_type": "code",
   "execution_count": null,
   "id": "af099bfa-0343-4619-a432-0b1fe49e3805",
   "metadata": {},
   "outputs": [],
   "source": []
  },
  {
   "cell_type": "code",
   "execution_count": 9,
   "id": "58469f2d-f256-4fb6-ace8-942ab49414d8",
   "metadata": {},
   "outputs": [],
   "source": [
    "### Prepare Ed data\n",
    "def prepare_df(df, suffix:str):\n",
    "    uids = df['psu'].astype(str) + \"_\"  + df['hh'].astype(str) + \"_\" + df['idcode'].astype(str) \n",
    "    df = df.drop(columns=['psu', 'hh', 'idcode'])\n",
    "    df.columns = [suffix + \"_\" + col.capitalize() for col in df.columns]\n",
    "    df.insert(0, 'uid', uids)\n",
    "    return df\n",
    "\n",
    "ed = prepare_df(ed, 'ED')\n",
    "hh = prepare_df(hh, 'HH')"
   ]
  },
  {
   "cell_type": "markdown",
   "id": "4fffb221-4408-4770-90c8-37b61ef87d4b",
   "metadata": {},
   "source": [
    "# Remove absoluteley useless variates"
   ]
  },
  {
   "cell_type": "code",
   "execution_count": 11,
   "id": "e22d3927-4c28-4887-882e-beb47b80acda",
   "metadata": {},
   "outputs": [],
   "source": [
    "hh = hh.drop(columns=['HH_Hhid', 'HH_Q04', 'HH_Q08', 'HH_Q12', 'HH_Q18'])\n",
    "columns_to_keep = [\n",
    "    'uid',\n",
    "    'ED_Q01', 'ED_Q02', 'ED_Q03', 'ED_Q04', 'ED_Q05', 'ED_Q06', 'ED_Q07', 'ED_Q08', 'ED_Q09', 'ED_Q10', 'ED_Q11', \n",
    "    'ED_Q14', 'ED_Q15', 'ED_Q16', 'ED_Q17', 'ED_Q18',\n",
    "    'ED_Q19',\n",
    "    'ED_Q23',\n",
    "    'ED_Q26', 'ED_Q27', 'ED_Q28', 'ED_Q29',\n",
    "    'ED_Q41', \n",
    "]\n",
    "\n",
    "ed = ed[columns_to_keep]\n"
   ]
  },
  {
   "cell_type": "markdown",
   "id": "98c2ef5b-3de1-40b1-bffe-a3f0dffd3e05",
   "metadata": {},
   "source": [
    "# Filter data based on uids that have a poverty score assigned to them.\n",
    "\n",
    "### This step is ONLY for TRAIN data. "
   ]
  },
  {
   "cell_type": "code",
   "execution_count": 13,
   "id": "529fad6a-0f9e-4c84-8bd5-ed374d121147",
   "metadata": {},
   "outputs": [],
   "source": [
    "poverty = pd.read_csv('poverty_train_raw.csv') # poverty/answers\n",
    "\n",
    "### compute poverty scores\n",
    "for i in range(1,11):\n",
    "    col = 'subjective_poverty_'+ str(i)\n",
    "    poverty.loc[poverty[col]==1, 'poverty_score'] = i\n",
    "\n",
    "poverty['uid'] = poverty['psu_hh_idcode']\n",
    "poverty = poverty[['uid', 'poverty_score']]\n",
    "\n",
    "\n",
    "ed = ed[ed['uid'].isin(poverty['uid'])]\n",
    "ed = ed.merge(poverty[['uid', 'poverty_score']], on='uid', how='left')\n",
    "\n",
    "hh = hh[hh['uid'].isin(poverty['uid'])]\n",
    "hh = hh.merge(poverty[['uid', 'poverty_score']], on='uid', how='left')\n",
    "\n",
    "\n"
   ]
  },
  {
   "cell_type": "code",
   "execution_count": 14,
   "id": "5cc39074-b95f-41d6-92d1-c3c04e4728fc",
   "metadata": {},
   "outputs": [],
   "source": [
    "# # quite a lot of data wasted... nothing we can do.... right?\n",
    "# print(train_ed.shape)\n",
    "# print(train_hh.shape)\n",
    "# print(poverty.shape)\n",
    "\n",
    "# # Explore test data:\n",
    "# print(test_ed.shape)\n",
    "# print(test_hh.shape)\n",
    "# assert(test_hh[test_hh['uid'].isin(test_ed['uid'])].shape[0] == 1334)\n",
    "# ## No issues here. just use them as they are"
   ]
  },
  {
   "cell_type": "code",
   "execution_count": 15,
   "id": "dc49ba36-9288-4b00-ac19-f3ab2cb70510",
   "metadata": {},
   "outputs": [],
   "source": [
    "# df_hh.to_csv('hh_train_transform.csv', index=False)\n",
    "# df_ed.to_csv('ed_train_transform.csv', index=False)\n",
    "# df_pov_scores.to_csv('scores_train_transform.csv', index=False)\n"
   ]
  },
  {
   "cell_type": "markdown",
   "id": "f12c6171-aca7-4576-b4ce-a3e87db436a7",
   "metadata": {},
   "source": [
    "# Rename variates for interpretability"
   ]
  },
  {
   "cell_type": "code",
   "execution_count": 17,
   "id": "667af1a9-3eb4-4936-814c-81841f5ab4f2",
   "metadata": {},
   "outputs": [],
   "source": [
    "# ED variates\n",
    "ed['literate'] = ed['ED_Q01'].eq(1) & ed['ED_Q02'].eq(1) \n",
    "\n",
    "ed['attended_school'] = ed['ED_Q03'] \n",
    "\n",
    "ed['highest_school_lvl'] = ed['ED_Q04'] \n",
    "\n",
    "ed['preschool'] = ed['ED_Q07']\n",
    "\n",
    "# Merge\n",
    "ed['now_enrolled'] = ed['ED_Q08']\n",
    "ed['now_attending'] = ed['ED_Q09'] # 1 yes, 2 No\n",
    "ed['past_enrolled'] = ed['ED_Q14'] # 1 yes, 2 No\n",
    "ed['past_attending'] = ed['ED_Q15'] # 1 yes, 2 No\n",
    "\n",
    "# Merge\n",
    "ed['now_not_attend_reason'] = ed['ED_Q10']\n",
    "ed['now_not_enroll_reason'] = ed['ED_Q11']\n",
    "ed['past_not_attend_reason'] = ed['ED_Q16'] \n",
    "ed['past_not_enroll_reason'] = ed['ED_Q17']\n",
    "\n",
    "ed['finish_school_age'] = ed['ED_Q18'] \n",
    "\n",
    "ed['younger_19'] = ed['ED_Q19']\n",
    "\n",
    "ed['public_private_school'] = ed['ED_Q23'] \n",
    "\n",
    "ed['school_transportation_time'] = ed['ED_Q26'].apply(lambda hrs : hrs * 60) +  ed['ED_Q27'] # it works\n",
    "ed['school_transportation_vehicle'] = ed['ED_Q28'] \n",
    "ed['school_transportation_cost'] = ed['ED_Q29'] \n",
    "\n",
    "ed['school_expenses'] = ed['ED_Q41'] \n"
   ]
  },
  {
   "cell_type": "code",
   "execution_count": null,
   "id": "94e025b1-e797-44cc-943f-fb8215c641e0",
   "metadata": {},
   "outputs": [],
   "source": []
  },
  {
   "cell_type": "code",
   "execution_count": 18,
   "id": "a9db2110-b2d8-4975-889a-556abb5c52e9",
   "metadata": {},
   "outputs": [],
   "source": [
    "new_cols = [\n",
    "    'uid',\n",
    "    'literate','attended_school','highest_school_lvl',\n",
    "    'preschool','now_enrolled','now_attending','past_enrolled', 'past_attending','now_not_attend_reason',\n",
    "    'now_not_enroll_reason','past_not_attend_reason','past_not_enroll_reason','finish_school_age',\n",
    "    'younger_19','public_private_school','school_transportation_time','school_transportation_vehicle',\n",
    "    'school_transportation_cost','school_expenses',\n",
    "    'poverty_score'\n",
    "]\n",
    "\n",
    "\n",
    "ed = ed[new_cols]\n"
   ]
  },
  {
   "cell_type": "code",
   "execution_count": 19,
   "id": "9b702323-541d-4613-893b-bd37df7d82cd",
   "metadata": {},
   "outputs": [],
   "source": [
    "\n",
    "# HH Variates. A random forest might atually be good\n",
    "hh['sex'] = hh['HH_Q02'] \n",
    "hh['family_role'] = hh['HH_Q03'] \n",
    "hh['age'] = hh['HH_Q05y'] # don't need month decimal\n",
    "hh['marital_status'] = hh['HH_Q06'] \n",
    "hh['spouse_lives'] = hh['HH_Q07']\n",
    "hh['time_away'] = hh['HH_Q09'] \n",
    "# hh[''] = hh['HH_Q10'] \n",
    "\n",
    "# leave the sorting to the tree. that's what ti does better than anybody!!!! \n",
    "hh['lives_with_mom'] = hh['HH_Q11'] \n",
    "hh['moms_education'] = hh['HH_Q13'] \n",
    "hh['mom_alive'] = hh['HH_Q14'] \n",
    "\n",
    "hh['lives_with_dad'] = hh['HH_Q17'] \n",
    "hh['dad_education'] = hh['HH_Q19'] \n",
    "hh['dad_alive'] = hh['HH_Q20']\n",
    "\n",
    "hh = hh.drop(columns=['HH_Q02', 'HH_Q03', 'HH_Q05y', 'HH_Q05m', 'HH_Q06', 'HH_Q07',\n",
    "       'HH_Q09', 'HH_Q10', 'HH_Q11', 'HH_Q13', 'HH_Q14', 'HH_Q15', 'HH_Q16',\n",
    "       'HH_Q17', 'HH_Q19', 'HH_Q20', 'HH_Q21', 'HH_Q22'])\n"
   ]
  },
  {
   "cell_type": "markdown",
   "id": "9889e6c3-12f0-492a-9712-1f86695a8771",
   "metadata": {},
   "source": [
    "# Group #1 \n",
    "\n",
    "Claim: Those who answer No = 2 for attended_school are done with the ED survey. \n",
    "\n",
    "\n",
    "#### Group 1 only uses ED 1,2\n",
    "\n",
    "\n"
   ]
  },
  {
   "cell_type": "code",
   "execution_count": 30,
   "id": "d0aaaacc-8434-445e-973a-ea7be54e9800",
   "metadata": {},
   "outputs": [],
   "source": [
    "# get group_1 train sets\n",
    "g1condition = ed['attended_school'].eq(2)\n",
    "g1ed = ed[condition]\n",
    "\n",
    "g1ed = g1ed[['uid', 'literate']]\n",
    "g1hh = hh[hh['uid'].isin(g1ed['uid'])]"
   ]
  },
  {
   "cell_type": "code",
   "execution_count": 23,
   "id": "a502deaa-4b0e-4f9e-b459-07d42a2cb484",
   "metadata": {},
   "outputs": [],
   "source": [
    "# # Save them to /group1\n",
    "# g1ed.to_csv('./group1/ed_train_g1.csv', index=False)\n",
    "# g1hh.to_csv('./group1/hh_train_g1.csv', index=False)\n"
   ]
  },
  {
   "cell_type": "markdown",
   "id": "2f0cd435-c7ec-4b64-b790-e74a312f2bf4",
   "metadata": {},
   "source": [
    "# Group 2\n",
    "\n",
    "The ones done with studies"
   ]
  },
  {
   "cell_type": "code",
   "execution_count": 57,
   "id": "d68eb919-035f-4480-9626-6111971d3725",
   "metadata": {},
   "outputs": [
    {
     "name": "stdout",
     "output_type": "stream",
     "text": [
      "(3594, 21)\n",
      "(3594, 14)\n"
     ]
    }
   ],
   "source": [
    "split = ed.loc[~g1condition]\n",
    "# Try to literally look for those who have completed school (Option 13 in either 11 or 17)\n",
    "g2condition = split['now_not_enroll_reason'].eq(13) | split['past_not_enroll_reason'].eq(13)\n",
    "\n",
    "g2ed = split[g2condition]\n",
    "g2hh = hh[hh['uid'].isin(g2ed['uid'])]\n",
    "\n",
    "print(g2ed.shape)\n",
    "print(g2hh.shape)"
   ]
  },
  {
   "cell_type": "code",
   "execution_count": 63,
   "id": "fec1d724-9940-4220-a160-0fa50c3ef7b5",
   "metadata": {},
   "outputs": [],
   "source": [
    "g2ed.to_csv('./group2/ed_train_g2.csv', index=False)\n",
    "g2hh.to_csv('./group2/hh_train_g2.csv', index=False)\n"
   ]
  },
  {
   "cell_type": "markdown",
   "id": "0468906c-c2d4-4793-9197-85e8a7647bed",
   "metadata": {},
   "source": [
    "# G3\n",
    "\n",
    "#### The students\n",
    "\n",
    "Should not use certain ed questions in their prediction... the ones meant for students doi! determine which ones these are"
   ]
  },
  {
   "cell_type": "code",
   "execution_count": 69,
   "id": "e81cb3b0-79a1-44bd-8ad1-85a9b8a5c60f",
   "metadata": {},
   "outputs": [
    {
     "name": "stdout",
     "output_type": "stream",
     "text": [
      "(1601, 21)\n",
      "(1601, 14)\n"
     ]
    }
   ],
   "source": [
    "g3ed = ed.loc[~g1condition & ~g2condition]\n",
    "g3hh = hh[hh['uid'].isin(g3ed['uid'])]\n",
    "print(g3df.shape)\n",
    "print(g3hh.shape)"
   ]
  },
  {
   "cell_type": "code",
   "execution_count": 71,
   "id": "38ca33e3-17fe-4f53-ac0c-b7472918c64e",
   "metadata": {},
   "outputs": [],
   "source": [
    "g3ed.to_csv('./group3/ed_train_g3.csv', index=False)\n",
    "g3hh.to_csv('./group3/hh_train_g3.csv', index=False)\n"
   ]
  },
  {
   "cell_type": "code",
   "execution_count": null,
   "id": "f782d4fe-f418-4a4b-944f-49600cf9c6e3",
   "metadata": {},
   "outputs": [],
   "source": []
  }
 ],
 "metadata": {
  "kernelspec": {
   "display_name": "Python 3 (ipykernel)",
   "language": "python",
   "name": "python3"
  },
  "language_info": {
   "codemirror_mode": {
    "name": "ipython",
    "version": 3
   },
   "file_extension": ".py",
   "mimetype": "text/x-python",
   "name": "python",
   "nbconvert_exporter": "python",
   "pygments_lexer": "ipython3",
   "version": "3.12.7"
  }
 },
 "nbformat": 4,
 "nbformat_minor": 5
}
