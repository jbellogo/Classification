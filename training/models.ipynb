{
 "cells": [
  {
   "cell_type": "code",
   "execution_count": null,
   "id": "d6525442-bb59-42f3-907a-4ff4ec869225",
   "metadata": {},
   "outputs": [],
   "source": [
    "# Aggregate transformed data:\n",
    "\n",
    "### Prepare Ed data\n",
    "def prepare_df(df, suffix : str):\n",
    "    uids = df['psu'].astype(str) + \"_\"  + df['hh'].astype(str) + \"_\" + df['idcode'].astype(str) \n",
    "    df =  df.drop(columns=['psu', 'hh', 'idcode'])\n",
    "    df.columns = [suffix + '_' + col for col in df.columns]\n",
    "    df.insert(0, 'uid', uids)\n",
    "    return df\n",
    "    \n",
    "# uids = ed_df['psu'].astype(str) + \"_\"  + ed_df['hh'].astype(str) + \"_\" + ed_df['idcode'].astype(str) \n",
    "# ed_df.insert(0, 'uid', uids)\n",
    "# ed_df =  ed_df.drop(columns=['psu', 'hh', 'idcode'])\n",
    "# ed_df.head()\n",
    "\n",
    "ed_df = prepare_df(ed_df, \"Ed\")\n",
    "hh_df = prepare_df(hh_df, \"Hh\")\n",
    "\n",
    "df = pd.merge(ed_df, hh_df, on=\"uid\", how=\"inner\")\n"
   ]
  }
 ],
 "metadata": {
  "kernelspec": {
   "display_name": "Python 3 (ipykernel)",
   "language": "python",
   "name": "python3"
  },
  "language_info": {
   "codemirror_mode": {
    "name": "ipython",
    "version": 3
   },
   "file_extension": ".py",
   "mimetype": "text/x-python",
   "name": "python",
   "nbconvert_exporter": "python",
   "pygments_lexer": "ipython3",
   "version": "3.12.7"
  }
 },
 "nbformat": 4,
 "nbformat_minor": 5
}
