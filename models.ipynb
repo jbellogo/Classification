{
 "cells": [
  {
   "cell_type": "markdown",
   "metadata": {},
   "source": [
    "# Model training"
   ]
  },
  {
   "cell_type": "code",
   "execution_count": 1,
   "metadata": {},
   "outputs": [],
   "source": [
    "import pandas as pd\n",
    "from models import *\n",
    "import warnings\n",
    "from sklearn.exceptions import ConvergenceWarning\n",
    "\n",
    "warnings.filterwarnings('ignore')\n",
    "warnings.filterwarnings('ignore', category=UserWarning)\n",
    "warnings.filterwarnings('ignore', category=FutureWarning)\n",
    "warnings.filterwarnings('ignore', category=ConvergenceWarning)\n"
   ]
  },
  {
   "cell_type": "code",
   "execution_count": 2,
   "metadata": {},
   "outputs": [],
   "source": [
    "X = pd.read_csv('data/processed/X_processed2.csv')\n",
    "y = pd.read_csv('data/processed/y.csv')\n"
   ]
  },
  {
   "cell_type": "code",
   "execution_count": 3,
   "metadata": {},
   "outputs": [
    {
     "data": {
      "text/plain": [
       "Index(['read', 'write', 'attended_school', 'highest_diploma', 'preschool',\n",
       "       'lives_with_partner', 'lives_with_mother', 'mother_education',\n",
       "       'mother_alive', 'lives_with_father', 'father_education', 'father_alive',\n",
       "       'age', 'male', 'not_enrolled_for_economic_reasons', 'marital_status_1',\n",
       "       'marital_status_2', 'marital_status_3', 'marital_status_4',\n",
       "       'marital_status_5', 'family_role_1', 'family_role_2', 'family_role_3',\n",
       "       'family_role_4', 'family_role_6', 'family_role_7', 'family_role_8',\n",
       "       'family_role_9', 'family_role_10'],\n",
       "      dtype='object')"
      ]
     },
     "execution_count": 3,
     "metadata": {},
     "output_type": "execute_result"
    }
   ],
   "source": [
    "X.columns"
   ]
  },
  {
   "cell_type": "markdown",
   "metadata": {},
   "source": [
    "# Models"
   ]
  },
  {
   "cell_type": "code",
   "execution_count": null,
   "metadata": {},
   "outputs": [
    {
     "name": "stdout",
     "output_type": "stream",
     "text": [
      "Best parameters: {'max_depth': 10, 'min_samples_split': 5, 'n_estimators': 100}\n",
      "Best cross-validation accuracy: 0.20\n"
     ]
    }
   ],
   "source": [
    "rf = random_forest(X, y['poverty_score'])4"
   ]
  },
  {
   "cell_type": "markdown",
   "metadata": {},
   "source": [
    "Best parameters: {'max_depth': 10, 'min_samples_split': 5, 'n_estimators': 50}\n",
    "Best cross-validation accuracy: 0.20"
   ]
  },
  {
   "cell_type": "code",
   "execution_count": 5,
   "metadata": {},
   "outputs": [
    {
     "name": "stdout",
     "output_type": "stream",
     "text": [
      "Best parameters: {'l2_regularization': 2.0, 'learning_rate': 0.01, 'max_depth': 3, 'max_iter': 100, 'min_samples_leaf': 50}\n",
      "Best cross-validation accuracy: 0.20\n"
     ]
    }
   ],
   "source": [
    "hgb = hist_grad_boost(X, y['poverty_score'])"
   ]
  },
  {
   "cell_type": "code",
   "execution_count": 7,
   "metadata": {},
   "outputs": [
    {
     "name": "stdout",
     "output_type": "stream",
     "text": [
      "Best parameters: {'activation': 'tanh', 'hidden_layer_sizes': (200,), 'max_iter': 1000, 'solver': 'sgd'}\n",
      "Best cross-validation accuracy: 0.21\n"
     ]
    }
   ],
   "source": [
    "nn = neural_network(X, y['poverty_score'])"
   ]
  },
  {
   "cell_type": "code",
   "execution_count": 8,
   "metadata": {},
   "outputs": [
    {
     "name": "stdout",
     "output_type": "stream",
     "text": [
      "Best parameters: {'algorithm': 'ball_tree', 'metric': 'manhattan', 'n_neighbors': 7, 'weights': 'uniform'}\n",
      "Best cross-validation accuracy: 0.16\n"
     ]
    }
   ],
   "source": [
    "knn = knn_classifier(X, y['poverty_score'])"
   ]
  },
  {
   "cell_type": "code",
   "execution_count": null,
   "metadata": {},
   "outputs": [
    {
     "name": "stdout",
     "output_type": "stream",
     "text": [
      "Stacked model cross-validation accuracy: 0.20 (+/- 0.03)\n"
     ]
    }
   ],
   "source": [
    "estimators = [\n",
    "    ('hgb', hgb),\n",
    "    ('nn', nn),\n",
    "    ('rf', rf)\n",
    "]\n",
    "\n",
    "stacked_model = stacking(X, y['poverty_score'], estimators)"
   ]
  }
 ],
 "metadata": {
  "kernelspec": {
   "display_name": ".venv",
   "language": "python",
   "name": "python3"
  },
  "language_info": {
   "codemirror_mode": {
    "name": "ipython",
    "version": 3
   },
   "file_extension": ".py",
   "mimetype": "text/x-python",
   "name": "python",
   "nbconvert_exporter": "python",
   "pygments_lexer": "ipython3",
   "version": "3.12.8"
  }
 },
 "nbformat": 4,
 "nbformat_minor": 2
}
