{
 "cells": [
  {
   "cell_type": "markdown",
   "id": "b28135a0",
   "metadata": {},
   "source": [
    "# Baseline models\n",
    "\n",
    "We will use the raw data to train models that are able to support NaNs directly to obtain a baseline accuracy for our prediction.\n",
    "\n",
    "The task then will be to improve the accuracy of the models by using:\n",
    "1. variable selection\n",
    "2. feature engineering\n",
    "3. Nan imputation\n",
    "4. cross-validating wider models \n",
    "5. Stacking models"
   ]
  },
  {
   "cell_type": "code",
   "execution_count": 6,
   "id": "9b4ba002",
   "metadata": {},
   "outputs": [
    {
     "ename": "ImportError",
     "evalue": "cannot import name 'hist_grad_boost' from 'models' (/Users/juanbello/Desktop/projects/Classification/models.py)",
     "output_type": "error",
     "traceback": [
      "\u001b[0;31m---------------------------------------------------------------------------\u001b[0m",
      "\u001b[0;31mImportError\u001b[0m                               Traceback (most recent call last)",
      "Cell \u001b[0;32mIn[6], line 2\u001b[0m\n\u001b[1;32m      1\u001b[0m \u001b[38;5;28;01mimport\u001b[39;00m\u001b[38;5;250m \u001b[39m\u001b[38;5;21;01mpandas\u001b[39;00m\u001b[38;5;250m \u001b[39m\u001b[38;5;28;01mas\u001b[39;00m\u001b[38;5;250m \u001b[39m\u001b[38;5;21;01mpd\u001b[39;00m\n\u001b[0;32m----> 2\u001b[0m \u001b[38;5;28;01mfrom\u001b[39;00m\u001b[38;5;250m \u001b[39m\u001b[38;5;21;01mmodels\u001b[39;00m\u001b[38;5;250m \u001b[39m\u001b[38;5;28;01mimport\u001b[39;00m random_forest, hist_grad_boost, stacking\n",
      "\u001b[0;31mImportError\u001b[0m: cannot import name 'hist_grad_boost' from 'models' (/Users/juanbello/Desktop/projects/Classification/models.py)"
     ]
    }
   ],
   "source": [
    "import pandas as pd\n",
    "from models import random_forest, hist_grad_boost, stacking"
   ]
  },
  {
   "cell_type": "code",
   "execution_count": 3,
   "id": "983e21e3-70aa-4077-8949-0450209d6db1",
   "metadata": {},
   "outputs": [],
   "source": [
    "# Minimal preprocessing\n",
    "\n",
    "def minimal_preprocessing():\n",
    "    ed = pd.read_csv('./data/train_data/ed_train_raw.csv') # education DataFrame\n",
    "    hh = pd.read_csv('./data/train_data/hh_train_raw.csv') # household DataFrame\n",
    "    poverty = pd.read_csv('./data/train_data/poverty_train_raw.csv') # poverty/labels\n",
    "\n",
    "\n",
    "    def preprocess_df(df, suffix:str):\n",
    "\n",
    "        # merge first three columns into psu_hh_idcode identifier\n",
    "        uids = df['psu'].astype(str) + \"_\"  + df['hh'].astype(str) + \"_\" + df['idcode'].astype(str) \n",
    "        \n",
    "        # delete the three columns\n",
    "        df = df.drop(columns=['psu', 'hh', 'idcode'])\n",
    "\n",
    "        ## Capitalize all Q's in column name prefixes. Add ED or HH prefix to identify variate group\n",
    "        df.columns = [suffix + \"_\" + col.capitalize() for col in df.columns]\n",
    "\n",
    "        # Insert uid as first column, lowercase, no prefix.\n",
    "        df.insert(0, 'uid', uids)\n",
    "\n",
    "        return df\n",
    "\n",
    "    ed = preprocess_df(ed, 'ED')\n",
    "    hh = preprocess_df(hh, 'HH')\n",
    "\n",
    "    # Convert subjective poverty score from one-hot to categorical [1-10] outcome\n",
    "    for i in range(1,11):\n",
    "        col = 'subjective_poverty_'+ str(i)\n",
    "        poverty.loc[poverty[col]==1, 'poverty_score'] = i\n",
    "\n",
    "    poverty['uid'] = poverty['psu_hh_idcode']\n",
    "    y = poverty[['uid', 'poverty_score']]\n",
    "\n",
    "    # Filter labeled data\n",
    "    ed = ed[ed['uid'].isin(poverty['uid'])]\n",
    "    hh = hh[hh['uid'].isin(poverty['uid'])]\n",
    "\n",
    "    # ensure rows match between ed, hhand y\n",
    "    X_raw = pd.merge(ed, hh, on='uid', how='inner')\n",
    "    Xy = pd.merge(X_raw, y, on='uid', how='left')\n",
    "    assert(Xy['poverty_score'].isna().sum() == 0)\n",
    "    y = Xy['poverty_score']\n",
    "    X_raw = Xy.drop(columns=['poverty_score'])\n",
    "\n",
    "    return X_raw, y\n"
   ]
  },
  {
   "cell_type": "code",
   "execution_count": 4,
   "id": "63f61abe",
   "metadata": {},
   "outputs": [],
   "source": [
    "X, y = minimal_preprocessing()"
   ]
  },
  {
   "cell_type": "markdown",
   "id": "f763c8e4",
   "metadata": {},
   "source": [
    "# Baseline models"
   ]
  },
  {
   "cell_type": "markdown",
   "id": "46ee3b1c",
   "metadata": {},
   "source": [
    "Since tree-based models and Histogram-based Gradient Boosting accept NaNs, train them on this minimal raw data to set a baseline for prediction."
   ]
  },
  {
   "cell_type": "markdown",
   "id": "d97c3cf2",
   "metadata": {},
   "source": [
    "## Random Forest"
   ]
  },
  {
   "cell_type": "code",
   "execution_count": 5,
   "id": "06275838",
   "metadata": {},
   "outputs": [
    {
     "ename": "NameError",
     "evalue": "name 'random_forest' is not defined",
     "output_type": "error",
     "traceback": [
      "\u001b[0;31m---------------------------------------------------------------------------\u001b[0m",
      "\u001b[0;31mNameError\u001b[0m                                 Traceback (most recent call last)",
      "Cell \u001b[0;32mIn[5], line 1\u001b[0m\n\u001b[0;32m----> 1\u001b[0m \u001b[43mrandom_forest\u001b[49m(X, y)\n",
      "\u001b[0;31mNameError\u001b[0m: name 'random_forest' is not defined"
     ]
    }
   ],
   "source": [
    "rf = random_forest(X, y)"
   ]
  },
  {
   "cell_type": "markdown",
   "id": "b9c44612",
   "metadata": {},
   "source": [
    "**Results:** \n",
    "\n",
    "```\n",
    "Best parameters: {\n",
    "    'max_depth': None, \n",
    "    'min_samples_split': 10, \n",
    "    'n_estimators': 50}\n",
    "Best cross-validation accuracy: 0.21\n",
    "```\n",
    "\n",
    "So, the accuracy to beat is 0.21"
   ]
  },
  {
   "cell_type": "markdown",
   "id": "2edd886a",
   "metadata": {},
   "source": [
    "## HistGradientBoosting\n"
   ]
  },
  {
   "cell_type": "code",
   "execution_count": null,
   "id": "7c7e9795",
   "metadata": {},
   "outputs": [
    {
     "name": "stdout",
     "output_type": "stream",
     "text": [
      "Best parameters: {'l2_regularization': 2.0, 'learning_rate': 0.01, 'max_depth': 3, 'max_iter': 100, 'min_samples_leaf': 20}\n",
      "Best cross-validation accuracy: 0.22\n"
     ]
    }
   ],
   "source": [
    "hgb = hist_grad_boost(X, y)"
   ]
  },
  {
   "cell_type": "markdown",
   "id": "dafdb12d",
   "metadata": {},
   "source": [
    "**Results:** \n",
    "```\n",
    "Best parameters: {\n",
    "    'l2_regularization': 2.0, \n",
    "    'learning_rate': 0.01, \n",
    "    'max_depth': 3, \n",
    "    'max_iter': 100, \n",
    "    'min_samples_leaf': 20}\n",
    "```\n",
    "\n",
    "Best cross-validation accuracy: 0.22"
   ]
  },
  {
   "cell_type": "markdown",
   "id": "bccb349b",
   "metadata": {},
   "source": [
    "## Stacking"
   ]
  },
  {
   "cell_type": "code",
   "execution_count": 69,
   "id": "e6c0b58e",
   "metadata": {},
   "outputs": [
    {
     "name": "stdout",
     "output_type": "stream",
     "text": [
      "Stacked model cross-validation accuracy: 0.22 (+/- 0.03)\n"
     ]
    }
   ],
   "source": [
    "hgb = HistGradientBoostingClassifier(random_state=42, l2_regularization=2.0, learning_rate=0.01, max_depth=3, max_iter=100, min_samples_leaf=20)\n",
    "rf = RandomForestClassifier(random_state=42, n_estimators=50, max_depth=None, min_samples_split=10)\n",
    "\n",
    "\n",
    "# Define the base estimators\n",
    "estimators = [\n",
    "    ('rf', rf),\n",
    "    ('hgb', hgb)\n",
    "]\n",
    "\n",
    "# Create the stacked model\n",
    "\n",
    "# Using logistic regression as the final estimator\n",
    "stacked_model = StackingClassifier(\n",
    "    estimators=estimators,\n",
    "    final_estimator=LogisticRegression(),\n",
    "    cv=5  # Number of folds for cross-validation during stacking\n",
    ")\n",
    "\n",
    "# Fit the stacked model\n",
    "stacked_model.fit(X_raw, y)\n",
    "\n",
    "# Evaluate using cross-validation\n",
    "cv_scores = cross_val_score(stacked_model, X_raw, y, cv=5, scoring='accuracy')\n",
    "print(f\"Stacked model cross-validation accuracy: {cv_scores.mean():.2f} (+/- {cv_scores.std() * 2:.2f})\")"
   ]
  },
  {
   "cell_type": "markdown",
   "id": "6bce11dc",
   "metadata": {},
   "source": [
    "# Renaming variables"
   ]
  },
  {
   "cell_type": "code",
   "execution_count": null,
   "id": "5e5cf7b6",
   "metadata": {},
   "outputs": [],
   "source": [
    "# renames = {\n",
    "#     'ED_Q01': 'read',\n",
    "#     'ED_Q02': 'write',\n",
    "#     'ED_Q03': 'attended_school',\n",
    "#     'ED_Q04': 'school_grade',\n",
    "#     'ED_Q05': 'school_grade_level',\n",
    "#     'ED_Q06': 'highest_diploma',\n",
    "#     'ED_Q07': 'years_preschool',\n",
    "#     'ED_Q08': 'now_enrolled',\n",
    "#     'ED_Q09': 'now_attend',\n",
    "#     'ED_Q10': 'now_not_attend_reason',\n",
    "#     'ED_Q11': 'past_not_enrolled_reason',\n",
    "#     'ED_Q12': 'current_grade',\n",
    "#     'ED_Q13': 'current_grade_level',\n",
    "#     'ED_Q14': 'past_enrolled',\n",
    "#     'ED_Q15': 'past_attend',\n",
    "#     'ED_Q16': 'past_not_attend_reason',\n",
    "#     'ED_Q17': 'past_not_enrolled_reason',\n",
    "# }\n",
    "\n"
   ]
  },
  {
   "cell_type": "markdown",
   "id": "02d5556a",
   "metadata": {},
   "source": [
    "Stacked model cross-validation accuracy: 0.22 (+/- 0.03)"
   ]
  },
  {
   "cell_type": "markdown",
   "id": "d472eb6e-8948-4d0f-9090-557b0959d333",
   "metadata": {},
   "source": [
    "# Preliminary Variable selection\n",
    "The purpose of this notebook is to identify the variables that are not useful for the prediction of wealth.\n",
    "\n",
    "Dropping useless variables "
   ]
  },
  {
   "cell_type": "code",
   "execution_count": 1,
   "id": "eaea2c70",
   "metadata": {},
   "outputs": [
    {
     "name": "stdout",
     "output_type": "stream",
     "text": [
      "Stored 'hh_useless_columns' (list)\n",
      "Stored 'ed_useful_columns' (list)\n"
     ]
    }
   ],
   "source": [
    "hh_useless_columns=['HH_Hhid', 'HH_Q04', 'HH_Q08', 'HH_Q12', 'HH_Q18']\n",
    "ed_useful_columns = [\n",
    "    'uid',\n",
    "    'ED_Q01', 'ED_Q02', 'ED_Q03', 'ED_Q04', 'ED_Q05', 'ED_Q06', 'ED_Q07', 'ED_Q08', 'ED_Q09', 'ED_Q10', 'ED_Q11', \n",
    "    'ED_Q14', 'ED_Q15', 'ED_Q16', 'ED_Q17', 'ED_Q18',\n",
    "    'ED_Q19',\n",
    "    'ED_Q23',\n",
    "    'ED_Q26', 'ED_Q27', 'ED_Q28', 'ED_Q29',\n",
    "    'ED_Q41', \n",
    "]\n",
    "%store hh_useless_columns\n",
    "%store ed_useful_columns\n"
   ]
  },
  {
   "cell_type": "code",
   "execution_count": 1,
   "id": "e6e2602f",
   "metadata": {},
   "outputs": [
    {
     "name": "stdout",
     "output_type": "stream",
     "text": [
      "IPython will make a temporary file named: /var/folders/21/wpdrdb153rgcw7h7qz_vrd_40000gn/T/ipython_edit_m705y5td/ipython_edit_ex4hczmf.py\n"
     ]
    }
   ],
   "source": [
    "ed "
   ]
  },
  {
   "cell_type": "code",
   "execution_count": null,
   "id": "7cc20007",
   "metadata": {},
   "outputs": [],
   "source": []
  }
 ],
 "metadata": {
  "kernelspec": {
   "display_name": ".venv",
   "language": "python",
   "name": "python3"
  },
  "language_info": {
   "codemirror_mode": {
    "name": "ipython",
    "version": 3
   },
   "file_extension": ".py",
   "mimetype": "text/x-python",
   "name": "python",
   "nbconvert_exporter": "python",
   "pygments_lexer": "ipython3",
   "version": "3.12.8"
  }
 },
 "nbformat": 4,
 "nbformat_minor": 5
}
