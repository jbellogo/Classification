{
 "cells": [
  {
   "cell_type": "markdown",
   "id": "c178cab2-813e-4a63-bb2b-a300146498bf",
   "metadata": {},
   "source": [
    "# MODELS"
   ]
  },
  {
   "cell_type": "code",
   "execution_count": 1,
   "id": "795d44d6-bdb5-488f-80c5-d4a7b7abeb43",
   "metadata": {},
   "outputs": [],
   "source": [
    "import pandas as pd\n",
    "import numpy as np\n",
    "\n",
    "\n",
    "from sklearn.linear_model import LogisticRegression\n",
    "from sklearn.model_selection import train_test_split, cross_val_score\n",
    "from sklearn.metrics import log_loss, accuracy_score\n",
    "from sklearn.preprocessing import LabelEncoder\n",
    "from sklearn.neighbors import KNeighborsClassifier\n",
    "from sklearn.model_selection import GridSearchCV\n",
    "from sklearn.ensemble import RandomForestClassifier\n",
    "from sklearn.neural_network import MLPClassifier\n",
    "\n"
   ]
  },
  {
   "cell_type": "code",
   "execution_count": 2,
   "id": "a0e0664a-2274-4ba4-8e95-b5b3dc67a8da",
   "metadata": {},
   "outputs": [],
   "source": [
    "df = pd.read_csv('X_TRAIN.csv') # need to remove uid and poverty_score_y"
   ]
  },
  {
   "cell_type": "code",
   "execution_count": 3,
   "id": "4cb70fcc-ac9c-4b8b-9de3-5732b8583678",
   "metadata": {},
   "outputs": [],
   "source": [
    "test_df = pd.read_csv('X_TEST.csv')"
   ]
  },
  {
   "cell_type": "code",
   "execution_count": 4,
   "id": "0b8ab5c4-8dc7-47ec-9c0a-f3f05507977d",
   "metadata": {},
   "outputs": [],
   "source": [
    "# poverty = poverty['poverty_score_y'].to_numpy()"
   ]
  },
  {
   "cell_type": "code",
   "execution_count": 5,
   "id": "e0b0b83c-fb58-4ba2-895d-99407cef57d2",
   "metadata": {},
   "outputs": [],
   "source": [
    "# forgot about this. for ocd reasons let\n",
    "df['attended_school'] = df['attended_school'].eq(1)\n",
    "df = df.drop(columns=['finish_school_age'])\n",
    "\n",
    "test_df['attended_school'] = test_df['attended_school'].eq(1)\n",
    "test_df = test_df.drop(columns=['finish_school_age'])\n"
   ]
  },
  {
   "cell_type": "markdown",
   "id": "be50d4c5-ca45-4731-b267-559b4e3f27fb",
   "metadata": {},
   "source": [
    "# !!!!!!!!!!!!!!!!!!!!!!!!!!!!!!!!!!!!!!!!!!!!!!!!!!!!!!!!!!!!!!!!!!!!!!!!!!!!!!!!!!!!!!!!!!!!!!!!!!!!!!!!!!!!!!!!!!!!!!!!!!!!!!!!!!!!!!!!!!!!!!!!!!\n",
    "#!!!!!!!!!!!!!!!!!!!!!!!!!!!!!!!!!!!!!!!!!!!!!!!!!!!!!!!!!!!!!!!!!!!!!!!!!!!!!!!!!!!!!!!!!!!!!!!!!!!!!!!!!!!!!!!!!!!!!!!!!!!!!!!!!!!!!!!!!!!!!!!!!!!!!!!!!!!!!!!!!!!!!!!!!!!!!!!!!!!!!!!!!!!!!\n",
    "# Models General case"
   ]
  },
  {
   "cell_type": "code",
   "execution_count": 4,
   "id": "43b9ae63-04cc-418c-9e6d-a05af10df714",
   "metadata": {},
   "outputs": [
    {
     "ename": "NameError",
     "evalue": "name 'df' is not defined",
     "output_type": "error",
     "traceback": [
      "\u001b[0;31m---------------------------------------------------------------------------\u001b[0m",
      "\u001b[0;31mNameError\u001b[0m                                 Traceback (most recent call last)",
      "Cell \u001b[0;32mIn[4], line 1\u001b[0m\n\u001b[0;32m----> 1\u001b[0m X \u001b[38;5;241m=\u001b[39m df\u001b[38;5;241m.\u001b[39mdrop(columns\u001b[38;5;241m=\u001b[39m[\u001b[38;5;124m'\u001b[39m\u001b[38;5;124muid\u001b[39m\u001b[38;5;124m'\u001b[39m, \u001b[38;5;124m'\u001b[39m\u001b[38;5;124mpoverty_score_y\u001b[39m\u001b[38;5;124m'\u001b[39m])\n\u001b[1;32m      2\u001b[0m X_test \u001b[38;5;241m=\u001b[39m pd\u001b[38;5;241m.\u001b[39mread_csv(\u001b[38;5;124m'\u001b[39m\u001b[38;5;124mX_TEST.csv\u001b[39m\u001b[38;5;124m'\u001b[39m)\n\u001b[1;32m      4\u001b[0m \u001b[38;5;66;03m# Best parameters: {'max_depth': 10, 'min_samples_split': 5, 'n_estimators': 50}\u001b[39;00m\n",
      "\u001b[0;31mNameError\u001b[0m: name 'df' is not defined"
     ]
    }
   ],
   "source": [
    "X = df.drop(columns=['uid', 'poverty_score_y'])\n",
    "X_test = pd.read_csv('X_TEST.csv')\n",
    "\n",
    "# Best parameters: {'max_depth': 10, 'min_samples_split': 5, 'n_estimators': 50}\n",
    "stacking_subset = df.sample(n=1300, axis=0)\n",
    "X_stacking = stacking_subset.reset_index()\n",
    "uids_stacking = X_stacking['uid']\n",
    "uids_prediction = X_test['uid']\n",
    "X_stacking = X_stacking.drop(columns=['uid', 'poverty_score_y'])\n"
   ]
  },
  {
   "cell_type": "code",
   "execution_count": null,
   "id": "970474a8-6551-4029-9241-a84775d50c4c",
   "metadata": {},
   "outputs": [],
   "source": [
    "reasons = ['not_attend_reason1_2',\n",
    "       'not_attend_reason1_3', 'not_attend_reason1_4', 'not_attend_reason1_5',\n",
    "       'not_attend_reason1_6', 'not_attend_reason1_7', 'not_attend_reason1_8',\n",
    "       'not_attend_reason1_9', 'not_attend_reason1_10',\n",
    "       'not_attend_reason1_11', 'not_attend_reason1_12',\n",
    "       'not_attend_reason1_13', 'not_attend_reason1_14',\n",
    "       'not_attend_reason2_2', 'not_attend_reason2_3', 'not_attend_reason2_4',\n",
    "       'not_attend_reason2_5', 'not_attend_reason2_6', 'not_attend_reason2_7',\n",
    "       'not_attend_reason2_8', 'not_attend_reason2_9', 'not_attend_reason2_10',\n",
    "       'not_attend_reason2_11', 'not_attend_reason2_12',\n",
    "       'not_attend_reason2_13', 'not_attend_reason2_14', 'school_transportation_time']\n",
    "X = X.drop(columns=reasons)\n",
    "X_test = X_test.drop(columns=reasons)\n",
    "X_stacking = X_stacking.drop(columns=reasons)"
   ]
  },
  {
   "cell_type": "code",
   "execution_count": null,
   "id": "08e9cd50-eeef-424b-886a-546591855d3d",
   "metadata": {},
   "outputs": [],
   "source": [
    "new_cols_to_drop = ['uid', 'finish_school_age']\n",
    "X_test = X_test.drop(columns=new_cols_to_drop)"
   ]
  },
  {
   "cell_type": "code",
   "execution_count": null,
   "id": "329c4f1f-1f24-4dbe-920b-bc9e7b627686",
   "metadata": {},
   "outputs": [],
   "source": [
    "X.columns == X_test.columns"
   ]
  },
  {
   "cell_type": "code",
   "execution_count": null,
   "id": "4bfd5a4a-de79-47ff-a7b8-4f668f35c71c",
   "metadata": {},
   "outputs": [],
   "source": []
  },
  {
   "cell_type": "code",
   "execution_count": null,
   "id": "e604377b-6c0a-44e9-a974-a8485c1a2055",
   "metadata": {},
   "outputs": [],
   "source": []
  },
  {
   "cell_type": "code",
   "execution_count": null,
   "id": "e3f7bdd1-6ec2-4201-ae4c-2265ca5eefcb",
   "metadata": {},
   "outputs": [],
   "source": [
    "y = df['poverty_score_y'].to_numpy()"
   ]
  },
  {
   "cell_type": "markdown",
   "id": "fbf71e58-08da-438c-9554-f9668ff83097",
   "metadata": {},
   "source": [
    "### Random Forest**"
   ]
  },
  {
   "cell_type": "code",
   "execution_count": 69,
   "id": "595b2f5c-cc7a-4636-888b-261d4456bdbe",
   "metadata": {},
   "outputs": [
    {
     "name": "stdout",
     "output_type": "stream",
     "text": [
      "Best parameters: {'max_depth': 10, 'min_samples_split': 10, 'n_estimators': 50}\n",
      "Best cross-validation accuracy: 0.21\n"
     ]
    }
   ],
   "source": [
    "param_grid = {\n",
    "    'n_estimators': [10, 50, 150],\n",
    "    'max_depth': [None, 10, 20, 30],\n",
    "    'min_samples_split': [2, 5, 10]\n",
    "}\n",
    "rf = RandomForestClassifier(random_state=42)\n",
    "grid_search = GridSearchCV(rf, param_grid, cv=5, scoring='accuracy')\n",
    "\n",
    "grid_search.fit(X, y)\n",
    "\n",
    "print(f\"Best parameters: {grid_search.best_params_}\")\n",
    "print(f\"Best cross-validation accuracy: {grid_search.best_score_:.2f}\")"
   ]
  },
  {
   "cell_type": "markdown",
   "id": "6fbf8207-8d7b-4c5e-9324-7f535a6008bd",
   "metadata": {},
   "source": [
    "# Do it for reals!"
   ]
  },
  {
   "cell_type": "code",
   "execution_count": null,
   "id": "f0f57e15-518d-42b5-ab3f-46156c3f1e69",
   "metadata": {},
   "outputs": [],
   "source": []
  },
  {
   "cell_type": "code",
   "execution_count": null,
   "id": "dfaafaab-dd13-45e1-9f49-9c397e49dfd2",
   "metadata": {},
   "outputs": [],
   "source": [
    "X_stacking = X_stacking.drop(columns=['index'])"
   ]
  },
  {
   "cell_type": "code",
   "execution_count": null,
   "id": "17456fdf-1ad9-4f0d-bb38-b8cb73537223",
   "metadata": {},
   "outputs": [],
   "source": [
    "X_stacking"
   ]
  },
  {
   "cell_type": "code",
   "execution_count": null,
   "id": "736bfce1-ec3a-4aa8-9527-c3f0b41d007a",
   "metadata": {},
   "outputs": [],
   "source": [
    "# Initialize the Random Forest model\n",
    "rf = RandomForestClassifier(n_estimators=50, max_depth=10, min_samples_split=5, random_state=42)\n",
    "\n",
    "# Train the Random Forest model on the training data\n",
    "rf.fit(X, y)\n",
    "\n",
    "# Make predictions on the test data\n",
    "y_stacking = rf.predict_proba(X_stacking)\n",
    "y_pred = rf.predict_proba(X_test)\n",
    "\n"
   ]
  },
  {
   "cell_type": "code",
   "execution_count": null,
   "id": "796f01c0-3e90-4ee2-9349-ea92e79f090d",
   "metadata": {},
   "outputs": [],
   "source": [
    "cols = ['subjective_poverty_1', 'subjective_poverty_2', 'subjective_poverty_3', 'subjective_poverty_4', \n",
    "        'subjective_poverty_5', 'subjective_poverty_6',\n",
    "        'subjective_poverty_7', 'subjective_poverty_8', 'subjective_poverty_9', 'subjective_poverty_10']\n",
    "\n",
    "y_pred = pd.DataFrame(y_pred, columns=cols)\n",
    "y_stacking = pd.DataFrame(y_stacking, columns=cols)"
   ]
  },
  {
   "cell_type": "code",
   "execution_count": null,
   "id": "da44c1c3-3de0-4e75-9ba4-1aa2a947555d",
   "metadata": {},
   "outputs": [],
   "source": []
  },
  {
   "cell_type": "code",
   "execution_count": null,
   "id": "0849770f-8db1-4d4a-a9aa-9fe459157b60",
   "metadata": {},
   "outputs": [],
   "source": [
    "pred = pd.concat([uids_prediction, y_pred], axis=1)\n",
    "pred.rename(columns={'uid': 'psu_hh_idcode'}, inplace=True)\n",
    "\n",
    "stack = pd.concat([uids_stacking, y_stacking], axis=1)\n",
    "stack.rename(columns={'uid': 'psu_hh_idcode'}, inplace=True)\n"
   ]
  },
  {
   "cell_type": "code",
   "execution_count": null,
   "id": "7ddb5f50-44a3-4807-b3d0-64667287d275",
   "metadata": {},
   "outputs": [],
   "source": [
    "pred.to_csv('testset_predictions.csv', index=False)\n",
    "stack.to_csv('stacking_predictions.csv', index=False)\n"
   ]
  },
  {
   "cell_type": "markdown",
   "id": "76448a12-a736-4ddd-a3e9-36d9a947f6ae",
   "metadata": {},
   "source": [
    "# Chenruo's final data\n",
    "Covariates used:\n",
    "\n",
    "* role_group\n",
    "* age_group\n",
    "* kids_group\n",
    "* marital_status\n",
    "* away_group\n",
    "* mother_education_group\n",
    "* read_write\n",
    "* education_group\n",
    "* preschool_group\n",
    "* enrollment_grouping"
   ]
  },
  {
   "cell_type": "code",
   "execution_count": null,
   "id": "bbb4aa32-4376-42c0-99f6-0b1411da3a73",
   "metadata": {},
   "outputs": [],
   "source": [
    "df = pd.read_csv('chenruos_final.csv')"
   ]
  },
  {
   "cell_type": "code",
   "execution_count": null,
   "id": "a2cf23cb-c675-4446-9d89-24908f5ea707",
   "metadata": {},
   "outputs": [],
   "source": [
    "y = df['Self_Rank'].to_numpy()\n",
    "uids = df['Self_id']"
   ]
  },
  {
   "cell_type": "code",
   "execution_count": null,
   "id": "55742676-91b9-4df8-817d-74277134fe9a",
   "metadata": {},
   "outputs": [],
   "source": [
    "var_used = ['family_role_group', 'age_group', 'kids_group', 'marital_status', 'away_group', \n",
    "            'mother_education_group', 'read_write', 'education_group', 'preschool_group', 'enrollment_grouping',\n",
    "           ]\n",
    "X = df[var_used]"
   ]
  },
  {
   "cell_type": "code",
   "execution_count": null,
   "id": "80734a90-1475-4f84-86b7-8d545b079941",
   "metadata": {},
   "outputs": [],
   "source": [
    "X.columns"
   ]
  },
  {
   "cell_type": "code",
   "execution_count": null,
   "id": "3851569f-4350-45a8-a73e-842aff3f3eb3",
   "metadata": {},
   "outputs": [],
   "source": [
    "dummies = pd.get_dummies(X['family_role_group'], prefix='role', drop_first=True)\n",
    "X = pd.concat([X, dummies], axis=1)\n",
    "\n",
    "dummies = pd.get_dummies(X['age_group'], prefix='age', drop_first=True)\n",
    "X = pd.concat([X, dummies], axis=1)\n",
    "\n",
    "dummies = pd.get_dummies(X['kids_group'], prefix='role', drop_first=True)\n",
    "X = pd.concat([X, dummies], axis=1)\n",
    "\n",
    "dummies = pd.get_dummies(X['marital_status'], prefix='role', drop_first=True)\n",
    "X = pd.concat([X, dummies], axis=1)\n",
    "\n",
    "dummies = pd.get_dummies(X['mother_education_group'], prefix='role', drop_first=True)\n",
    "X = pd.concat([X, dummies], axis=1)\n",
    "\n",
    "dummies = pd.get_dummies(X['away_group'], prefix='role', drop_first=True)\n",
    "X = pd.concat([X, dummies], axis=1)\n",
    "\n",
    "dummies = pd.get_dummies(X['education_group'], prefix='role', drop_first=True)\n",
    "X = pd.concat([X, dummies], axis=1)\n",
    "\n",
    "dummies = pd.get_dummies(X['preschool_group'], prefix='role', drop_first=True)\n",
    "X = pd.concat([X, dummies], axis=1)\n",
    "\n",
    "dummies = pd.get_dummies(X['enrollment_grouping'], prefix='role', drop_first=True)\n",
    "X = pd.concat([X, dummies], axis=1)\n",
    "\n"
   ]
  },
  {
   "cell_type": "code",
   "execution_count": null,
   "id": "d5288603-c755-4c35-9965-7dcf3cd34578",
   "metadata": {},
   "outputs": [],
   "source": [
    "X"
   ]
  },
  {
   "cell_type": "code",
   "execution_count": null,
   "id": "522dceb8-ebd4-4959-be45-20a2a6056186",
   "metadata": {},
   "outputs": [],
   "source": [
    "old =[ 'family_role_group', 'age_group', 'kids_group', 'marital_status',\n",
    "       'away_group', 'mother_education_group','education_group',\n",
    "       'preschool_group', 'enrollment_grouping']\n",
    "X = X.drop(columns=old)"
   ]
  },
  {
   "cell_type": "code",
   "execution_count": null,
   "id": "16f1323d-d555-4a0b-969b-6b6492a87367",
   "metadata": {},
   "outputs": [],
   "source": [
    "X"
   ]
  },
  {
   "cell_type": "code",
   "execution_count": null,
   "id": "aa218da1-2cc9-45ae-97a1-5c6fb2a6ee78",
   "metadata": {},
   "outputs": [],
   "source": []
  },
  {
   "cell_type": "markdown",
   "id": "df19a5b9-be59-42ac-b6e1-33463c5b48b9",
   "metadata": {},
   "source": [
    "### Random Forest**"
   ]
  },
  {
   "cell_type": "code",
   "execution_count": null,
   "id": "b82d3fe5-d739-4251-9903-afcc12fa599b",
   "metadata": {},
   "outputs": [],
   "source": [
    "param_grid = {\n",
    "    'n_estimators': [10, 50, 100],\n",
    "    'max_depth': [None, 10, 20, 30],\n",
    "    'min_samples_split': [2, 5, 10]\n",
    "}\n",
    "rf = RandomForestClassifier(random_state=42)\n",
    "grid_search = GridSearchCV(rf, param_grid, cv=5, scoring='accuracy')\n",
    "\n",
    "grid_search.fit(X, y)\n",
    "\n",
    "print(f\"Best parameters: {grid_search.best_params_}\")\n",
    "print(f\"Best cross-validation accuracy: {grid_search.best_score_:.2f}\")"
   ]
  },
  {
   "cell_type": "markdown",
   "id": "ec6e5d69-e2c3-4fc5-ad0c-786bea94e767",
   "metadata": {},
   "source": [
    "### kNN"
   ]
  },
  {
   "cell_type": "code",
   "execution_count": null,
   "id": "2cbe7bfe-8b7a-46b0-9538-c28450d2c77b",
   "metadata": {},
   "outputs": [],
   "source": [
    "knn = KNeighborsClassifier(n_neighbors=200) ## this says they are all close to the middle\n",
    "\n",
    "# Perform 5-fold cross-validation\n",
    "cv_scores = cross_val_score(knn, X, y, cv=5, scoring='accuracy')\n",
    "\n",
    "# Print the accuracy for each fold\n",
    "print(\"Cross-validation scores:\", cv_scores)\n",
    "print(f\"Average cross-validation accuracy: {cv_scores.mean():.2f}\")\n",
    "\n"
   ]
  },
  {
   "cell_type": "markdown",
   "id": "f6a05726-889b-46e0-8b98-873c3c70462f",
   "metadata": {},
   "source": [
    "### Logistic"
   ]
  },
  {
   "cell_type": "code",
   "execution_count": null,
   "id": "03e9f6fc-09ca-463f-bc7d-233dec012567",
   "metadata": {},
   "outputs": [],
   "source": [
    "model = LogisticRegression(multi_class='multinomial', solver='lbfgs', max_iter=1000)\n",
    "\n",
    "# Perform cross-validation with 5 folds\n",
    "cv_scores = cross_val_score(model, X, y, cv=5, scoring='accuracy')\n",
    "\n",
    "# Print cross-validation scores\n",
    "print(\"Cross-validation scores:\", cv_scores)\n",
    "print(\"Mean accuracy:\", cv_scores.mean())"
   ]
  },
  {
   "cell_type": "markdown",
   "id": "37c0045e-70c4-4851-9960-34af4c8d3c4f",
   "metadata": {},
   "source": [
    "### NN\n",
    "\n",
    "doesn't converge"
   ]
  },
  {
   "cell_type": "code",
   "execution_count": null,
   "id": "b3a54d4e-8f1a-4a96-b42d-442a3bffd2fb",
   "metadata": {},
   "outputs": [],
   "source": [
    "# nn_model = MLPClassifier(max_iter=1000, random_state=42)\n",
    "\n",
    "# # Define the hyperparameter grid\n",
    "# param_grid = {\n",
    "#     'hidden_layer_sizes': [(50,), (100,), (50, 50), (100, 50)],\n",
    "#     'activation': ['relu', 'tanh'],\n",
    "#     'solver': ['adam', 'sgd'],\n",
    "#     'learning_rate': ['constant', 'adaptive'],\n",
    "# }\n",
    "\n",
    "# # Initialize GridSearchCV\n",
    "# grid_search = GridSearchCV(estimator=nn_model, param_grid=param_grid, cv=5, scoring='accuracy', verbose=2, n_jobs=-1)\n",
    "\n",
    "# # Perform the grid search\n",
    "# grid_search.fit(X, y)\n",
    "\n",
    "# # Print the best parameters and best score\n",
    "# print(\"Best parameters:\", grid_search.best_params_)\n",
    "# print(\"Best cross-validation accuracy:\", grid_search.best_score_)\n"
   ]
  },
  {
   "cell_type": "code",
   "execution_count": null,
   "id": "dd70afa0-d32d-4474-bdaa-0dd9c5f61b88",
   "metadata": {},
   "outputs": [],
   "source": []
  }
 ],
 "metadata": {
  "kernelspec": {
   "display_name": "Python 3 (ipykernel)",
   "language": "python",
   "name": "python3"
  },
  "language_info": {
   "codemirror_mode": {
    "name": "ipython",
    "version": 3
   },
   "file_extension": ".py",
   "mimetype": "text/x-python",
   "name": "python",
   "nbconvert_exporter": "python",
   "pygments_lexer": "ipython3",
   "version": "3.12.7"
  }
 },
 "nbformat": 4,
 "nbformat_minor": 5
}
