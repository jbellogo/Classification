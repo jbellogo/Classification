{
 "cells": [
  {
   "cell_type": "code",
   "execution_count": 2,
   "id": "c2646124-94ca-4ce0-a5f5-bb57c13cd8e9",
   "metadata": {},
   "outputs": [],
   "source": [
    "# construct the most raw data possible, no splits, most basic feature engineering basically fill out the na and expand categories \n",
    "import pandas as pd\n",
    "import os, sys\n",
    "import matplotlib.pyplot as plt\n"
   ]
  },
  {
   "cell_type": "code",
   "execution_count": null,
   "id": "7686fa8f-b360-4f2e-afcb-c6d02028ba25",
   "metadata": {},
   "outputs": [],
   "source": [
    "# ed = pd.read_csv('ed_train_raw.csv') # education DataFrame\n",
    "# hh = pd.read_csv('hh_train_raw.csv') # household DataFrame\n",
    "\n"
   ]
  },
  {
   "cell_type": "code",
   "execution_count": null,
   "id": "af7a471a-07e1-4d6e-ac43-a531ec3b47e6",
   "metadata": {},
   "outputs": [],
   "source": []
  },
  {
   "cell_type": "markdown",
   "id": "34b0ccd6-aa80-414d-b31e-6f60ab8554c3",
   "metadata": {},
   "source": [
    "# Group #1 \n",
    "\n",
    "Claim: Those who answer No = 2 for attended_school are done with the ED survey. \n",
    "\n",
    "\n",
    "#### Group 1 only uses ED 1,2\n",
    "\n",
    "\n"
   ]
  },
  {
   "cell_type": "code",
   "execution_count": 30,
   "id": "e85c7ae1-14db-4d2d-914a-6107ee21a10f",
   "metadata": {},
   "outputs": [],
   "source": [
    "# get group_1 train sets\n",
    "g1condition = ed['attended_school'].eq(2)\n",
    "g1ed = ed[condition]\n",
    "\n",
    "g1ed = g1ed[['uid', 'literate']]\n",
    "g1hh = hh[hh['uid'].isin(g1ed['uid'])]"
   ]
  },
  {
   "cell_type": "code",
   "execution_count": 23,
   "id": "826c5839-17bb-4d52-8e2c-92880c114bd5",
   "metadata": {},
   "outputs": [],
   "source": [
    "# # Save them to /group1\n",
    "# g1ed.to_csv('./group1/ed_train_g1.csv', index=False)\n",
    "# g1hh.to_csv('./group1/hh_train_g1.csv', index=False)\n"
   ]
  },
  {
   "cell_type": "markdown",
   "id": "0ca910d6-96fa-4e68-88fc-51e0d802f155",
   "metadata": {},
   "source": [
    "# Group 2\n",
    "\n",
    "The ones done with studies"
   ]
  },
  {
   "cell_type": "code",
   "execution_count": 57,
   "id": "a9d2a875-f9f8-4811-b48b-81bb2f533fad",
   "metadata": {},
   "outputs": [
    {
     "name": "stdout",
     "output_type": "stream",
     "text": [
      "(3594, 21)\n",
      "(3594, 14)\n"
     ]
    }
   ],
   "source": [
    "split = ed.loc[~g1condition]\n",
    "# Try to literally look for those who have completed school (Option 13 in either 11 or 17)\n",
    "g2condition = split['now_not_enroll_reason'].eq(13) | split['past_not_enroll_reason'].eq(13)\n",
    "\n",
    "g2ed = split[g2condition]\n",
    "g2hh = hh[hh['uid'].isin(g2ed['uid'])]\n",
    "\n",
    "print(g2ed.shape)\n",
    "print(g2hh.shape)"
   ]
  },
  {
   "cell_type": "code",
   "execution_count": 63,
   "id": "3e7b707e-b5d6-460a-b049-fdd6753fa2bd",
   "metadata": {},
   "outputs": [],
   "source": [
    "g2ed.to_csv('./group2/ed_train_g2.csv', index=False)\n",
    "g2hh.to_csv('./group2/hh_train_g2.csv', index=False)\n"
   ]
  },
  {
   "cell_type": "markdown",
   "id": "e9dc73ae-c5e4-4b28-b465-7056cfc33d1c",
   "metadata": {},
   "source": [
    "# G3\n",
    "\n",
    "#### The students\n",
    "\n",
    "Should not use certain ed questions in their prediction... the ones meant for students doi! determine which ones these are"
   ]
  },
  {
   "cell_type": "code",
   "execution_count": 69,
   "id": "aa1516bd-8dd7-4af2-aada-97c07f27cedf",
   "metadata": {},
   "outputs": [
    {
     "name": "stdout",
     "output_type": "stream",
     "text": [
      "(1601, 21)\n",
      "(1601, 14)\n"
     ]
    }
   ],
   "source": [
    "g3ed = ed.loc[~g1condition & ~g2condition]\n",
    "g3hh = hh[hh['uid'].isin(g3ed['uid'])]\n",
    "print(g3df.shape)\n",
    "print(g3hh.shape)"
   ]
  },
  {
   "cell_type": "code",
   "execution_count": 71,
   "id": "1ec289b8-2350-4d3d-a83a-50827b0f0d34",
   "metadata": {},
   "outputs": [],
   "source": [
    "g3ed.to_csv('./group3/ed_train_g3.csv', index=False)\n",
    "g3hh.to_csv('./group3/hh_train_g3.csv', index=False)\n"
   ]
  },
  {
   "cell_type": "code",
   "execution_count": null,
   "id": "6e1d52ee-1bcf-4e10-b9f1-ca859ada3354",
   "metadata": {},
   "outputs": [],
   "source": []
  }
 ],
 "metadata": {
  "kernelspec": {
   "display_name": "Python 3 (ipykernel)",
   "language": "python",
   "name": "python3"
  },
  "language_info": {
   "codemirror_mode": {
    "name": "ipython",
    "version": 3
   },
   "file_extension": ".py",
   "mimetype": "text/x-python",
   "name": "python",
   "nbconvert_exporter": "python",
   "pygments_lexer": "ipython3",
   "version": "3.12.7"
  }
 },
 "nbformat": 4,
 "nbformat_minor": 5
}
