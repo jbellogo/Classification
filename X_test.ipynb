{
 "cells": [
  {
   "cell_type": "code",
   "execution_count": null,
   "id": "30a65192-1d0a-4880-9feb-826fc4d7ea0f",
   "metadata": {},
   "outputs": [],
   "source": []
  },
  {
   "cell_type": "code",
   "execution_count": 6,
   "id": "67bd5ac9-40fc-4adb-a23b-c4d1b90bc7c4",
   "metadata": {},
   "outputs": [],
   "source": [
    "import pandas as pd\n",
    "import os, sys\n",
    "import matplotlib.pyplot as plt\n"
   ]
  },
  {
   "cell_type": "markdown",
   "id": "2dd9b184-7f30-4df8-87d9-790589d9a354",
   "metadata": {},
   "source": [
    "# TEST preprocessing:"
   ]
  },
  {
   "cell_type": "code",
   "execution_count": 8,
   "id": "85dd174a-ac7e-4f0d-8fa8-ec0929a6449b",
   "metadata": {},
   "outputs": [],
   "source": [
    "ed = pd.read_csv('edu_test.csv') # education DataFrame\n",
    "hh = pd.read_csv('hh_test.csv') # household DataFrame\n",
    "\n"
   ]
  },
  {
   "cell_type": "code",
   "execution_count": 9,
   "id": "fabdc107-b131-40e5-95cb-bcad1badc937",
   "metadata": {},
   "outputs": [],
   "source": [
    "### Prepare Ed data\n",
    "def prepare_df(df, suffix:str):\n",
    "    uids = df['psu'].astype(str) + \"_\"  + df['hh'].astype(str) + \"_\" + df['idcode'].astype(str) \n",
    "    df = df.drop(columns=['psu', 'hh', 'idcode'])\n",
    "    df.columns = [suffix + \"_\" + col.capitalize() for col in df.columns]\n",
    "    df.insert(0, 'uid', uids)\n",
    "    return df\n",
    "\n",
    "ed = prepare_df(ed, 'ED')\n",
    "hh = prepare_df(hh, 'HH')"
   ]
  },
  {
   "cell_type": "markdown",
   "id": "1abe761c-d251-4d91-bffb-57ddc9ac67cb",
   "metadata": {},
   "source": [
    "# Remove absoluteley useless variates"
   ]
  },
  {
   "cell_type": "code",
   "execution_count": 11,
   "id": "da10363e-ccdf-410f-85a4-07081108de32",
   "metadata": {},
   "outputs": [],
   "source": [
    "hh = hh.drop(columns=['HH_Hhid', 'HH_Q04', 'HH_Q08', 'HH_Q12', 'HH_Q18'])\n",
    "columns_to_keep = [\n",
    "    'uid',\n",
    "    'ED_Q01', 'ED_Q02', 'ED_Q03', 'ED_Q04', 'ED_Q05', 'ED_Q06', 'ED_Q07', 'ED_Q08', 'ED_Q09', 'ED_Q10', 'ED_Q11', \n",
    "    'ED_Q14', 'ED_Q15', 'ED_Q16', 'ED_Q17', 'ED_Q18',\n",
    "    'ED_Q19',\n",
    "    'ED_Q23',\n",
    "    'ED_Q26', 'ED_Q27', 'ED_Q28', 'ED_Q29',\n",
    "    'ED_Q41', \n",
    "]\n",
    "\n",
    "ed = ed[columns_to_keep]\n"
   ]
  },
  {
   "cell_type": "markdown",
   "id": "199b84a6-1dac-4e3a-8da1-e87e3ad0f352",
   "metadata": {},
   "source": [
    "# Rename variates for interpretability"
   ]
  },
  {
   "cell_type": "code",
   "execution_count": 13,
   "id": "8bf9acfb-de34-44c4-bd68-c3f99880c17e",
   "metadata": {},
   "outputs": [],
   "source": [
    "# ED variates\n",
    "ed['literate'] = ed['ED_Q01'].eq(1) & ed['ED_Q02'].eq(1) \n",
    "\n",
    "ed['attended_school'] = ed['ED_Q03'] \n",
    "\n",
    "ed['highest_school_lvl'] = ed['ED_Q04'] \n",
    "\n",
    "ed['preschool'] = ed['ED_Q07']\n",
    "\n",
    "# Merge\n",
    "ed['now_enrolled'] = ed['ED_Q08']\n",
    "ed['now_attending'] = ed['ED_Q09'] # 1 yes, 2 No\n",
    "ed['past_enrolled'] = ed['ED_Q14'] # 1 yes, 2 No\n",
    "ed['past_attending'] = ed['ED_Q15'] # 1 yes, 2 No\n",
    "\n",
    "# Merge\n",
    "ed['now_not_attend_reason'] = ed['ED_Q10']\n",
    "ed['now_not_enroll_reason'] = ed['ED_Q11']\n",
    "ed['past_not_attend_reason'] = ed['ED_Q16'] \n",
    "ed['past_not_enroll_reason'] = ed['ED_Q17']\n",
    "\n",
    "ed['now_not_attend_reason'] = pd.Categorical(ed['now_not_attend_reason'], categories=list(range(1, 15)))\n",
    "ed['now_not_enroll_reason'] = pd.Categorical(ed['now_not_enroll_reason'], categories=list(range(1, 15)))\n",
    "ed['past_not_attend_reason'] = pd.Categorical(ed['past_not_attend_reason'], categories=list(range(1, 15)))\n",
    "ed['past_not_enroll_reason'] = pd.Categorical(ed['past_not_enroll_reason'], categories=list(range(1, 15)))\n",
    "\n",
    "\n",
    "ed['finish_school_age'] = ed['ED_Q18'] \n",
    "\n",
    "# ed['younger_19'] = ed['ED_Q19']\n",
    "\n",
    "ed['public_private_school'] = ed['ED_Q23'] \n",
    "ed['public_private_school'] = pd.Categorical(ed['public_private_school'], categories=list(range(1, 4)))\n",
    "\n",
    "\n",
    "ed['school_transportation_time'] = ed['ED_Q26'].apply(lambda hrs : hrs * 60) +  ed['ED_Q27'] # it works\n",
    "\n",
    "####\n",
    "trans = [0, 1, 2,0, 3, 4]\n",
    "ed['school_transportation_vehicle'] = ed['ED_Q28'].apply(lambda indx : indx if pd.isna(indx) else trans[int(indx)])\n",
    "ed['school_transportation_vehicle'] = pd.Categorical(ed['school_transportation_vehicle'], categories=list(range(1, 5)))\n",
    "\n",
    "\n",
    "####\n",
    "ed['school_transportation_cost'] = ed['ED_Q29'] \n",
    "\n",
    "ed['school_expenses'] = ed['ED_Q41'] \n"
   ]
  },
  {
   "cell_type": "code",
   "execution_count": 14,
   "id": "22275dfe-3a8f-4784-9892-f645673d65c1",
   "metadata": {},
   "outputs": [],
   "source": [
    "new_cols = [\n",
    "    'uid',\n",
    "    'literate','attended_school','highest_school_lvl',\n",
    "    'preschool',\n",
    "    'now_enrolled','now_attending','past_enrolled', 'past_attending','now_not_attend_reason',\n",
    "    'now_not_enroll_reason','past_not_attend_reason','past_not_enroll_reason',\n",
    "    'finish_school_age',\n",
    "    'public_private_school',\n",
    "    'school_transportation_time','school_transportation_vehicle',\n",
    "    'school_transportation_cost','school_expenses'\n",
    "]\n",
    "\n",
    "\n",
    "ed = ed[new_cols]\n"
   ]
  },
  {
   "cell_type": "code",
   "execution_count": 15,
   "id": "06980d34-7a35-44ae-bbd0-fe3cd03f323d",
   "metadata": {},
   "outputs": [],
   "source": [
    "\n",
    "# HH Variates. A random forest might atually be good\n",
    "hh['sex'] = hh['HH_Q02'] \n",
    "hh['family_role'] = hh['HH_Q03'] \n",
    "hh['family_role'] = pd.Categorical(hh['family_role'], categories=list(range(1, 15)))\n",
    "\n",
    "hh['age'] = hh['HH_Q05y'] # don't need month decimal\n",
    "\n",
    "hh['marital_status'] = hh['HH_Q06'] \n",
    "hh['marital_status'] = pd.Categorical(hh['marital_status'], categories=list(range(1, 6)))\n",
    "\n",
    "\n",
    "hh['spouse_lives'] = hh['HH_Q07']\n",
    "hh['time_away'] = hh['HH_Q09'] \n",
    "# hh[''] = hh['HH_Q10'] \n",
    "\n",
    "# leave the sorting to the tree. that's what ti does better than anybody!!!! \n",
    "hh['lives_with_mom'] = hh['HH_Q11'] \n",
    "hh['moms_education'] = hh['HH_Q13'] \n",
    "hh['mom_alive'] = hh['HH_Q14'] \n",
    "\n",
    "hh['lives_with_dad'] = hh['HH_Q17'] \n",
    "hh['dad_education'] = hh['HH_Q19'] \n",
    "hh['dad_alive'] = hh['HH_Q20']\n",
    "\n",
    "hh = hh.drop(columns=['HH_Q02', 'HH_Q03', 'HH_Q05y', 'HH_Q05m', 'HH_Q06', 'HH_Q07',\n",
    "       'HH_Q09', 'HH_Q10', 'HH_Q11', 'HH_Q13', 'HH_Q14', 'HH_Q15', 'HH_Q16',\n",
    "       'HH_Q17', 'HH_Q19', 'HH_Q20', 'HH_Q21', 'HH_Q22'])\n"
   ]
  },
  {
   "cell_type": "code",
   "execution_count": null,
   "id": "5e606dcc-4f0b-4fd0-98e2-1e2cb2709392",
   "metadata": {},
   "outputs": [],
   "source": []
  },
  {
   "cell_type": "code",
   "execution_count": null,
   "id": "960b4e2f-44b6-4030-92e3-0c5f4979db4a",
   "metadata": {},
   "outputs": [],
   "source": []
  },
  {
   "cell_type": "markdown",
   "id": "b567aaa5-ca9a-4668-a3f2-62a96db86e36",
   "metadata": {},
   "source": [
    "# Preliminary Variable Selection!!!!\n"
   ]
  },
  {
   "cell_type": "markdown",
   "id": "2ab65161-b311-4b74-9a30-f1d613679fb9",
   "metadata": {},
   "source": [
    "# Is student?"
   ]
  },
  {
   "cell_type": "code",
   "execution_count": 18,
   "id": "4bd23a32-772d-4dc5-bf40-658d9e24116f",
   "metadata": {},
   "outputs": [],
   "source": [
    "# enrollment and attendance past and present:\n",
    "\n",
    "ed['now_attending'] = ed['now_attending'].fillna(ed['now_enrolled'])\n",
    "ed['past_attending'] = ed['past_attending'].fillna(ed['past_enrolled'])\n",
    "\n",
    "# We only care if they attended at least one year in the past 2.\n",
    "attended = ed['now_attending'].eq(1) | ed['past_attending'].eq(1)  # NaN values mean they are NOT students\n",
    "ed.loc[attended, 'is_student'] = True\n",
    "ed.loc[~attended, 'is_student'] = False\n",
    "\n",
    "ed =  ed.drop(columns=['now_enrolled', 'past_enrolled', 'past_attending', 'now_attending'])\n"
   ]
  },
  {
   "cell_type": "markdown",
   "id": "3d44bc6f-ddd7-4b20-91c2-fff0046cbee4",
   "metadata": {},
   "source": [
    "# absence reasons:"
   ]
  },
  {
   "cell_type": "code",
   "execution_count": 20,
   "id": "c290622b-0fc2-43db-94e2-6db60d09a78b",
   "metadata": {},
   "outputs": [],
   "source": [
    "\n",
    "ed.loc[ed['now_not_attend_reason'] == 13, 'now_not_attend_reason'] = 14\n",
    "ed.loc[ed['past_not_attend_reason'] == 13, 'past_not_attend_reason'] = 14\n",
    "\n",
    "# We have situations where someone enrolls but does not attend.\n",
    "# We don't have situations when someone who did not enroll attends. \n",
    "# So use attend as base truth and fill some of the NaNs with enrolled.\n",
    "ed['now_not_attend_reason'] = ed['now_not_attend_reason'].fillna(ed['now_not_enroll_reason'])\n",
    "ed['past_not_attend_reason'] = ed['past_not_attend_reason'].fillna(ed['past_not_enroll_reason'])\n",
    "\n",
    "ed = ed.drop(columns=['now_not_enroll_reason', 'past_not_enroll_reason'])\n",
    "\n",
    "ed['now_not_attend_reason'] = ed['now_not_attend_reason'].fillna(14) #\"other\"\n",
    "ed['past_not_attend_reason'] = ed['past_not_attend_reason'].fillna(14) # other"
   ]
  },
  {
   "cell_type": "code",
   "execution_count": 21,
   "id": "c4bd676d-2222-447a-9f11-faf0349aec91",
   "metadata": {},
   "outputs": [],
   "source": [
    "dummies = pd.get_dummies(ed['now_not_attend_reason'], prefix='not_attend_reason1', drop_first=True)\n",
    "ed = pd.concat([ed, dummies], axis=1)\n",
    "\n",
    "dummies = pd.get_dummies(ed['past_not_attend_reason'], prefix='not_attend_reason2', drop_first=True)\n",
    "ed = pd.concat([ed, dummies], axis=1)\n",
    "\n"
   ]
  },
  {
   "cell_type": "code",
   "execution_count": 22,
   "id": "3b0b36fc-3413-4647-86e0-ed05fce89dbb",
   "metadata": {},
   "outputs": [],
   "source": [
    "ed = ed.drop(columns=['now_not_attend_reason', 'past_not_attend_reason'])"
   ]
  },
  {
   "cell_type": "code",
   "execution_count": 23,
   "id": "e9b19ff5-b5eb-4109-86df-3ca174cadcbf",
   "metadata": {},
   "outputs": [],
   "source": [
    "# cols = ['now_not_attend_reason', 'past_not_attend_reason']\n",
    "# data = ed[cols]\n",
    "# data.loc[data['now_not_attend_reason'].ne(data['past_not_attend_reason']), cols]"
   ]
  },
  {
   "cell_type": "code",
   "execution_count": 24,
   "id": "47cd2b6c-4085-4a9f-90b3-8b1a1fe8c44a",
   "metadata": {},
   "outputs": [],
   "source": [
    "# # Now apply transform reasons to the financial scale\n",
    "# ABSENCE_REASON_TO_MONEY_MAPPING = [0, 3,1,3,3,1,1,1,2,2,1,1,2,1,1]\n",
    "\n",
    "# ed['now_not_attend_reason'] =  ed['now_not_attend_reason'].apply(lambda indx : ABSENCE_REASON_TO_MONEY_MAPPING[int(indx)])\n",
    "# ed['past_not_attend_reason'] =  ed['past_not_attend_reason'].apply(lambda indx : ABSENCE_REASON_TO_MONEY_MAPPING[int(indx)])"
   ]
  },
  {
   "cell_type": "code",
   "execution_count": 25,
   "id": "1c456f05-8dcc-4b94-8f9a-ba8205453cca",
   "metadata": {},
   "outputs": [],
   "source": [
    "# Now the merge between now_not_attend_reason and past_not_attend_reason becomes obvious for our purposes of predicting wealth: pick the maximum. \n",
    "# ed['not_attend_reason'] =  ed.apply(lambda row: max(row['past_not_attend_reason'], row['now_not_attend_reason']), axis=1)\n"
   ]
  },
  {
   "cell_type": "code",
   "execution_count": 26,
   "id": "29bb7e30-1639-4f1a-b156-690e9e566d5d",
   "metadata": {},
   "outputs": [],
   "source": [
    "# ed = ed.drop(columns=['now_not_attend_reason', 'past_not_attend_reason'])"
   ]
  },
  {
   "cell_type": "code",
   "execution_count": 27,
   "id": "f3477958-f97b-4065-bc85-66631c03c2c7",
   "metadata": {},
   "outputs": [],
   "source": [
    "# # Now we need to merge Missed_year? and not_attend_reason into one variate\n",
    "\n",
    "# ## CLAIM: Missed_year==False <-> not_attend_reason=0\n",
    "# claim = ed['Missed_year'].eq(False) & ed['not_attend_reason'].ne(0)\n",
    "# assert(len(ed[claim])==0)\n",
    "\n",
    "# # DONE: So they are already dependent!! No need to do anything other than delete missed_year?\n",
    "\n",
    "# # The meaning of this not_attend_reason variable in the FINAL TRANSFORM ED_T4 is: \n",
    "# # It represents what happened in the last couple of years\n",
    "# # 0 if the kid attended both years to school\n",
    "# # 1 if the kid missed at least one year due to something, in the worse case scenario, (NOT) related to money\n",
    "# # 2 if the kid missed at least one year due to something, in the worse case scenario, (SOMEWHAT) related to money\n",
    "# # 3 if the kid missed at least one year due to something, in the worse case scenario, (DIRECTLY) related to money\n"
   ]
  },
  {
   "cell_type": "code",
   "execution_count": 28,
   "id": "c8190583-7cf7-4be8-94f2-79e39b0a18d5",
   "metadata": {},
   "outputs": [],
   "source": [
    "# ed = ed.drop(columns=['Missed_year'])"
   ]
  },
  {
   "cell_type": "markdown",
   "id": "fa6c5fcf-7bd3-44f9-afe9-135b73b8f70d",
   "metadata": {},
   "source": [
    "# Highest School lvl"
   ]
  },
  {
   "cell_type": "code",
   "execution_count": 30,
   "id": "94b3c0da-72c7-4d0b-8d85-7751e65b035f",
   "metadata": {},
   "outputs": [],
   "source": [
    "Q4_education_mapping = [0, 1, 2, 3, 4, 4, 5, 5, 6, 6, 7, 7] # just gives the same values to same degrees (no matter where they were studied)\n",
    "ed['highest_school_lvl'] =  ed['highest_school_lvl'].apply(lambda indx : indx if pd.isna(indx) else Q4_education_mapping[int(indx)])\n",
    "\n",
    "## fill out NaN values with standarized mean\n",
    "av = ed['highest_school_lvl'].mean()\n",
    "ed['highest_school_lvl'] = ed['highest_school_lvl'].fillna(round(av, 2))\n"
   ]
  },
  {
   "cell_type": "markdown",
   "id": "20c81261-62ad-4a6c-8740-c6cf4067c3ed",
   "metadata": {},
   "source": [
    "# Preschool?"
   ]
  },
  {
   "cell_type": "code",
   "execution_count": 32,
   "id": "a3aa291f-f415-463d-8551-fd61bdcfac67",
   "metadata": {},
   "outputs": [],
   "source": [
    "cond = ed['preschool'].isna()\n",
    "ed['preschool'] = ed['preschool'].fillna(0)"
   ]
  },
  {
   "cell_type": "markdown",
   "id": "10a7ea54-2992-4da6-bc45-5cfe3055e815",
   "metadata": {},
   "source": [
    "# finish_school_age, younger_19\n",
    " don't make sense. we will have the age from hh"
   ]
  },
  {
   "cell_type": "code",
   "execution_count": 34,
   "id": "9b9a4671-e988-43b7-bc84-451b4faaba59",
   "metadata": {},
   "outputs": [],
   "source": [
    "av = round(ed['finish_school_age'].mean(), 2)\n",
    "ed['finish_school_age'] = ed['finish_school_age'].fillna(av)"
   ]
  },
  {
   "cell_type": "markdown",
   "id": "82a44b43-924c-4e79-b573-0d6dd04d7cad",
   "metadata": {},
   "source": [
    "# public_private_school\n",
    "Q23: Is the school that [Name] attend in public or private?\n",
    "\n",
    "* PUBLIC\t= 1\n",
    "* PRIVATE RELIGIOUS\t= 2\n",
    "* PRIVATE NON-RELIGIOUS\t= 3\n",
    "\n",
    "I like this ordering because, apparently, \"Non-religious private schools are more expensive than religious private schools on average\"\n",
    "\n",
    "NaN replacement: \n",
    "AVERAGE because average assigns a more conservative value to NaN. A zero on this new scale is still the 25th quantile so it is biased towards poverty ya know.\n",
    "\n",
    "But indicator variables have the potential to model the relatinsip better than by increases in 1... \n",
    "**everytime you want to make up a scale think of this: can I do it bettern than a machine?**"
   ]
  },
  {
   "cell_type": "code",
   "execution_count": 36,
   "id": "1ad852ee-c7c2-4feb-b3f5-3800dbd840dc",
   "metadata": {},
   "outputs": [],
   "source": [
    "ed['public_private_school'] = ed['public_private_school'].fillna(1) # no data avaliable\n",
    "dummies = pd.get_dummies(ed['public_private_school'], prefix='school_type', drop_first=True)\n",
    "ed = pd.concat([ed, dummies], axis=1)\n"
   ]
  },
  {
   "cell_type": "code",
   "execution_count": 37,
   "id": "1de4654d-c43a-4ab3-a221-c7fffe88e7d6",
   "metadata": {},
   "outputs": [],
   "source": [
    "ed = ed.drop(columns=['public_private_school'])"
   ]
  },
  {
   "cell_type": "markdown",
   "id": "ab62a9a4-1162-41ea-862d-65d13f89dc72",
   "metadata": {},
   "source": [
    "# Transportation !!!!\n",
    "\n",
    "Just transform into indicator variables!!!!! see what happens "
   ]
  },
  {
   "cell_type": "code",
   "execution_count": 39,
   "id": "8c0260b4-649c-49aa-ad71-dd8520b0177f",
   "metadata": {},
   "outputs": [],
   "source": [
    "dummies = pd.get_dummies(ed['school_transportation_vehicle'], prefix='transport', drop_first=True)\n",
    "ed = pd.concat([ed, dummies], axis=1)\n"
   ]
  },
  {
   "cell_type": "code",
   "execution_count": 40,
   "id": "59394566-d287-40fc-b996-8db00bdcaea3",
   "metadata": {},
   "outputs": [],
   "source": [
    "ed = ed.drop(columns=['school_transportation_vehicle'])"
   ]
  },
  {
   "cell_type": "code",
   "execution_count": 41,
   "id": "775e3715-3269-4f3d-a819-8bcca45600da",
   "metadata": {},
   "outputs": [],
   "source": [
    "# transportation_mapping = [float('nan'), 2, 1, float('nan'), 4, 3, float('nan'), float('nan')]\n",
    "\n",
    "# ed['school_transportation_vehicle'] = ed['school_transportation_vehicle'].apply(lambda indx: indx if pd.isna(indx) else transportation_mapping[int(indx)] )\n",
    "# av = int(ed['school_transportation_vehicle'].mean())\n",
    "# ed['school_transportation_vehicle'] = ed['school_transportation_vehicle'].fillna(av)\n",
    "\n"
   ]
  },
  {
   "cell_type": "code",
   "execution_count": 42,
   "id": "99e9e9c8-317b-40d6-b3e8-97e35b871c56",
   "metadata": {},
   "outputs": [],
   "source": [
    "av = int(ed['school_transportation_time'].mean())\n",
    "ed['school_transportation_time'] = ed['school_transportation_time'].fillna(round(av,2))\n",
    "\n",
    "# because they are kids so they probably feel like the cost is 0\n",
    "ed['school_transportation_cost'] = ed['school_transportation_cost'].fillna(0)"
   ]
  },
  {
   "cell_type": "markdown",
   "id": "b5d3a02a-2880-4ce9-9e0c-95a7ff1899d7",
   "metadata": {},
   "source": [
    "# school_expenses"
   ]
  },
  {
   "cell_type": "code",
   "execution_count": 44,
   "id": "1d0dd12c-876c-44b5-abb9-cafe2c11017f",
   "metadata": {},
   "outputs": [],
   "source": [
    "av = int(ed['school_expenses'].mean())\n",
    "ed['school_expenses'] = ed['school_expenses'].fillna(round(av,2))\n"
   ]
  },
  {
   "cell_type": "markdown",
   "id": "ddce471f-dc05-4e22-aab8-054d6975c3eb",
   "metadata": {},
   "source": [
    "#### DONE!!! with ed"
   ]
  },
  {
   "cell_type": "markdown",
   "id": "01318117-5151-40be-8352-0c42173a7a0c",
   "metadata": {},
   "source": [
    "# Household data"
   ]
  },
  {
   "cell_type": "code",
   "execution_count": 47,
   "id": "b3ce49ff-3edc-41b7-a5bb-c6c7b9026934",
   "metadata": {},
   "outputs": [],
   "source": [
    "# leave sex as is\n",
    "hh['sex'] = hh['sex'].eq(1)\n"
   ]
  },
  {
   "cell_type": "markdown",
   "id": "3f6de8b3-a719-4f14-a375-268fe4f51c38",
   "metadata": {},
   "source": [
    "# family role"
   ]
  },
  {
   "cell_type": "code",
   "execution_count": 49,
   "id": "18e59794-df8d-479e-a495-85813a895419",
   "metadata": {},
   "outputs": [],
   "source": [
    "dummies = pd.get_dummies(hh['family_role'], prefix='fam_role', drop_first=True)\n",
    "ed = pd.concat([ed, dummies], axis=1)\n"
   ]
  },
  {
   "cell_type": "markdown",
   "id": "9ab87825-4f12-42eb-ba0d-53242821aa77",
   "metadata": {},
   "source": [
    "# marital_status \n",
    "just make it into 5 indicator variables. \n",
    "\n"
   ]
  },
  {
   "cell_type": "code",
   "execution_count": 51,
   "id": "93640734-a820-42c7-884d-82ba9413b539",
   "metadata": {},
   "outputs": [],
   "source": [
    "dummies = pd.get_dummies(hh['marital_status'], prefix='marital_status', drop_first=True)\n",
    "ed = pd.concat([ed, dummies], axis=1)\n"
   ]
  },
  {
   "cell_type": "code",
   "execution_count": 52,
   "id": "1a8bdba8-05a0-4362-994e-57801b052ea1",
   "metadata": {},
   "outputs": [],
   "source": [
    "# get rid of both\n",
    "hh = hh.drop(columns=['marital_status', 'family_role'])"
   ]
  },
  {
   "cell_type": "code",
   "execution_count": 53,
   "id": "c4cb845d-00c5-46ee-b9d5-b5d96765622c",
   "metadata": {},
   "outputs": [],
   "source": [
    "hh['lives_with_partner'] = hh['spouse_lives'].eq(1)\n",
    "hh = hh.drop(columns=['spouse_lives'])"
   ]
  },
  {
   "cell_type": "markdown",
   "id": "4efca108-3ee6-41c8-b5fd-f585997b97f5",
   "metadata": {},
   "source": [
    "# time away is good"
   ]
  },
  {
   "cell_type": "code",
   "execution_count": 55,
   "id": "4732b08b-ac7c-424c-922d-462b16295d89",
   "metadata": {},
   "outputs": [],
   "source": [
    "hh['lives_with_parent'] = hh['lives_with_mom'].eq(1) | hh['lives_with_dad'].eq(1)\n",
    "hh = hh.drop(columns=['lives_with_mom', 'lives_with_dad'])"
   ]
  },
  {
   "cell_type": "code",
   "execution_count": 56,
   "id": "c098fae2-1fe5-431a-9bec-9d0c81a11cf1",
   "metadata": {},
   "outputs": [],
   "source": [
    "hh['parents_education'] = (hh['moms_education'] + hh['dad_education']) / 2\n",
    "ave = hh['parents_education'].mean()\n",
    "hh['parents_education'] = hh['parents_education'].fillna(round(ave,2))\n",
    "\n",
    "hh = hh.drop(columns=['moms_education', 'dad_education'])"
   ]
  },
  {
   "cell_type": "code",
   "execution_count": 57,
   "id": "b76b16f0-d6c2-4881-a878-8a9b96164ff9",
   "metadata": {},
   "outputs": [],
   "source": [
    "# parents alive \n",
    "hh['mom_alive'] = hh['mom_alive'].eq(1)\n",
    "hh['dad_alive'] = hh['dad_alive'].eq(1)\n",
    "hh['mom_alive'] = hh['mom_alive'].apply(lambda boo: 1 if boo else 0)\n",
    "hh['dad_alive'] = hh['dad_alive'].apply(lambda boo: 1 if boo else 0)\n",
    "\n",
    "hh['num_parents_alive'] = hh['mom_alive'] + hh['dad_alive']\n",
    "hh = hh.drop(columns=['mom_alive', 'dad_alive'])"
   ]
  },
  {
   "cell_type": "markdown",
   "id": "0117d913-0552-4c29-be37-adfb5f44e481",
   "metadata": {},
   "source": [
    "# DONE"
   ]
  },
  {
   "cell_type": "code",
   "execution_count": 59,
   "id": "370adf31-5ccf-4153-bddf-8618b561e8a2",
   "metadata": {},
   "outputs": [],
   "source": [
    "df = pd.merge(ed, hh, on='uid', how='inner')  # Use 'inner' join by default\n"
   ]
  },
  {
   "cell_type": "code",
   "execution_count": 60,
   "id": "7c6d682f-4447-4c4a-8274-2e3b41685555",
   "metadata": {},
   "outputs": [],
   "source": [
    "df.to_csv('X_TEST.csv', index=False)\n"
   ]
  },
  {
   "cell_type": "code",
   "execution_count": null,
   "id": "4439f198-53cd-4765-baf2-67c619605b5d",
   "metadata": {},
   "outputs": [],
   "source": []
  },
  {
   "cell_type": "code",
   "execution_count": null,
   "id": "8f0a3d94-17a0-40cf-8473-d4c69aab2f42",
   "metadata": {},
   "outputs": [],
   "source": []
  }
 ],
 "metadata": {
  "kernelspec": {
   "display_name": "Python 3 (ipykernel)",
   "language": "python",
   "name": "python3"
  },
  "language_info": {
   "codemirror_mode": {
    "name": "ipython",
    "version": 3
   },
   "file_extension": ".py",
   "mimetype": "text/x-python",
   "name": "python",
   "nbconvert_exporter": "python",
   "pygments_lexer": "ipython3",
   "version": "3.12.7"
  }
 },
 "nbformat": 4,
 "nbformat_minor": 5
}
