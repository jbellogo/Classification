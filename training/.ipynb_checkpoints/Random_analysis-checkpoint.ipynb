{
 "cells": [
  {
   "cell_type": "markdown",
   "id": "a21dad81-570b-458f-bb4c-06bf6f6cddd1",
   "metadata": {},
   "source": [
    "# This is supplementary, \n",
    "\n",
    "stuff here is not meant to be used. It's just for analtsys and justifying some things"
   ]
  },
  {
   "cell_type": "code",
   "execution_count": null,
   "id": "f84f9b58-09ac-463d-839e-ab7b950777f2",
   "metadata": {},
   "outputs": [],
   "source": [
    "df[df['Ed_Q24'] == 999].head() # these guys are out of state\n",
    "### Out of curiosity, give me the uids and figure out how poor these guys are... let's try to determine if this variable is important \n",
    "uids = df.loc[df['Ed_Q24'] == 999, ['uid']]\n",
    "uids['uid']\n",
    "\n",
    "matching_rows = pov[pov['psu_hh_idcode'].isin(uids['uid'])]\n",
    "matching_rows   ## We don't have answers for ANY of them? huh that's interesting\n",
    "\n",
    "df['Ed_Q24'].plot(kind='hist', bins=10, edgecolor='black')\n",
    "\n",
    "## Getting rid of the 999-dist students:\n",
    "df = df.loc[df['Ed_Q24'] != 999]\n",
    "df['Ed_Q24'].plot(kind='hist', bins=15, edgecolor='black')\n",
    "df['Ed_Q24'].describe()\n",
    "# there is still an outlier kid who lives 500km away from school... woah\n",
    "uids = df.loc[df['Ed_Q24'] >= 100]  ## full truncation at 100 is fine... but the numbers are still weird!!!\n",
    "matching_rows = pov[pov['psu_hh_idcode'].isin(uids['uid'])]\n",
    "matching_rows # the\n",
    "\n",
    "\n",
    "uids = df.loc[df['Ed_Q24'] >= 10]\n",
    "matching_rows = pov[pov['psu_hh_idcode'].isin(uids['uid'])]\n",
    "matching_rows # the\n",
    "\n",
    "## scatter plot of psu_hh_idcode and Ed_Q24\n",
    "data = df.loc[df['uid'].isin(pov_scores['uid']), ['uid', 'Ed_Q24']]\n",
    "data_y = data[~data['Ed_Q24'].isna()]\n",
    "data_x = pov_scores[pov_scores['uid'].isin(data_y['uid'])]\n",
    "data_x_y = data_x.merge(data_y, on='uid', how='left')\n",
    "data_x_y\n",
    "\n",
    "import matplotlib.pyplot as plt\n",
    "\n",
    "plt.scatter(data_x_y['Ed_Q24'], data_x_y['poverty_score'], color='blue', alpha=0.7)\n",
    "## LOOKS STATIONARY!!! get rid of it."
   ]
  }
 ],
 "metadata": {
  "kernelspec": {
   "display_name": "Python 3 (ipykernel)",
   "language": "python",
   "name": "python3"
  },
  "language_info": {
   "codemirror_mode": {
    "name": "ipython",
    "version": 3
   },
   "file_extension": ".py",
   "mimetype": "text/x-python",
   "name": "python",
   "nbconvert_exporter": "python",
   "pygments_lexer": "ipython3",
   "version": "3.12.7"
  }
 },
 "nbformat": 4,
 "nbformat_minor": 5
}
